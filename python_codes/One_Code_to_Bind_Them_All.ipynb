{
 "cells": [
  {
   "cell_type": "code",
   "execution_count": 1,
   "id": "f2281940-8ad3-4b91-9eb3-71718c4dd277",
   "metadata": {},
   "outputs": [],
   "source": [
    "import ROOT\n",
    "import uproot as ur\n",
    "import os \n",
    "import glob"
   ]
  },
  {
   "cell_type": "code",
   "execution_count": 2,
   "id": "87cfc812-aa76-4979-ad49-922aee7f5258",
   "metadata": {},
   "outputs": [],
   "source": [
    "input_file_path = \"/home/chandrima/IDM_MuC/Root_files/IDM_sig_OutRoot/nunu_combine\"\n",
    "output_file_path = \"/home/chandrima/IDM_MuC/Root_files/IDM_sig_OutRoot\""
   ]
  },
  {
   "cell_type": "code",
   "execution_count": 3,
   "id": "6cb48687-212c-4a84-83d4-26c0d9897151",
   "metadata": {},
   "outputs": [],
   "source": [
    "root_files = glob.glob(input_file_path + \"/*.root\", recursive=False) "
   ]
  },
  {
   "cell_type": "code",
   "execution_count": 4,
   "id": "29bf7701-e698-43ac-b598-853ebe7a1683",
   "metadata": {},
   "outputs": [],
   "source": [
    "output_file = ROOT.TFile(output_file_path + \"/IDM_BKG_nunu_out.root\", \"RECREATE\")"
   ]
  },
  {
   "cell_type": "code",
   "execution_count": 5,
   "id": "ecca0b90-33f8-4999-8dd7-4d059ab5fe49",
   "metadata": {},
   "outputs": [],
   "source": [
    "bind = ROOT.TFileMerger(True)"
   ]
  },
  {
   "cell_type": "code",
   "execution_count": 6,
   "id": "1a6dd0c8-5aff-46d1-9e16-7f3fd1758df2",
   "metadata": {},
   "outputs": [
    {
     "name": "stderr",
     "output_type": "stream",
     "text": [
      "[TFile::Cp] Total 3301.64 MB\t|====================| 100.00 % [727.0 MB/s]\n",
      "Warning in <TClass::Init>: no dictionary for class HepMCEvent is available\n",
      "Warning in <TClass::Init>: no dictionary for class Event is available\n",
      "Warning in <TClass::Init>: no dictionary for class Weight is available\n",
      "Warning in <TClass::Init>: no dictionary for class GenParticle is available\n",
      "Warning in <TClass::Init>: no dictionary for class SortableObject is available\n",
      "Warning in <TClass::Init>: no dictionary for class Jet is available\n",
      "Warning in <TClass::Init>: no dictionary for class MissingET is available\n",
      "Warning in <TClass::Init>: no dictionary for class Track is available\n",
      "Warning in <TClass::Init>: no dictionary for class Tower is available\n",
      "Warning in <TClass::Init>: no dictionary for class Photon is available\n",
      "Warning in <TClass::Init>: no dictionary for class Electron is available\n",
      "Warning in <TClass::Init>: no dictionary for class Muon is available\n",
      "Warning in <TClass::Init>: no dictionary for class ScalarHT is available\n",
      "[TFile::Cp] Total 3291.28 MB\t|====================| 100.00 % [272.4 MB/s]\n"
     ]
    }
   ],
   "source": [
    "for i in root_files:\n",
    "    bind.AddFile(i)"
   ]
  },
  {
   "cell_type": "code",
   "execution_count": 7,
   "id": "8a470ad0-570e-4614-94fc-6b3b9f3cb9aa",
   "metadata": {},
   "outputs": [],
   "source": [
    "bind.OutputFile(output_file.GetName(), \"RECREATE\")\n",
    "bind.Merge()\n",
    "output_file.Close()"
   ]
  },
  {
   "cell_type": "code",
   "execution_count": null,
   "id": "8867e334-fa2a-4a20-ae37-22fcbdfbb4bc",
   "metadata": {},
   "outputs": [],
   "source": []
  }
 ],
 "metadata": {
  "kernelspec": {
   "display_name": "Python 3 (ipykernel)",
   "language": "python",
   "name": "python3"
  },
  "language_info": {
   "codemirror_mode": {
    "name": "ipython",
    "version": 3
   },
   "file_extension": ".py",
   "mimetype": "text/x-python",
   "name": "python",
   "nbconvert_exporter": "python",
   "pygments_lexer": "ipython3",
   "version": "3.10.12"
  }
 },
 "nbformat": 4,
 "nbformat_minor": 5
}
