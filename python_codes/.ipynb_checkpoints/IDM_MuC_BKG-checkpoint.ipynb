{
 "cells": [
  {
   "cell_type": "code",
   "execution_count": null,
   "id": "a86fbe3d-e71b-47d7-9a08-d140892aa99e",
   "metadata": {},
   "outputs": [],
   "source": [
    "import os\n",
    "import numpy as np\n",
    "import pandas as pd\n",
    "import uproot as ur\n",
    "import matplotlib.pyplot as plt\n",
    "import awkward as ak\n",
    "import vector\n",
    "import scienceplots\n",
    "plt.style.use(['science','notebook','grid'])\n",
    "import time"
   ]
  },
  {
   "cell_type": "code",
   "execution_count": null,
   "id": "1331dbea-faa4-48f7-85d7-f5a73ec96b0e",
   "metadata": {},
   "outputs": [],
   "source": [
    "file = \"/home/chandrima/IDM_MuC/Root_files/IDM_sig_OutRoot/IDM_BKG_nunu_out.root\""
   ]
  },
  {
   "cell_type": "code",
   "execution_count": null,
   "id": "9e39e760-9d2f-47c3-8cba-77a8a2615ced",
   "metadata": {},
   "outputs": [],
   "source": [
    "file1 = ur.open(file)"
   ]
  },
  {
   "cell_type": "code",
   "execution_count": null,
   "id": "654ee636-41d6-4368-bc32-ebd9d6a4d6c7",
   "metadata": {},
   "outputs": [],
   "source": [
    "print(file1.classnames())"
   ]
  },
  {
   "cell_type": "code",
   "execution_count": null,
   "id": "084ad1ae-fe44-450c-b478-1dabcb9e9575",
   "metadata": {},
   "outputs": [],
   "source": [
    "# treevent = file1[\"Delphes;1/\"]\n",
    "# treevent.show()"
   ]
  },
  {
   "cell_type": "markdown",
   "id": "4340e657-451f-48f4-887c-a9cb4e2c5e2f",
   "metadata": {},
   "source": [
    "# DEFINITIONS"
   ]
  },
  {
   "cell_type": "code",
   "execution_count": null,
   "id": "159a845a-313c-4a5d-8b3f-37ba884ac5dc",
   "metadata": {},
   "outputs": [],
   "source": [
    "def px(pt, phi):\n",
    "    return pt*(np.cos(phi))\n",
    "def py(pt, phi):\n",
    "    return pt*(np.sin(phi))\n",
    "def pz(pt, m, eta):\n",
    "    return (np.sqrt(pt**2 + m**2))*np.sinh(eta)\n",
    "def E(pt, m, eta):\n",
    "    return (np.sqrt(pt**2 + m**2))*np.cosh(eta)"
   ]
  },
  {
   "cell_type": "markdown",
   "id": "37d8550d-0452-4597-b322-0361594e8c29",
   "metadata": {},
   "source": [
    "# JET"
   ]
  },
  {
   "cell_type": "code",
   "execution_count": null,
   "id": "cfd872c8-d1fa-4361-9995-e8d191da2e85",
   "metadata": {},
   "outputs": [],
   "source": [
    "tree1 = file1[\"Delphes;1/VLCjetR05_inclusive.PT\"]\n",
    "tree2 = file1[\"Delphes;1/VLCjetR05_inclusive.Eta\"]\n",
    "tree3 = file1[\"Delphes;1/VLCjetR05_inclusive.Phi\"]\n",
    "tree4 = file1[\"Delphes;1/VLCjetR05_inclusive.Mass\"]\n",
    "tree100 = file1[\"Delphes;1/VLCjetR05_inclusive.Charge\"]\n",
    "\n",
    "tree1.show()\n",
    "tree2.show()\n",
    "tree3.show()\n",
    "tree4.show()\n",
    "tree100.show()\n",
    "a = tree1.arrays()\n",
    "b = tree2.arrays()\n",
    "c = tree3.arrays()\n",
    "d = tree4.arrays()\n",
    "z = tree100.arrays()"
   ]
  },
  {
   "cell_type": "code",
   "execution_count": null,
   "id": "7894863a-c0d7-4d2e-914f-6b4bf92bf873",
   "metadata": {},
   "outputs": [],
   "source": [
    "JPT = a[\"VLCjetR05_inclusive.PT\"]\n",
    "Jeta = b[\"VLCjetR05_inclusive.Eta\"]\n",
    "Jphi = c[\"VLCjetR05_inclusive.Phi\"]\n",
    "Jm = d[\"VLCjetR05_inclusive.Mass\"]\n",
    "Jch = z[\"VLCjetR05_inclusive.Charge\"]\n"
   ]
  },
  {
   "cell_type": "markdown",
   "id": "fa445597-89a1-4a98-ba92-45cb8bd9c8a5",
   "metadata": {},
   "source": [
    "# Jet Data Frame"
   ]
  },
  {
   "cell_type": "code",
   "execution_count": null,
   "id": "0e3aa376-cfa6-4530-b5e1-506d4a4d73d9",
   "metadata": {},
   "outputs": [],
   "source": [
    "pxj = px(JPT,Jphi).tolist()\n",
    "pyj = py(JPT,Jphi).tolist()\n",
    "pzj = pz(JPT, Jm, Jeta).tolist()\n",
    "Ej =  E(JPT, Jm, Jeta).tolist()\n",
    "jpt = JPT.tolist()\n",
    "jeta = Jeta.tolist()\n",
    "jphi = Jphi.tolist()\n",
    "jm = Jm.tolist()\n",
    "jch = Jch.tolist()"
   ]
  },
  {
   "cell_type": "code",
   "execution_count": null,
   "id": "7e33f2af-3af6-44b8-9750-f9f133dad74e",
   "metadata": {},
   "outputs": [],
   "source": [
    "numj = [len(i) for i in Ej]"
   ]
  },
  {
   "cell_type": "code",
   "execution_count": null,
   "id": "3e4fb7d2-e126-42dc-8ca6-da7f21681e7b",
   "metadata": {},
   "outputs": [],
   "source": [
    "data1 = {'jet_num': numj,'jpt':jpt, 'jeta':jeta, 'jphi':jphi,'jm':jm, 'jch':jch, 'pxj':pxj,'pyj':pyj, 'pzj':pzj,'Ej':Ej}"
   ]
  },
  {
   "cell_type": "code",
   "execution_count": null,
   "id": "0b03641b-5785-46d3-b64f-673fd894ca5c",
   "metadata": {},
   "outputs": [],
   "source": [
    "t1 = time.time()"
   ]
  },
  {
   "cell_type": "code",
   "execution_count": null,
   "id": "896fddc3-126b-4419-a6df-20f7c1b66146",
   "metadata": {},
   "outputs": [],
   "source": [
    "df_jet = pd.DataFrame(data1, index = [i for i in range(len(Ej))])\n",
    "df_jet.index = range(1, len(df_jet) + 1)\n",
    "df_jet"
   ]
  },
  {
   "cell_type": "code",
   "execution_count": null,
   "id": "5ee97288-e010-4d90-8222-e604742af0ad",
   "metadata": {},
   "outputs": [],
   "source": [
    "t2 = time.time()\n",
    "print(t2-t1)"
   ]
  },
  {
   "cell_type": "markdown",
   "id": "4fb77d29-6cac-4eee-880e-d8176fbb5ba6",
   "metadata": {},
   "source": [
    "# Electron"
   ]
  },
  {
   "cell_type": "code",
   "execution_count": null,
   "id": "3bb83ba4-3cb7-49fc-acb0-0f56175ed275",
   "metadata": {},
   "outputs": [],
   "source": [
    "tree5 = file1[\"Delphes;1/Electron.PT\"]\n",
    "tree6 = file1[\"Delphes;1/Electron.Eta\"]\n",
    "tree7 = file1[\"Delphes;1/Electron.Phi\"]\n",
    "tree101 = file1[\"Delphes;1/Electron.Charge\"]\n",
    "\n",
    "tree5.show()\n",
    "tree6.show()\n",
    "tree7.show()\n",
    "tree101.show()\n",
    "e = tree5.arrays()\n",
    "f = tree6.arrays()\n",
    "g = tree7.arrays()\n",
    "y = tree101.arrays()"
   ]
  },
  {
   "cell_type": "code",
   "execution_count": null,
   "id": "dcc31fbc-ad33-408e-ba81-e6413bb3bc06",
   "metadata": {},
   "outputs": [],
   "source": [
    "EPT = e[\"Electron.PT\"]\n",
    "Eeta = f[\"Electron.Eta\"]\n",
    "Ephi = g[\"Electron.Phi\"]\n",
    "Ech = y[\"Electron.Charge\"]"
   ]
  },
  {
   "cell_type": "markdown",
   "id": "cb627c40-27f0-43b7-a4ce-abb22e44a789",
   "metadata": {},
   "source": [
    "# Electron Data Frame"
   ]
  },
  {
   "cell_type": "code",
   "execution_count": null,
   "id": "5ee3eaa1-011c-4a23-b03e-baa46abebac1",
   "metadata": {},
   "outputs": [],
   "source": [
    "me = 0\n",
    "pxe = px(EPT,Ephi).tolist()\n",
    "pye = py(EPT,Ephi).tolist()\n",
    "pze = pz(EPT, me, Eeta).tolist()\n",
    "Ee =  E(EPT, me, Eeta).tolist()\n",
    "ept = EPT.tolist()\n",
    "eeta = Eeta.tolist()\n",
    "ephi = Ephi.tolist()\n",
    "ech = Ech.tolist()"
   ]
  },
  {
   "cell_type": "code",
   "execution_count": null,
   "id": "2b9c3003-b213-4ff9-9fa9-de33a6c31532",
   "metadata": {},
   "outputs": [],
   "source": [
    "nume = [len(i) for i in Ee]"
   ]
  },
  {
   "cell_type": "code",
   "execution_count": null,
   "id": "41b66aa4-3457-44de-8d02-7f6ac452acba",
   "metadata": {},
   "outputs": [],
   "source": [
    "data2 = {'e_num': nume,'ept':ept, 'eeta':eeta, 'ephi':ephi,'ech':ech, 'pxe':pxe,'pye':pye, 'pze':pze,'Ee':Ee}"
   ]
  },
  {
   "cell_type": "code",
   "execution_count": null,
   "id": "86f17eac-68ae-4ec4-946b-4f2c38b524f1",
   "metadata": {},
   "outputs": [],
   "source": [
    "df_e = pd.DataFrame(data2, index = [i for i in range(len(Ee))])\n",
    "df_e.index = range(1, len(df_e) + 1)\n",
    "df_e"
   ]
  },
  {
   "cell_type": "markdown",
   "id": "4340b7d5-1c13-4570-9e0e-a083820daef0",
   "metadata": {},
   "source": [
    "# Muon"
   ]
  },
  {
   "cell_type": "code",
   "execution_count": null,
   "id": "a521c920-ca19-4ce3-9354-52e1603516cc",
   "metadata": {},
   "outputs": [],
   "source": [
    "tree8 = file1[\"Delphes;1/Muon.PT\"]\n",
    "tree9 = file1[\"Delphes;1/Muon.Eta\"]\n",
    "tree10 = file1[\"Delphes;1/Muon.Phi\"]\n",
    "tree102 = file1[\"Delphes;1/Muon.Charge\"]\n",
    "\n",
    "\n",
    "tree8.show()\n",
    "tree9.show()\n",
    "tree10.show()\n",
    "tree102.show()\n",
    "k = tree8.arrays()\n",
    "l = tree9.arrays()\n",
    "m = tree10.arrays()\n",
    "x = tree102.arrays()\n"
   ]
  },
  {
   "cell_type": "code",
   "execution_count": null,
   "id": "77fc459d-28d7-4ea3-8960-e56d24be08d5",
   "metadata": {},
   "outputs": [],
   "source": [
    "Mpt = k[\"Muon.PT\"]\n",
    "MEta = l[\"Muon.Eta\"]\n",
    "Mphi = m[\"Muon.Phi\"]\n",
    "Mch = x[\"Muon.Charge\"]"
   ]
  },
  {
   "cell_type": "markdown",
   "id": "069c36a2-bec7-4f47-b439-9e537053eef1",
   "metadata": {},
   "source": [
    "# Muon Data Frame"
   ]
  },
  {
   "cell_type": "code",
   "execution_count": null,
   "id": "949f9291-8ddf-402b-abcb-56520d691fe0",
   "metadata": {},
   "outputs": [],
   "source": [
    "mm = 0\n",
    "pxm = px(Mpt,Mphi).tolist()\n",
    "pym = py(Mpt,Mphi).tolist()\n",
    "pzm = pz(Mpt, mm, MEta).tolist()\n",
    "Em =  E(Mpt, mm, MEta).tolist()\n",
    "mpt = Mpt.tolist()\n",
    "meta = MEta.tolist()\n",
    "mphi = Mphi.tolist()\n",
    "mch = Mch.tolist()"
   ]
  },
  {
   "cell_type": "code",
   "execution_count": null,
   "id": "93f281a0-d0e8-482d-9fef-b04162354a3f",
   "metadata": {},
   "outputs": [],
   "source": [
    "numm = [len(i) for i in Em]"
   ]
  },
  {
   "cell_type": "code",
   "execution_count": null,
   "id": "c9293418-5e79-4ecf-9b1f-00d55be675e2",
   "metadata": {},
   "outputs": [],
   "source": [
    "data3 = {'m_num': numm,'mpt':mpt, 'meta':meta, 'mphi':mphi,'mch':mch, 'pxm':pxm,'pym':pym, 'pzm':pzm,'Em':Em}"
   ]
  },
  {
   "cell_type": "code",
   "execution_count": null,
   "id": "3159ec18-4021-4313-a765-d02609860114",
   "metadata": {},
   "outputs": [],
   "source": [
    "df_m = pd.DataFrame(data3, index = [i for i in range(len(Em))])\n",
    "df_m.index = range(1, len(df_m) + 1)\n",
    "df_m"
   ]
  },
  {
   "cell_type": "markdown",
   "id": "1bed2572-b547-4949-b2fc-a65880d4794e",
   "metadata": {},
   "source": [
    "# Photon"
   ]
  },
  {
   "cell_type": "code",
   "execution_count": null,
   "id": "8d9751d2-9ba6-4e2f-86d1-63cc42e62272",
   "metadata": {},
   "outputs": [],
   "source": [
    "tree11 = file1[\"Delphes;1/Photon.PT\"]\n",
    "tree12 = file1[\"Delphes;1/Photon.Eta\"]\n",
    "tree13 = file1[\"Delphes;1/Photon.Phi\"]\n",
    "\n",
    "tree11.show()\n",
    "tree12.show()\n",
    "tree13.show()\n",
    "n = tree11.arrays()\n",
    "o = tree12.arrays()\n",
    "p = tree13.arrays()\n"
   ]
  },
  {
   "cell_type": "code",
   "execution_count": null,
   "id": "bb6c07f9-77dc-43bd-95f9-ed19468a6a23",
   "metadata": {},
   "outputs": [],
   "source": [
    "Ppt = n[\"Photon.PT\"]\n",
    "Peta = o[\"Photon.Eta\"]\n",
    "Pphi = p[\"Photon.Phi\"]"
   ]
  },
  {
   "cell_type": "markdown",
   "id": "e9af974d-8f5e-46b1-b7ab-3204b639dd1d",
   "metadata": {},
   "source": [
    "# Photon Data Frame"
   ]
  },
  {
   "cell_type": "code",
   "execution_count": null,
   "id": "aa832c44-bebf-435a-bd44-f3f217956455",
   "metadata": {},
   "outputs": [],
   "source": [
    "mp = 0\n",
    "pxp = px(Ppt,Pphi).tolist()\n",
    "pyp = py(Ppt,Pphi).tolist()\n",
    "pzp = pz(Ppt,mp, Peta).tolist()\n",
    "Ep =  E(Ppt,mp, Peta).tolist()\n",
    "ppt = Ppt.tolist()\n",
    "peta = Peta.tolist()\n",
    "pphi = Pphi.tolist()"
   ]
  },
  {
   "cell_type": "code",
   "execution_count": null,
   "id": "a1ad168b-d6c0-4cfc-912b-2799f6701c44",
   "metadata": {},
   "outputs": [],
   "source": [
    "nump = [len(i) for i in Ep]"
   ]
  },
  {
   "cell_type": "code",
   "execution_count": null,
   "id": "9e37fa2d-8e26-4c66-9c7f-a44482901807",
   "metadata": {},
   "outputs": [],
   "source": [
    "data4 = {'p_num': nump,'ppt':ppt, 'peta':peta, 'pphi':pphi, 'pxp':pxp,'pyp':pyp, 'pzp':pzp,'Ep':Ep}"
   ]
  },
  {
   "cell_type": "code",
   "execution_count": null,
   "id": "fc07c4cc-f925-4626-b14a-861773d7a1f7",
   "metadata": {},
   "outputs": [],
   "source": [
    "df_p = pd.DataFrame(data4, index = [i for i in range(len(Ep))])\n",
    "df_p.index = range(1, len(df_p) + 1)\n",
    "df_p"
   ]
  },
  {
   "cell_type": "markdown",
   "id": "7cf8ea01-b6eb-4e00-b064-bb523e5b1af8",
   "metadata": {},
   "source": [
    "# Forward_Muon"
   ]
  },
  {
   "cell_type": "code",
   "execution_count": null,
   "id": "9a4a996c-32e5-4012-9520-dfd46ce339a9",
   "metadata": {},
   "outputs": [],
   "source": [
    "tree14 = file1[\"Delphes;1/ForwardMuon.PT\"]\n",
    "tree15 = file1[\"Delphes;1/ForwardMuon.Eta\"]\n",
    "tree16 = file1[\"Delphes;1/ForwardMuon.Phi\"]\n",
    "tree17 = file1[\"Delphes;1/ForwardMuon.Charge\"]\n",
    "\n",
    "\n",
    "tree14.show()\n",
    "tree15.show()\n",
    "tree16.show()\n",
    "tree17.show()\n",
    "q = tree14.arrays()\n",
    "r = tree15.arrays()\n",
    "s = tree16.arrays()\n",
    "t = tree17.arrays()"
   ]
  },
  {
   "cell_type": "code",
   "execution_count": null,
   "id": "f0552d39-71dc-47b5-9f99-341ba26cc013",
   "metadata": {},
   "outputs": [],
   "source": [
    "FMpt = q[\"ForwardMuon.PT\"]\n",
    "FMEta = r[\"ForwardMuon.Eta\"]\n",
    "FMphi = s[\"ForwardMuon.Phi\"]\n",
    "FMch = t[\"ForwardMuon.Charge\"]"
   ]
  },
  {
   "cell_type": "markdown",
   "id": "e4efd1b0-95d8-441f-9783-dfe1f4dc8b13",
   "metadata": {},
   "source": [
    "# Forward Muon Data Frame"
   ]
  },
  {
   "cell_type": "code",
   "execution_count": null,
   "id": "d05fe6cd-930b-4ddc-86bf-ed9f111fa476",
   "metadata": {},
   "outputs": [],
   "source": [
    "Fmm = 0\n",
    "pxfm = px(FMpt,FMphi).tolist()\n",
    "pyfm = py(FMpt,FMphi).tolist()\n",
    "pzfm = pz(FMpt,Fmm, FMEta).tolist()\n",
    "Efm =  E(FMpt, Fmm, FMEta).tolist()\n",
    "fmpt = FMpt.tolist()\n",
    "fmeta = FMEta.tolist()\n",
    "fmphi = FMphi.tolist()\n",
    "fmch = FMch.tolist()"
   ]
  },
  {
   "cell_type": "code",
   "execution_count": null,
   "id": "9f73ddcf-985b-4d6d-ac4d-9a1a41d91b45",
   "metadata": {},
   "outputs": [],
   "source": [
    "numfm = [len(i) for i in Efm]"
   ]
  },
  {
   "cell_type": "code",
   "execution_count": null,
   "id": "27cac1be-aa25-460b-8d3b-415c8cae813f",
   "metadata": {},
   "outputs": [],
   "source": [
    "data5 = {'fm_num': numfm,'fmpt':fmpt, 'fmeta':fmeta, 'fmphi':fmphi, 'fmch': fmch, 'pxfm':pxfm,'pyfm':pyfm, 'pzfm':pzfm,'Efm':Efm}"
   ]
  },
  {
   "cell_type": "code",
   "execution_count": null,
   "id": "53070f07-9be0-4d15-b86f-e4b7fd439f5c",
   "metadata": {},
   "outputs": [],
   "source": [
    "df_fm = pd.DataFrame(data5, index = [i for i in range(len(Efm))])\n",
    "df_fm.index = range(1, len(df_fm) + 1)\n",
    "df_fm"
   ]
  },
  {
   "cell_type": "markdown",
   "id": "a4939a07-6e5b-4b5c-9b8a-c9f70b04559d",
   "metadata": {},
   "source": [
    "# MERGED DATA FRAME"
   ]
  },
  {
   "cell_type": "code",
   "execution_count": null,
   "id": "2f95f428-b4e4-48df-803d-72b7c045a4a1",
   "metadata": {},
   "outputs": [],
   "source": [
    "t1 = time.time()\n",
    "big_df = pd.concat([df_jet, df_e, df_m, df_p, df_fm], axis=1)\n",
    "big_df\n",
    "t2= time.time()\n",
    "print(t2-t1)"
   ]
  },
  {
   "cell_type": "markdown",
   "id": "fcd5dbad-c550-4f5f-ae60-bbbfb92a4b24",
   "metadata": {},
   "source": [
    "# Triggers"
   ]
  },
  {
   "cell_type": "code",
   "execution_count": null,
   "id": "dc705fd2-330c-4b9d-b8bf-b783ee021738",
   "metadata": {},
   "outputs": [],
   "source": [
    "# 1. Two forward Muons\n",
    "big_df2 = big_df[big_df['fm_num'] == 2]"
   ]
  },
  {
   "cell_type": "code",
   "execution_count": null,
   "id": "4b09dd52-8f03-402a-bfdf-6fdf83d33678",
   "metadata": {},
   "outputs": [],
   "source": [
    "# 2. eta1 eta2 product less than zero\n",
    "big_df3 = big_df2[big_df2['fmeta'].apply(lambda x: (x[0] * x[1]) < 0)]\n",
    "# big_df3[big_df3['Efm'].apply(lambda x: any(i < 500 for i in x))]\n"
   ]
  },
  {
   "cell_type": "code",
   "execution_count": null,
   "id": "eb91d0ce-e65e-4cef-b7fa-3a69a1ed32ca",
   "metadata": {},
   "outputs": [],
   "source": [
    "len(big_df3)"
   ]
  },
  {
   "cell_type": "code",
   "execution_count": null,
   "id": "280be069-3009-4341-a436-10c7d77304e7",
   "metadata": {},
   "outputs": [],
   "source": [
    "# 3. Energy of forward muons greater than 500 GeV\n",
    "big_df4 = big_df3[big_df3['Efm'].apply(lambda x: x[0] > 500 and x[1] > 500)]\n",
    "#big_df4 = big_df3[big_df3['Efm'].apply(lambda x: all(i > 500 for i in x))]\n",
    "len(big_df4)"
   ]
  },
  {
   "cell_type": "code",
   "execution_count": null,
   "id": "1e3f5b67",
   "metadata": {},
   "outputs": [],
   "source": [
    "big_df5 = big_df4[big_df4['Efm'].apply(lambda x: (x[0] + x[1]) <= 10000)]\n",
    "len(big_df5)"
   ]
  },
  {
   "cell_type": "markdown",
   "id": "ee49a68d-bcc7-42a9-b392-9c298fc0d176",
   "metadata": {},
   "source": [
    "# # Observables!"
   ]
  },
  {
   "cell_type": "markdown",
   "id": "7bc0c883-3fc8-4c7b-8a96-afadbf074107",
   "metadata": {},
   "source": [
    "# 1) Invariant Mass"
   ]
  },
  {
   "cell_type": "code",
   "execution_count": null,
   "id": "08814e47-7449-4b06-80a2-45a8f013a8da",
   "metadata": {},
   "outputs": [],
   "source": [
    "def mm(Efm, pxfm, pyfm, pzfm):\n",
    "    return np.sqrt((Efm[:,0]+Efm[:,1])**2 - (pxfm[:,0]+pxfm[:,1])**2 - (pyfm[:,0]+pyfm[:,1])**2 - (pzfm[:,0]+pzfm[:,1])**2)"
   ]
  },
  {
   "cell_type": "code",
   "execution_count": null,
   "id": "c19f441a-a2f0-49f6-a93b-c71d9b9ce40c",
   "metadata": {},
   "outputs": [],
   "source": [
    "Efm2 = np.array(big_df5['Efm'].tolist())\n",
    "pxfm2 = np.array(big_df5['pxfm'].tolist())\n",
    "pyfm2 = np.array(big_df5['pyfm'].tolist())\n",
    "pzfm2 = np.array(big_df5['pzfm'].tolist())"
   ]
  },
  {
   "cell_type": "markdown",
   "id": "36cee9e3-a63f-451f-8e11-09ec4b391516",
   "metadata": {},
   "source": [
    "# Plotting the Invariant Mass of two Forward Muons"
   ]
  },
  {
   "cell_type": "code",
   "execution_count": null,
   "id": "0944058f-95a8-419e-a36e-6445632d6dd5",
   "metadata": {},
   "outputs": [],
   "source": [
    "invM = mm(Efm2, pxfm2, pyfm2, pzfm2)\n",
    "invM"
   ]
  },
  {
   "cell_type": "code",
   "execution_count": null,
   "id": "92b11f3c-4a25-4c19-9ea0-e8f6d054167a",
   "metadata": {},
   "outputs": [],
   "source": [
    "df_results = pd.DataFrame({'Invariant_Mass': invM})"
   ]
  },
  {
   "cell_type": "code",
   "execution_count": null,
   "id": "dcf948f3-9f9b-4759-91e4-26fb72406426",
   "metadata": {},
   "outputs": [],
   "source": [
    "plt.figure(figsize=(10,7))\n",
    "plt.hist(invM, histtype = 'step', bins = 50)\n",
    "plt.show()"
   ]
  },
  {
   "cell_type": "markdown",
   "id": "b3b446ec-175d-42ac-b92c-cd16b15559ab",
   "metadata": {},
   "source": [
    "# 2) Missing Invariant Mass (MIM) "
   ]
  },
  {
   "cell_type": "code",
   "execution_count": null,
   "id": "d189dd2f-5cc2-4753-801b-d1dc12142069",
   "metadata": {},
   "outputs": [],
   "source": [
    "def delP_sq(Eb, Emu, Pxm, Pym, Pzm):\n",
    "\n",
    "    return np.abs(4*Eb**2 - 4*Eb*(Emu[:,0]+Emu[:,1]) + 2*(Emu[:,0]*Emu[:,1] - (Pxm[:,0]*Pxm[:,1] + Pym[:,0]*Pym[:,1] + Pzm[:,0]*Pzm[:,1])) + (Emu[:,0]**2 - (Pxm[:,0]**2 + Pym[:,0]**2 + Pzm[:,0]**2)) + (Emu[:,1]**2 - (Pxm[:,1]**2 + Pym[:,1]**2 + Pzm[:,1]**2)))\n"
   ]
  },
  {
   "cell_type": "code",
   "execution_count": null,
   "id": "b153d3c0",
   "metadata": {},
   "outputs": [],
   "source": [
    "delp_sq2 = delP_sq(5000, Efm2, pxfm2, pyfm2, pzfm2) "
   ]
  },
  {
   "cell_type": "code",
   "execution_count": null,
   "id": "fc7d4ab8",
   "metadata": {},
   "outputs": [],
   "source": [
    "MIM2 = np.sqrt(delp_sq2)"
   ]
  },
  {
   "cell_type": "code",
   "execution_count": null,
   "id": "218f87eb-78df-43da-869e-6405af76d785",
   "metadata": {},
   "outputs": [],
   "source": [
    "df_results['MIM'] = MIM2"
   ]
  },
  {
   "cell_type": "code",
   "execution_count": null,
   "id": "dda9c4d6",
   "metadata": {},
   "outputs": [],
   "source": [
    "plt.figure(figsize=(10,7))\n",
    "plt.hist(MIM2, histtype = 'step', bins = 50)\n",
    "plt.show()"
   ]
  },
  {
   "cell_type": "markdown",
   "id": "69d2d947-c951-4bda-a573-0328042893ba",
   "metadata": {},
   "source": [
    "# 3) Eta_Distribution"
   ]
  },
  {
   "cell_type": "code",
   "execution_count": null,
   "id": "1d63ea3f-b7b1-47ab-83d2-33398b6ff4f5",
   "metadata": {},
   "outputs": [],
   "source": [
    "fmeta2 = np.array(big_df5['fmeta'].tolist())\n",
    "fmphi2 = np.array(big_df5['fmphi'].tolist())\n",
    "fmpt2 = np.array(big_df5['fmpt'].tolist())"
   ]
  },
  {
   "cell_type": "code",
   "execution_count": null,
   "id": "e341b68c-7d95-40ce-a712-42e4abfed7d6",
   "metadata": {},
   "outputs": [],
   "source": [
    "fmeta3 = big_df5['fmeta'].reset_index(drop=True)\n",
    "df_results['fmeta'] = fmeta3"
   ]
  },
  {
   "cell_type": "code",
   "execution_count": null,
   "id": "18779137-851d-4e48-bc93-469b5a8ce57e",
   "metadata": {},
   "outputs": [],
   "source": [
    "fmeta2"
   ]
  },
  {
   "cell_type": "code",
   "execution_count": null,
   "id": "37aab21f-2100-4c1c-886e-853e4a47d36b",
   "metadata": {},
   "outputs": [],
   "source": [
    "plt.figure(figsize=(10,7))\n",
    "plt.hist(fmeta2, histtype = 'step', bins =50)\n",
    "plt.show()"
   ]
  },
  {
   "cell_type": "markdown",
   "id": "4539c1ee-4293-44e7-9db9-6925ec809f24",
   "metadata": {},
   "source": [
    "# 4) Delta_Eta"
   ]
  },
  {
   "cell_type": "code",
   "execution_count": null,
   "id": "65b843cc-d223-4fc8-8f7d-df3a6f08eab3",
   "metadata": {},
   "outputs": [],
   "source": [
    "def deltaeta(eta):\n",
    "    return np.abs((eta[:,0]) - (eta[:,1]))"
   ]
  },
  {
   "cell_type": "code",
   "execution_count": null,
   "id": "e0479ced-c2ec-4859-9e8f-e9c3f84dc043",
   "metadata": {},
   "outputs": [],
   "source": [
    "deleta2 = deltaeta(fmeta2)"
   ]
  },
  {
   "cell_type": "code",
   "execution_count": null,
   "id": "d71ff795-8936-4964-8d11-74e9f567791e",
   "metadata": {},
   "outputs": [],
   "source": [
    "df_results['del_fmeta'] = deleta2"
   ]
  },
  {
   "cell_type": "markdown",
   "id": "daaa5a44-2d19-4768-b92e-377ad37a7be5",
   "metadata": {},
   "source": [
    "# Plotting"
   ]
  },
  {
   "cell_type": "code",
   "execution_count": null,
   "id": "36af13b0-3cc6-4b4a-9f27-10c0ce92f665",
   "metadata": {},
   "outputs": [],
   "source": [
    "plt.figure(figsize=(10,7))\n",
    "plt.hist(deleta2, histtype = 'step', bins =50)\n",
    "plt.show()"
   ]
  },
  {
   "cell_type": "markdown",
   "id": "20c7f5e2-0269-49ab-b4af-f044a5c87d2b",
   "metadata": {},
   "source": [
    "# 5) Delta_PHI"
   ]
  },
  {
   "cell_type": "code",
   "execution_count": null,
   "id": "6d265576-7421-4536-a411-b6bec4eec2fc",
   "metadata": {},
   "outputs": [],
   "source": [
    "def delphi(phi):\n",
    "    del_phi = phi[:, 0] - phi[:, 1]\n",
    "    del_phi = np.where(del_phi >= -np.pi, del_phi, del_phi + 2 * np.pi)\n",
    "    del_phi = np.where(del_phi <= np.pi, del_phi, del_phi - 2 * np.pi)\n",
    "    \n",
    "    return del_phi"
   ]
  },
  {
   "cell_type": "code",
   "execution_count": null,
   "id": "32c68296-2975-4eb6-845f-c537aff1ccce",
   "metadata": {},
   "outputs": [],
   "source": [
    "delphi2 = delphi(fmphi2)"
   ]
  },
  {
   "cell_type": "code",
   "execution_count": null,
   "id": "2ec7a942-a530-47e8-999b-9a9cbf6c3bb1",
   "metadata": {},
   "outputs": [],
   "source": [
    "df_results['del_phi'] = delphi2"
   ]
  },
  {
   "cell_type": "code",
   "execution_count": null,
   "id": "32c25e03-f15d-4e9b-bea4-61d234ff9203",
   "metadata": {},
   "outputs": [],
   "source": [
    "plt.figure(figsize=(10, 7))  \n",
    "plt.hist(delphi2, bins=50, color='blue', alpha=0.7, histtype = 'step')\n",
    "plt.show()"
   ]
  },
  {
   "cell_type": "markdown",
   "id": "118c65c9-632d-490e-a20e-f577658db21a",
   "metadata": {},
   "source": [
    "# 6) Delta_R"
   ]
  },
  {
   "cell_type": "code",
   "execution_count": null,
   "id": "ad5746ac-767d-47bb-acda-d1dfdaf0e8ce",
   "metadata": {},
   "outputs": [],
   "source": [
    "def delR(delPhi, delEta):\n",
    "    return np.sqrt(delphi**2 + delEta**2)"
   ]
  },
  {
   "cell_type": "code",
   "execution_count": null,
   "id": "e7f5e6a4-f315-4fa3-b409-975ca2c2ba17",
   "metadata": {},
   "outputs": [],
   "source": [
    "delRfm = np.sqrt(delphi2**2 + deleta2**2)"
   ]
  },
  {
   "cell_type": "code",
   "execution_count": null,
   "id": "21a62292-c8fe-4596-a02a-5f0a1a23f4dd",
   "metadata": {},
   "outputs": [],
   "source": [
    "df_results['delR_fm'] = delRfm"
   ]
  },
  {
   "cell_type": "code",
   "execution_count": null,
   "id": "73b3db71-5564-428a-a085-23ef120bec05",
   "metadata": {},
   "outputs": [],
   "source": [
    "plt.figure(figsize=(10, 7))  \n",
    "plt.hist(delRfm, bins=50, color='blue', alpha=0.7, histtype = 'step')\n",
    "plt.show()"
   ]
  },
  {
   "cell_type": "markdown",
   "id": "28d411f8-52a1-43eb-b732-0637abb75974",
   "metadata": {},
   "source": [
    "# 7) Energy of Forward Muons"
   ]
  },
  {
   "cell_type": "code",
   "execution_count": null,
   "id": "def27371-7f81-4fd1-ab45-9794db32e5b6",
   "metadata": {},
   "outputs": [],
   "source": [
    "Emin = np.min(Efm2, axis=1).reshape(-1,1)"
   ]
  },
  {
   "cell_type": "code",
   "execution_count": null,
   "id": "f2f261fd-6c0b-4a55-8b7d-22057808d507",
   "metadata": {},
   "outputs": [],
   "source": [
    "Emax = np.max(Efm2, axis=1).reshape(-1,1)"
   ]
  },
  {
   "cell_type": "code",
   "execution_count": null,
   "id": "22b21969",
   "metadata": {},
   "outputs": [],
   "source": [
    "totE = np.sum(Efm2, axis = 1).reshape(-1,1)"
   ]
  },
  {
   "cell_type": "code",
   "execution_count": null,
   "id": "40803924-19b6-42c1-bd15-09f0e6130e6e",
   "metadata": {},
   "outputs": [],
   "source": [
    "df_results['Emin_fm'] = Emin\n",
    "df_results['Emax_fm'] = Emax\n",
    "df_results['totE_fm'] = totE"
   ]
  },
  {
   "cell_type": "code",
   "execution_count": null,
   "id": "6e094e4a-1e9d-4d94-8423-1bf6e07f5c53",
   "metadata": {},
   "outputs": [],
   "source": [
    "plt.figure(figsize=(10, 7))  \n",
    "plt.hist(Emin, bins=50, color='blue', alpha=0.7, histtype = 'step')\n",
    "plt.hist(Emax, bins=50, color='red', alpha=0.7, histtype = 'step')\n",
    "plt.hist(totE, bins=50, color='cyan', alpha=0.7, histtype = 'step')\n",
    "plt.show()"
   ]
  },
  {
   "cell_type": "markdown",
   "id": "ce32ae63-18e1-4430-ac65-f8bb7240ed1c",
   "metadata": {},
   "source": [
    "# 8) P_T of forward muons"
   ]
  },
  {
   "cell_type": "code",
   "execution_count": null,
   "id": "8f2a55c4-c882-44f6-90af-a0d2861f7261",
   "metadata": {},
   "outputs": [],
   "source": [
    "def PTMu(px, py):\n",
    "    return np.sqrt((px[:,0] + px[:,1])**2 +(py[:,0] + py[:,1])**2)"
   ]
  },
  {
   "cell_type": "code",
   "execution_count": null,
   "id": "c5301a25-fbf4-416d-93f3-148f7418a747",
   "metadata": {},
   "outputs": [],
   "source": [
    "ptmu = PTMu(pxfm2, pyfm2)"
   ]
  },
  {
   "cell_type": "code",
   "execution_count": null,
   "id": "c0f6524f-2052-4892-834b-63e958414f2d",
   "metadata": {},
   "outputs": [],
   "source": [
    "df_results['PT_fm'] = ptmu"
   ]
  },
  {
   "cell_type": "code",
   "execution_count": null,
   "id": "4322aa85-db10-47da-897b-47fd7c96c547",
   "metadata": {},
   "outputs": [],
   "source": [
    "plt.figure(figsize=(10, 7))\n",
    "plt.hist(ptmu, histtype = 'step', bins =50)\n",
    "plt.show()"
   ]
  },
  {
   "cell_type": "markdown",
   "id": "5891a5c0-8c4b-4f3d-8d41-11fed373f9e3",
   "metadata": {},
   "source": [
    "# 9) Missing Transverse Energy MET"
   ]
  },
  {
   "cell_type": "code",
   "execution_count": null,
   "id": "e32da2c9-8d24-4bf9-bfa3-a53525fc1095",
   "metadata": {},
   "outputs": [],
   "source": [
    "pxj2 = big_df5['pxj'].tolist()\n",
    "pyj2 = big_df5['pyj'].tolist()\n",
    "pxe2 = big_df5['pxe'].tolist()\n",
    "pye2 = big_df5['pye'].tolist()\n",
    "pxm2 = big_df5['pxm'].tolist()\n",
    "pym2 = big_df5['pym'].tolist()\n",
    "pxp2 = big_df5['pxp'].tolist()\n",
    "pyp2 = big_df5['pyp'].tolist()\n",
    "pxfm3 = big_df5['pxfm'].tolist()\n",
    "pyfm3 = big_df5['pyfm'].tolist()"
   ]
  },
  {
   "cell_type": "code",
   "execution_count": null,
   "id": "8d8e2ed2-07e9-42ef-a290-985cdb4bfb4e",
   "metadata": {},
   "outputs": [],
   "source": [
    "tpx = ak.concatenate([pxj2, pxe2, pxm2, pxp2, pxfm2], axis=1)\n",
    "tpy = ak.concatenate([pyj2, pye2, pym2, pyp2, pyfm2], axis=1)"
   ]
  },
  {
   "cell_type": "code",
   "execution_count": null,
   "id": "8cca13f9-b6df-4bb3-99aa-76e57da5c526",
   "metadata": {},
   "outputs": [],
   "source": [
    "sum_px = ak.sum(tpx, axis=1)\n",
    "sum_py = ak.sum(tpy, axis=1)"
   ]
  },
  {
   "cell_type": "code",
   "execution_count": null,
   "id": "10bddd24-1faf-49b4-8bac-b55ae8471ba5",
   "metadata": {},
   "outputs": [],
   "source": [
    "MET = np.sqrt(sum_px**2 + sum_py**2)"
   ]
  },
  {
   "cell_type": "code",
   "execution_count": null,
   "id": "55d7cc58-b72c-4b45-89fa-45d49109105f",
   "metadata": {},
   "outputs": [],
   "source": [
    "df_results['MET'] = MET"
   ]
  },
  {
   "cell_type": "code",
   "execution_count": null,
   "id": "9d29d6ee-67dc-45b4-87bd-6a2d58727f25",
   "metadata": {},
   "outputs": [],
   "source": [
    "plt.figure(figsize=(10, 7))  \n",
    "plt.hist(MET, bins=50, histtype ='step')\n",
    "plt.show()"
   ]
  },
  {
   "cell_type": "markdown",
   "id": "962b0bf7-dbb2-421c-af8b-87b0483be6f2",
   "metadata": {},
   "source": [
    "# Saving the data frames"
   ]
  },
  {
   "cell_type": "code",
   "execution_count": null,
   "id": "4f85ee0f-edd6-42a8-a92a-2503a25dee27",
   "metadata": {},
   "outputs": [],
   "source": [
    "df_results.to_pickle('/home/chandrima/IDM_MuC/Results/IDM_BKG_nunu_dist.pkl')"
   ]
  },
  {
   "cell_type": "code",
   "execution_count": null,
   "id": "6fc7e025-7345-4388-8857-622d19407e72",
   "metadata": {},
   "outputs": [],
   "source": [
    "big_df5.to_pickle('/home/chandrima/IDM_MuC/Results/IDM_BKG_nunu_param.pkl')"
   ]
  },
  {
   "cell_type": "code",
   "execution_count": null,
   "id": "2198cc9e-508c-4497-ac42-e0fc411c4442",
   "metadata": {},
   "outputs": [],
   "source": [
    "# # 4. No leptons and Jets in Central region (Missing Energy)\n",
    "# big_df5 = big_df4[(big_df4['jet_num'] == 0) & (big_df4['e_num'] == 0) & (big_df4['m_num'] == 0)]\n",
    "# len(big_df5)"
   ]
  }
 ],
 "metadata": {
  "kernelspec": {
   "display_name": "Python 3 (ipykernel)",
   "language": "python",
   "name": "python3"
  },
  "language_info": {
   "codemirror_mode": {
    "name": "ipython",
    "version": 3
   },
   "file_extension": ".py",
   "mimetype": "text/x-python",
   "name": "python",
   "nbconvert_exporter": "python",
   "pygments_lexer": "ipython3",
   "version": "3.10.12"
  }
 },
 "nbformat": 4,
 "nbformat_minor": 5
}
