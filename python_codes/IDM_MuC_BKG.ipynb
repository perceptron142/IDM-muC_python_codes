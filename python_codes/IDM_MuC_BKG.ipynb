{
 "cells": [
  {
   "cell_type": "code",
   "execution_count": 1,
   "id": "a86fbe3d-e71b-47d7-9a08-d140892aa99e",
   "metadata": {},
   "outputs": [],
   "source": [
    "import os\n",
    "import numpy as np\n",
    "import pandas as pd\n",
    "import uproot as ur\n",
    "import matplotlib.pyplot as plt\n",
    "import awkward as ak\n",
    "import vector\n",
    "import scienceplots\n",
    "plt.style.use(['science','notebook','grid'])\n",
    "import time"
   ]
  },
  {
   "cell_type": "code",
   "execution_count": 2,
   "id": "16064dbc",
   "metadata": {},
   "outputs": [],
   "source": [
    "t1 = time.time()"
   ]
  },
  {
   "cell_type": "code",
   "execution_count": 3,
   "id": "1331dbea-faa4-48f7-85d7-f5a73ec96b0e",
   "metadata": {},
   "outputs": [],
   "source": [
    "file = \"/home/chandrima/IDM_MuC/Root_files/IDM_sig_OutRoot/IDM_BKG_nunu_out.root\""
   ]
  },
  {
   "cell_type": "code",
   "execution_count": 4,
   "id": "9e39e760-9d2f-47c3-8cba-77a8a2615ced",
   "metadata": {},
   "outputs": [],
   "source": [
    "file1 = ur.open(file)"
   ]
  },
  {
   "cell_type": "code",
   "execution_count": 5,
   "id": "654ee636-41d6-4368-bc32-ebd9d6a4d6c7",
   "metadata": {},
   "outputs": [
    {
     "name": "stdout",
     "output_type": "stream",
     "text": [
      "{'ProcessID0;1': 'TProcessID', 'ProcessID1;1': 'TProcessID', 'ProcessID2;1': 'TProcessID', 'ProcessID3;1': 'TProcessID', 'ProcessID4;1': 'TProcessID', 'ProcessID5;1': 'TProcessID', 'ProcessID6;1': 'TProcessID', 'ProcessID7;1': 'TProcessID', 'ProcessID8;1': 'TProcessID', 'ProcessID9;1': 'TProcessID', 'ProcessID10;1': 'TProcessID', 'ProcessID11;1': 'TProcessID', 'ProcessID12;1': 'TProcessID', 'ProcessID13;1': 'TProcessID', 'ProcessID14;1': 'TProcessID', 'ProcessID15;1': 'TProcessID', 'ProcessID16;1': 'TProcessID', 'ProcessID17;1': 'TProcessID', 'ProcessID18;1': 'TProcessID', 'ProcessID19;1': 'TProcessID', 'ProcessID20;1': 'TProcessID', 'ProcessID21;1': 'TProcessID', 'ProcessID22;1': 'TProcessID', 'ProcessID23;1': 'TProcessID', 'ProcessID24;1': 'TProcessID', 'ProcessID25;1': 'TProcessID', 'ProcessID26;1': 'TProcessID', 'ProcessID27;1': 'TProcessID', 'ProcessID28;1': 'TProcessID', 'ProcessID29;1': 'TProcessID', 'ProcessID30;1': 'TProcessID', 'ProcessID31;1': 'TProcessID', 'ProcessID32;1': 'TProcessID', 'ProcessID33;1': 'TProcessID', 'ProcessID34;1': 'TProcessID', 'ProcessID35;1': 'TProcessID', 'ProcessID36;1': 'TProcessID', 'ProcessID37;1': 'TProcessID', 'ProcessID38;1': 'TProcessID', 'ProcessID39;1': 'TProcessID', 'ProcessID40;1': 'TProcessID', 'ProcessID41;1': 'TProcessID', 'ProcessID42;1': 'TProcessID', 'ProcessID43;1': 'TProcessID', 'ProcessID44;1': 'TProcessID', 'ProcessID45;1': 'TProcessID', 'ProcessID46;1': 'TProcessID', 'ProcessID47;1': 'TProcessID', 'ProcessID48;1': 'TProcessID', 'ProcessID49;1': 'TProcessID', 'ProcessID50;1': 'TProcessID', 'ProcessID51;1': 'TProcessID', 'ProcessID52;1': 'TProcessID', 'ProcessID53;1': 'TProcessID', 'ProcessID54;1': 'TProcessID', 'ProcessID55;1': 'TProcessID', 'ProcessID56;1': 'TProcessID', 'ProcessID57;1': 'TProcessID', 'ProcessID58;1': 'TProcessID', 'ProcessID59;1': 'TProcessID', 'ProcessID60;1': 'TProcessID', 'ProcessID61;1': 'TProcessID', 'ProcessID62;1': 'TProcessID', 'ProcessID63;1': 'TProcessID', 'ProcessID64;1': 'TProcessID', 'ProcessID65;1': 'TProcessID', 'ProcessID66;1': 'TProcessID', 'ProcessID67;1': 'TProcessID', 'ProcessID68;1': 'TProcessID', 'ProcessID69;1': 'TProcessID', 'ProcessID70;1': 'TProcessID', 'ProcessID71;1': 'TProcessID', 'ProcessID72;1': 'TProcessID', 'ProcessID73;1': 'TProcessID', 'ProcessID74;1': 'TProcessID', 'ProcessID75;1': 'TProcessID', 'ProcessID76;1': 'TProcessID', 'ProcessID77;1': 'TProcessID', 'ProcessID78;1': 'TProcessID', 'ProcessID79;1': 'TProcessID', 'ProcessID80;1': 'TProcessID', 'ProcessID81;1': 'TProcessID', 'ProcessID82;1': 'TProcessID', 'ProcessID83;1': 'TProcessID', 'ProcessID84;1': 'TProcessID', 'ProcessID85;1': 'TProcessID', 'ProcessID86;1': 'TProcessID', 'ProcessID87;1': 'TProcessID', 'ProcessID88;1': 'TProcessID', 'ProcessID89;1': 'TProcessID', 'ProcessID90;1': 'TProcessID', 'ProcessID91;1': 'TProcessID', 'ProcessID92;1': 'TProcessID', 'ProcessID93;1': 'TProcessID', 'ProcessID94;1': 'TProcessID', 'ProcessID95;1': 'TProcessID', 'ProcessID96;1': 'TProcessID', 'ProcessID97;1': 'TProcessID', 'ProcessID98;1': 'TProcessID', 'ProcessID99;1': 'TProcessID', 'ProcessID100;1': 'TProcessID', 'ProcessID101;1': 'TProcessID', 'ProcessID102;1': 'TProcessID', 'ProcessID103;1': 'TProcessID', 'ProcessID104;1': 'TProcessID', 'ProcessID105;1': 'TProcessID', 'ProcessID106;1': 'TProcessID', 'ProcessID107;1': 'TProcessID', 'ProcessID108;1': 'TProcessID', 'ProcessID109;1': 'TProcessID', 'ProcessID110;1': 'TProcessID', 'ProcessID111;1': 'TProcessID', 'ProcessID112;1': 'TProcessID', 'ProcessID113;1': 'TProcessID', 'ProcessID114;1': 'TProcessID', 'ProcessID115;1': 'TProcessID', 'ProcessID116;1': 'TProcessID', 'ProcessID117;1': 'TProcessID', 'ProcessID118;1': 'TProcessID', 'ProcessID119;1': 'TProcessID', 'ProcessID120;1': 'TProcessID', 'ProcessID121;1': 'TProcessID', 'ProcessID122;1': 'TProcessID', 'ProcessID123;1': 'TProcessID', 'ProcessID124;1': 'TProcessID', 'ProcessID125;1': 'TProcessID', 'ProcessID126;1': 'TProcessID', 'ProcessID127;1': 'TProcessID', 'ProcessID128;1': 'TProcessID', 'ProcessID129;1': 'TProcessID', 'ProcessID130;1': 'TProcessID', 'ProcessID131;1': 'TProcessID', 'ProcessID132;1': 'TProcessID', 'ProcessID133;1': 'TProcessID', 'ProcessID134;1': 'TProcessID', 'ProcessID135;1': 'TProcessID', 'ProcessID136;1': 'TProcessID', 'ProcessID137;1': 'TProcessID', 'ProcessID138;1': 'TProcessID', 'ProcessID139;1': 'TProcessID', 'ProcessID140;1': 'TProcessID', 'ProcessID141;1': 'TProcessID', 'ProcessID142;1': 'TProcessID', 'ProcessID143;1': 'TProcessID', 'ProcessID144;1': 'TProcessID', 'ProcessID145;1': 'TProcessID', 'ProcessID146;1': 'TProcessID', 'ProcessID147;1': 'TProcessID', 'ProcessID148;1': 'TProcessID', 'ProcessID149;1': 'TProcessID', 'ProcessID150;1': 'TProcessID', 'ProcessID151;1': 'TProcessID', 'ProcessID152;1': 'TProcessID', 'ProcessID153;1': 'TProcessID', 'ProcessID154;1': 'TProcessID', 'ProcessID155;1': 'TProcessID', 'ProcessID156;1': 'TProcessID', 'ProcessID157;1': 'TProcessID', 'ProcessID158;1': 'TProcessID', 'ProcessID159;1': 'TProcessID', 'ProcessID160;1': 'TProcessID', 'ProcessID161;1': 'TProcessID', 'ProcessID162;1': 'TProcessID', 'ProcessID163;1': 'TProcessID', 'ProcessID164;1': 'TProcessID', 'ProcessID165;1': 'TProcessID', 'ProcessID166;1': 'TProcessID', 'ProcessID167;1': 'TProcessID', 'ProcessID168;1': 'TProcessID', 'ProcessID169;1': 'TProcessID', 'ProcessID170;1': 'TProcessID', 'ProcessID171;1': 'TProcessID', 'ProcessID172;1': 'TProcessID', 'ProcessID173;1': 'TProcessID', 'ProcessID174;1': 'TProcessID', 'ProcessID175;1': 'TProcessID', 'ProcessID176;1': 'TProcessID', 'ProcessID177;1': 'TProcessID', 'ProcessID178;1': 'TProcessID', 'ProcessID179;1': 'TProcessID', 'ProcessID180;1': 'TProcessID', 'ProcessID181;1': 'TProcessID', 'ProcessID182;1': 'TProcessID', 'ProcessID183;1': 'TProcessID', 'ProcessID184;1': 'TProcessID', 'ProcessID185;1': 'TProcessID', 'ProcessID186;1': 'TProcessID', 'ProcessID187;1': 'TProcessID', 'ProcessID188;1': 'TProcessID', 'ProcessID189;1': 'TProcessID', 'ProcessID190;1': 'TProcessID', 'ProcessID191;1': 'TProcessID', 'ProcessID192;1': 'TProcessID', 'ProcessID193;1': 'TProcessID', 'ProcessID194;1': 'TProcessID', 'ProcessID195;1': 'TProcessID', 'ProcessID196;1': 'TProcessID', 'ProcessID197;1': 'TProcessID', 'ProcessID198;1': 'TProcessID', 'ProcessID199;1': 'TProcessID', 'ProcessID200;1': 'TProcessID', 'ProcessID201;1': 'TProcessID', 'ProcessID202;1': 'TProcessID', 'ProcessID203;1': 'TProcessID', 'ProcessID204;1': 'TProcessID', 'ProcessID205;1': 'TProcessID', 'ProcessID206;1': 'TProcessID', 'ProcessID207;1': 'TProcessID', 'ProcessID208;1': 'TProcessID', 'ProcessID209;1': 'TProcessID', 'ProcessID210;1': 'TProcessID', 'ProcessID211;1': 'TProcessID', 'ProcessID212;1': 'TProcessID', 'ProcessID213;1': 'TProcessID', 'ProcessID214;1': 'TProcessID', 'ProcessID215;1': 'TProcessID', 'ProcessID216;1': 'TProcessID', 'ProcessID217;1': 'TProcessID', 'ProcessID218;1': 'TProcessID', 'ProcessID219;1': 'TProcessID', 'ProcessID220;1': 'TProcessID', 'ProcessID221;1': 'TProcessID', 'ProcessID222;1': 'TProcessID', 'ProcessID223;1': 'TProcessID', 'ProcessID224;1': 'TProcessID', 'ProcessID225;1': 'TProcessID', 'ProcessID226;1': 'TProcessID', 'ProcessID227;1': 'TProcessID', 'ProcessID228;1': 'TProcessID', 'ProcessID229;1': 'TProcessID', 'ProcessID230;1': 'TProcessID', 'ProcessID231;1': 'TProcessID', 'ProcessID232;1': 'TProcessID', 'ProcessID233;1': 'TProcessID', 'ProcessID234;1': 'TProcessID', 'ProcessID235;1': 'TProcessID', 'ProcessID236;1': 'TProcessID', 'ProcessID237;1': 'TProcessID', 'ProcessID238;1': 'TProcessID', 'ProcessID239;1': 'TProcessID', 'ProcessID240;1': 'TProcessID', 'ProcessID241;1': 'TProcessID', 'ProcessID242;1': 'TProcessID', 'ProcessID243;1': 'TProcessID', 'ProcessID244;1': 'TProcessID', 'ProcessID245;1': 'TProcessID', 'ProcessID246;1': 'TProcessID', 'ProcessID247;1': 'TProcessID', 'ProcessID248;1': 'TProcessID', 'ProcessID249;1': 'TProcessID', 'ProcessID250;1': 'TProcessID', 'ProcessID251;1': 'TProcessID', 'ProcessID252;1': 'TProcessID', 'ProcessID253;1': 'TProcessID', 'ProcessID254;1': 'TProcessID', 'ProcessID255;1': 'TProcessID', 'ProcessID256;1': 'TProcessID', 'ProcessID257;1': 'TProcessID', 'ProcessID258;1': 'TProcessID', 'ProcessID259;1': 'TProcessID', 'ProcessID260;1': 'TProcessID', 'ProcessID261;1': 'TProcessID', 'ProcessID262;1': 'TProcessID', 'ProcessID263;1': 'TProcessID', 'ProcessID264;1': 'TProcessID', 'ProcessID265;1': 'TProcessID', 'ProcessID266;1': 'TProcessID', 'ProcessID267;1': 'TProcessID', 'ProcessID268;1': 'TProcessID', 'ProcessID269;1': 'TProcessID', 'ProcessID270;1': 'TProcessID', 'ProcessID271;1': 'TProcessID', 'ProcessID272;1': 'TProcessID', 'ProcessID273;1': 'TProcessID', 'ProcessID274;1': 'TProcessID', 'ProcessID275;1': 'TProcessID', 'ProcessID276;1': 'TProcessID', 'ProcessID277;1': 'TProcessID', 'ProcessID278;1': 'TProcessID', 'ProcessID279;1': 'TProcessID', 'ProcessID280;1': 'TProcessID', 'ProcessID281;1': 'TProcessID', 'ProcessID282;1': 'TProcessID', 'ProcessID283;1': 'TProcessID', 'ProcessID284;1': 'TProcessID', 'ProcessID285;1': 'TProcessID', 'ProcessID286;1': 'TProcessID', 'ProcessID287;1': 'TProcessID', 'ProcessID288;1': 'TProcessID', 'ProcessID289;1': 'TProcessID', 'ProcessID290;1': 'TProcessID', 'ProcessID291;1': 'TProcessID', 'ProcessID292;1': 'TProcessID', 'ProcessID293;1': 'TProcessID', 'ProcessID294;1': 'TProcessID', 'ProcessID295;1': 'TProcessID', 'ProcessID296;1': 'TProcessID', 'ProcessID297;1': 'TProcessID', 'ProcessID298;1': 'TProcessID', 'ProcessID299;1': 'TProcessID', 'ProcessID300;1': 'TProcessID', 'ProcessID301;1': 'TProcessID', 'ProcessID302;1': 'TProcessID', 'ProcessID303;1': 'TProcessID', 'ProcessID304;1': 'TProcessID', 'ProcessID305;1': 'TProcessID', 'ProcessID306;1': 'TProcessID', 'ProcessID307;1': 'TProcessID', 'ProcessID308;1': 'TProcessID', 'ProcessID309;1': 'TProcessID', 'ProcessID310;1': 'TProcessID', 'ProcessID311;1': 'TProcessID', 'ProcessID312;1': 'TProcessID', 'ProcessID313;1': 'TProcessID', 'ProcessID314;1': 'TProcessID', 'ProcessID315;1': 'TProcessID', 'ProcessID316;1': 'TProcessID', 'ProcessID317;1': 'TProcessID', 'ProcessID318;1': 'TProcessID', 'ProcessID319;1': 'TProcessID', 'ProcessID320;1': 'TProcessID', 'ProcessID321;1': 'TProcessID', 'ProcessID322;1': 'TProcessID', 'ProcessID323;1': 'TProcessID', 'ProcessID324;1': 'TProcessID', 'ProcessID325;1': 'TProcessID', 'ProcessID326;1': 'TProcessID', 'ProcessID327;1': 'TProcessID', 'ProcessID328;1': 'TProcessID', 'ProcessID329;1': 'TProcessID', 'ProcessID330;1': 'TProcessID', 'ProcessID331;1': 'TProcessID', 'ProcessID332;1': 'TProcessID', 'ProcessID333;1': 'TProcessID', 'ProcessID334;1': 'TProcessID', 'ProcessID335;1': 'TProcessID', 'ProcessID336;1': 'TProcessID', 'ProcessID337;1': 'TProcessID', 'ProcessID338;1': 'TProcessID', 'ProcessID339;1': 'TProcessID', 'ProcessID340;1': 'TProcessID', 'ProcessID341;1': 'TProcessID', 'ProcessID342;1': 'TProcessID', 'ProcessID343;1': 'TProcessID', 'ProcessID344;1': 'TProcessID', 'ProcessID345;1': 'TProcessID', 'ProcessID346;1': 'TProcessID', 'ProcessID347;1': 'TProcessID', 'ProcessID348;1': 'TProcessID', 'ProcessID349;1': 'TProcessID', 'ProcessID350;1': 'TProcessID', 'ProcessID351;1': 'TProcessID', 'ProcessID352;1': 'TProcessID', 'ProcessID353;1': 'TProcessID', 'ProcessID354;1': 'TProcessID', 'ProcessID355;1': 'TProcessID', 'ProcessID356;1': 'TProcessID', 'ProcessID357;1': 'TProcessID', 'ProcessID358;1': 'TProcessID', 'ProcessID359;1': 'TProcessID', 'ProcessID360;1': 'TProcessID', 'ProcessID361;1': 'TProcessID', 'ProcessID362;1': 'TProcessID', 'ProcessID363;1': 'TProcessID', 'ProcessID364;1': 'TProcessID', 'ProcessID365;1': 'TProcessID', 'ProcessID366;1': 'TProcessID', 'ProcessID367;1': 'TProcessID', 'ProcessID368;1': 'TProcessID', 'ProcessID369;1': 'TProcessID', 'ProcessID370;1': 'TProcessID', 'ProcessID371;1': 'TProcessID', 'ProcessID372;1': 'TProcessID', 'ProcessID373;1': 'TProcessID', 'ProcessID374;1': 'TProcessID', 'ProcessID375;1': 'TProcessID', 'ProcessID376;1': 'TProcessID', 'ProcessID377;1': 'TProcessID', 'ProcessID378;1': 'TProcessID', 'ProcessID379;1': 'TProcessID', 'ProcessID380;1': 'TProcessID', 'ProcessID381;1': 'TProcessID', 'ProcessID382;1': 'TProcessID', 'ProcessID383;1': 'TProcessID', 'ProcessID384;1': 'TProcessID', 'ProcessID385;1': 'TProcessID', 'ProcessID386;1': 'TProcessID', 'ProcessID387;1': 'TProcessID', 'ProcessID388;1': 'TProcessID', 'ProcessID389;1': 'TProcessID', 'ProcessID390;1': 'TProcessID', 'ProcessID391;1': 'TProcessID', 'ProcessID392;1': 'TProcessID', 'ProcessID393;1': 'TProcessID', 'ProcessID394;1': 'TProcessID', 'ProcessID395;1': 'TProcessID', 'ProcessID396;1': 'TProcessID', 'ProcessID397;1': 'TProcessID', 'ProcessID398;1': 'TProcessID', 'ProcessID399;1': 'TProcessID', 'Delphes;1': 'TTree'}\n"
     ]
    }
   ],
   "source": [
    "print(file1.classnames())"
   ]
  },
  {
   "cell_type": "code",
   "execution_count": 6,
   "id": "084ad1ae-fe44-450c-b478-1dabcb9e9575",
   "metadata": {},
   "outputs": [],
   "source": [
    "# treevent = file1[\"Delphes;1/\"]\n",
    "# treevent.show()"
   ]
  },
  {
   "cell_type": "markdown",
   "id": "4340e657-451f-48f4-887c-a9cb4e2c5e2f",
   "metadata": {},
   "source": [
    "# DEFINITIONS"
   ]
  },
  {
   "cell_type": "code",
   "execution_count": 7,
   "id": "159a845a-313c-4a5d-8b3f-37ba884ac5dc",
   "metadata": {},
   "outputs": [],
   "source": [
    "def px(pt, phi):\n",
    "    return pt*(np.cos(phi))\n",
    "def py(pt, phi):\n",
    "    return pt*(np.sin(phi))\n",
    "def pz(pt, m, eta):\n",
    "    return (np.sqrt(pt**2 + m**2))*np.sinh(eta)\n",
    "def E(pt, m, eta):\n",
    "    return (np.sqrt(pt**2 + m**2))*np.cosh(eta)"
   ]
  },
  {
   "cell_type": "markdown",
   "id": "37d8550d-0452-4597-b322-0361594e8c29",
   "metadata": {},
   "source": [
    "# JET"
   ]
  },
  {
   "cell_type": "code",
   "execution_count": 8,
   "id": "cfd872c8-d1fa-4361-9995-e8d191da2e85",
   "metadata": {},
   "outputs": [
    {
     "name": "stdout",
     "output_type": "stream",
     "text": [
      "name                 | typename                 | interpretation                \n",
      "---------------------+--------------------------+-------------------------------\n",
      "VLCjetR05_inclusive. | float[]                  | AsJagged(AsDtype('>f4'))      \n",
      "name                 | typename                 | interpretation                \n",
      "---------------------+--------------------------+-------------------------------\n",
      "VLCjetR05_inclusive. | float[]                  | AsJagged(AsDtype('>f4'))      \n",
      "name                 | typename                 | interpretation                \n",
      "---------------------+--------------------------+-------------------------------\n",
      "VLCjetR05_inclusive. | float[]                  | AsJagged(AsDtype('>f4'))      \n",
      "name                 | typename                 | interpretation                \n",
      "---------------------+--------------------------+-------------------------------\n",
      "VLCjetR05_inclusive. | float[]                  | AsJagged(AsDtype('>f4'))      \n",
      "name                 | typename                 | interpretation                \n",
      "---------------------+--------------------------+-------------------------------\n",
      "VLCjetR05_inclusive. | int32_t[]                | AsJagged(AsDtype('>i4'))      \n"
     ]
    }
   ],
   "source": [
    "tree1 = file1[\"Delphes;1/VLCjetR05_inclusive.PT\"]\n",
    "tree2 = file1[\"Delphes;1/VLCjetR05_inclusive.Eta\"]\n",
    "tree3 = file1[\"Delphes;1/VLCjetR05_inclusive.Phi\"]\n",
    "tree4 = file1[\"Delphes;1/VLCjetR05_inclusive.Mass\"]\n",
    "tree100 = file1[\"Delphes;1/VLCjetR05_inclusive.Charge\"]\n",
    "\n",
    "tree1.show()\n",
    "tree2.show()\n",
    "tree3.show()\n",
    "tree4.show()\n",
    "tree100.show()\n",
    "a = tree1.arrays()\n",
    "b = tree2.arrays()\n",
    "c = tree3.arrays()\n",
    "d = tree4.arrays()\n",
    "z = tree100.arrays()"
   ]
  },
  {
   "cell_type": "code",
   "execution_count": 9,
   "id": "7894863a-c0d7-4d2e-914f-6b4bf92bf873",
   "metadata": {},
   "outputs": [],
   "source": [
    "JPT = a[\"VLCjetR05_inclusive.PT\"]\n",
    "Jeta = b[\"VLCjetR05_inclusive.Eta\"]\n",
    "Jphi = c[\"VLCjetR05_inclusive.Phi\"]\n",
    "Jm = d[\"VLCjetR05_inclusive.Mass\"]\n",
    "Jch = z[\"VLCjetR05_inclusive.Charge\"]\n"
   ]
  },
  {
   "cell_type": "markdown",
   "id": "fa445597-89a1-4a98-ba92-45cb8bd9c8a5",
   "metadata": {},
   "source": [
    "# Jet Data Frame"
   ]
  },
  {
   "cell_type": "code",
   "execution_count": 10,
   "id": "0e3aa376-cfa6-4530-b5e1-506d4a4d73d9",
   "metadata": {},
   "outputs": [],
   "source": [
    "pxj = px(JPT,Jphi).tolist()\n",
    "pyj = py(JPT,Jphi).tolist()\n",
    "pzj = pz(JPT, Jm, Jeta).tolist()\n",
    "Ej =  E(JPT, Jm, Jeta).tolist()\n",
    "jpt = JPT.tolist()\n",
    "jeta = Jeta.tolist()\n",
    "jphi = Jphi.tolist()\n",
    "jm = Jm.tolist()\n",
    "jch = Jch.tolist()"
   ]
  },
  {
   "cell_type": "code",
   "execution_count": 11,
   "id": "7e33f2af-3af6-44b8-9750-f9f133dad74e",
   "metadata": {},
   "outputs": [],
   "source": [
    "numj = [len(i) for i in Ej]"
   ]
  },
  {
   "cell_type": "code",
   "execution_count": 12,
   "id": "3e4fb7d2-e126-42dc-8ca6-da7f21681e7b",
   "metadata": {},
   "outputs": [],
   "source": [
    "data1 = {'jet_num': numj,'jpt':jpt, 'jeta':jeta, 'jphi':jphi,'jm':jm, 'jch':jch, 'pxj':pxj,'pyj':pyj, 'pzj':pzj,'Ej':Ej}"
   ]
  },
  {
   "cell_type": "code",
   "execution_count": 13,
   "id": "0b03641b-5785-46d3-b64f-673fd894ca5c",
   "metadata": {},
   "outputs": [],
   "source": [
    "t1 = time.time()"
   ]
  },
  {
   "cell_type": "code",
   "execution_count": 14,
   "id": "896fddc3-126b-4419-a6df-20f7c1b66146",
   "metadata": {},
   "outputs": [
    {
     "data": {
      "text/html": [
       "<div>\n",
       "<style scoped>\n",
       "    .dataframe tbody tr th:only-of-type {\n",
       "        vertical-align: middle;\n",
       "    }\n",
       "\n",
       "    .dataframe tbody tr th {\n",
       "        vertical-align: top;\n",
       "    }\n",
       "\n",
       "    .dataframe thead th {\n",
       "        text-align: right;\n",
       "    }\n",
       "</style>\n",
       "<table border=\"1\" class=\"dataframe\">\n",
       "  <thead>\n",
       "    <tr style=\"text-align: right;\">\n",
       "      <th></th>\n",
       "      <th>jet_num</th>\n",
       "      <th>jpt</th>\n",
       "      <th>jeta</th>\n",
       "      <th>jphi</th>\n",
       "      <th>jm</th>\n",
       "      <th>jch</th>\n",
       "      <th>pxj</th>\n",
       "      <th>pyj</th>\n",
       "      <th>pzj</th>\n",
       "      <th>Ej</th>\n",
       "    </tr>\n",
       "  </thead>\n",
       "  <tbody>\n",
       "    <tr>\n",
       "      <th>1</th>\n",
       "      <td>0</td>\n",
       "      <td>[]</td>\n",
       "      <td>[]</td>\n",
       "      <td>[]</td>\n",
       "      <td>[]</td>\n",
       "      <td>[]</td>\n",
       "      <td>[]</td>\n",
       "      <td>[]</td>\n",
       "      <td>[]</td>\n",
       "      <td>[]</td>\n",
       "    </tr>\n",
       "    <tr>\n",
       "      <th>2</th>\n",
       "      <td>0</td>\n",
       "      <td>[]</td>\n",
       "      <td>[]</td>\n",
       "      <td>[]</td>\n",
       "      <td>[]</td>\n",
       "      <td>[]</td>\n",
       "      <td>[]</td>\n",
       "      <td>[]</td>\n",
       "      <td>[]</td>\n",
       "      <td>[]</td>\n",
       "    </tr>\n",
       "    <tr>\n",
       "      <th>3</th>\n",
       "      <td>0</td>\n",
       "      <td>[]</td>\n",
       "      <td>[]</td>\n",
       "      <td>[]</td>\n",
       "      <td>[]</td>\n",
       "      <td>[]</td>\n",
       "      <td>[]</td>\n",
       "      <td>[]</td>\n",
       "      <td>[]</td>\n",
       "      <td>[]</td>\n",
       "    </tr>\n",
       "    <tr>\n",
       "      <th>4</th>\n",
       "      <td>0</td>\n",
       "      <td>[]</td>\n",
       "      <td>[]</td>\n",
       "      <td>[]</td>\n",
       "      <td>[]</td>\n",
       "      <td>[]</td>\n",
       "      <td>[]</td>\n",
       "      <td>[]</td>\n",
       "      <td>[]</td>\n",
       "      <td>[]</td>\n",
       "    </tr>\n",
       "    <tr>\n",
       "      <th>5</th>\n",
       "      <td>0</td>\n",
       "      <td>[]</td>\n",
       "      <td>[]</td>\n",
       "      <td>[]</td>\n",
       "      <td>[]</td>\n",
       "      <td>[]</td>\n",
       "      <td>[]</td>\n",
       "      <td>[]</td>\n",
       "      <td>[]</td>\n",
       "      <td>[]</td>\n",
       "    </tr>\n",
       "    <tr>\n",
       "      <th>...</th>\n",
       "      <td>...</td>\n",
       "      <td>...</td>\n",
       "      <td>...</td>\n",
       "      <td>...</td>\n",
       "      <td>...</td>\n",
       "      <td>...</td>\n",
       "      <td>...</td>\n",
       "      <td>...</td>\n",
       "      <td>...</td>\n",
       "      <td>...</td>\n",
       "    </tr>\n",
       "    <tr>\n",
       "      <th>10410308</th>\n",
       "      <td>0</td>\n",
       "      <td>[]</td>\n",
       "      <td>[]</td>\n",
       "      <td>[]</td>\n",
       "      <td>[]</td>\n",
       "      <td>[]</td>\n",
       "      <td>[]</td>\n",
       "      <td>[]</td>\n",
       "      <td>[]</td>\n",
       "      <td>[]</td>\n",
       "    </tr>\n",
       "    <tr>\n",
       "      <th>10410309</th>\n",
       "      <td>0</td>\n",
       "      <td>[]</td>\n",
       "      <td>[]</td>\n",
       "      <td>[]</td>\n",
       "      <td>[]</td>\n",
       "      <td>[]</td>\n",
       "      <td>[]</td>\n",
       "      <td>[]</td>\n",
       "      <td>[]</td>\n",
       "      <td>[]</td>\n",
       "    </tr>\n",
       "    <tr>\n",
       "      <th>10410310</th>\n",
       "      <td>0</td>\n",
       "      <td>[]</td>\n",
       "      <td>[]</td>\n",
       "      <td>[]</td>\n",
       "      <td>[]</td>\n",
       "      <td>[]</td>\n",
       "      <td>[]</td>\n",
       "      <td>[]</td>\n",
       "      <td>[]</td>\n",
       "      <td>[]</td>\n",
       "    </tr>\n",
       "    <tr>\n",
       "      <th>10410311</th>\n",
       "      <td>0</td>\n",
       "      <td>[]</td>\n",
       "      <td>[]</td>\n",
       "      <td>[]</td>\n",
       "      <td>[]</td>\n",
       "      <td>[]</td>\n",
       "      <td>[]</td>\n",
       "      <td>[]</td>\n",
       "      <td>[]</td>\n",
       "      <td>[]</td>\n",
       "    </tr>\n",
       "    <tr>\n",
       "      <th>10410312</th>\n",
       "      <td>0</td>\n",
       "      <td>[]</td>\n",
       "      <td>[]</td>\n",
       "      <td>[]</td>\n",
       "      <td>[]</td>\n",
       "      <td>[]</td>\n",
       "      <td>[]</td>\n",
       "      <td>[]</td>\n",
       "      <td>[]</td>\n",
       "      <td>[]</td>\n",
       "    </tr>\n",
       "  </tbody>\n",
       "</table>\n",
       "<p>10410312 rows × 10 columns</p>\n",
       "</div>"
      ],
      "text/plain": [
       "          jet_num jpt jeta jphi  jm jch pxj pyj pzj  Ej\n",
       "1               0  []   []   []  []  []  []  []  []  []\n",
       "2               0  []   []   []  []  []  []  []  []  []\n",
       "3               0  []   []   []  []  []  []  []  []  []\n",
       "4               0  []   []   []  []  []  []  []  []  []\n",
       "5               0  []   []   []  []  []  []  []  []  []\n",
       "...           ...  ..  ...  ...  ..  ..  ..  ..  ..  ..\n",
       "10410308        0  []   []   []  []  []  []  []  []  []\n",
       "10410309        0  []   []   []  []  []  []  []  []  []\n",
       "10410310        0  []   []   []  []  []  []  []  []  []\n",
       "10410311        0  []   []   []  []  []  []  []  []  []\n",
       "10410312        0  []   []   []  []  []  []  []  []  []\n",
       "\n",
       "[10410312 rows x 10 columns]"
      ]
     },
     "execution_count": 14,
     "metadata": {},
     "output_type": "execute_result"
    }
   ],
   "source": [
    "df_jet = pd.DataFrame(data1, index = [i for i in range(len(Ej))])\n",
    "df_jet.index = range(1, len(df_jet) + 1)\n",
    "df_jet"
   ]
  },
  {
   "cell_type": "code",
   "execution_count": 15,
   "id": "5ee97288-e010-4d90-8222-e604742af0ad",
   "metadata": {},
   "outputs": [
    {
     "name": "stdout",
     "output_type": "stream",
     "text": [
      "16.644492864608765\n"
     ]
    }
   ],
   "source": [
    "t2 = time.time()\n",
    "print(t2-t1)"
   ]
  },
  {
   "cell_type": "markdown",
   "id": "4fb77d29-6cac-4eee-880e-d8176fbb5ba6",
   "metadata": {},
   "source": [
    "# Electron"
   ]
  },
  {
   "cell_type": "code",
   "execution_count": 16,
   "id": "3bb83ba4-3cb7-49fc-acb0-0f56175ed275",
   "metadata": {},
   "outputs": [
    {
     "name": "stdout",
     "output_type": "stream",
     "text": [
      "name                 | typename                 | interpretation                \n",
      "---------------------+--------------------------+-------------------------------\n",
      "Electron.PT          | float[]                  | AsJagged(AsDtype('>f4'))      \n",
      "name                 | typename                 | interpretation                \n",
      "---------------------+--------------------------+-------------------------------\n",
      "Electron.Eta         | float[]                  | AsJagged(AsDtype('>f4'))      \n",
      "name                 | typename                 | interpretation                \n",
      "---------------------+--------------------------+-------------------------------\n",
      "Electron.Phi         | float[]                  | AsJagged(AsDtype('>f4'))      \n",
      "name                 | typename                 | interpretation                \n",
      "---------------------+--------------------------+-------------------------------\n",
      "Electron.Charge      | int32_t[]                | AsJagged(AsDtype('>i4'))      \n"
     ]
    }
   ],
   "source": [
    "tree5 = file1[\"Delphes;1/Electron.PT\"]\n",
    "tree6 = file1[\"Delphes;1/Electron.Eta\"]\n",
    "tree7 = file1[\"Delphes;1/Electron.Phi\"]\n",
    "tree101 = file1[\"Delphes;1/Electron.Charge\"]\n",
    "\n",
    "tree5.show()\n",
    "tree6.show()\n",
    "tree7.show()\n",
    "tree101.show()\n",
    "e = tree5.arrays()\n",
    "f = tree6.arrays()\n",
    "g = tree7.arrays()\n",
    "y = tree101.arrays()"
   ]
  },
  {
   "cell_type": "code",
   "execution_count": 17,
   "id": "dcc31fbc-ad33-408e-ba81-e6413bb3bc06",
   "metadata": {},
   "outputs": [],
   "source": [
    "EPT = e[\"Electron.PT\"]\n",
    "Eeta = f[\"Electron.Eta\"]\n",
    "Ephi = g[\"Electron.Phi\"]\n",
    "Ech = y[\"Electron.Charge\"]"
   ]
  },
  {
   "cell_type": "markdown",
   "id": "cb627c40-27f0-43b7-a4ce-abb22e44a789",
   "metadata": {},
   "source": [
    "# Electron Data Frame"
   ]
  },
  {
   "cell_type": "code",
   "execution_count": 18,
   "id": "5ee3eaa1-011c-4a23-b03e-baa46abebac1",
   "metadata": {},
   "outputs": [],
   "source": [
    "me = 0\n",
    "pxe = px(EPT,Ephi).tolist()\n",
    "pye = py(EPT,Ephi).tolist()\n",
    "pze = pz(EPT, me, Eeta).tolist()\n",
    "Ee =  E(EPT, me, Eeta).tolist()\n",
    "ept = EPT.tolist()\n",
    "eeta = Eeta.tolist()\n",
    "ephi = Ephi.tolist()\n",
    "ech = Ech.tolist()"
   ]
  },
  {
   "cell_type": "code",
   "execution_count": 19,
   "id": "2b9c3003-b213-4ff9-9fa9-de33a6c31532",
   "metadata": {},
   "outputs": [],
   "source": [
    "nume = [len(i) for i in Ee]"
   ]
  },
  {
   "cell_type": "code",
   "execution_count": 20,
   "id": "41b66aa4-3457-44de-8d02-7f6ac452acba",
   "metadata": {},
   "outputs": [],
   "source": [
    "data2 = {'e_num': nume,'ept':ept, 'eeta':eeta, 'ephi':ephi,'ech':ech, 'pxe':pxe,'pye':pye, 'pze':pze,'Ee':Ee}"
   ]
  },
  {
   "cell_type": "code",
   "execution_count": 21,
   "id": "86f17eac-68ae-4ec4-946b-4f2c38b524f1",
   "metadata": {},
   "outputs": [
    {
     "data": {
      "text/html": [
       "<div>\n",
       "<style scoped>\n",
       "    .dataframe tbody tr th:only-of-type {\n",
       "        vertical-align: middle;\n",
       "    }\n",
       "\n",
       "    .dataframe tbody tr th {\n",
       "        vertical-align: top;\n",
       "    }\n",
       "\n",
       "    .dataframe thead th {\n",
       "        text-align: right;\n",
       "    }\n",
       "</style>\n",
       "<table border=\"1\" class=\"dataframe\">\n",
       "  <thead>\n",
       "    <tr style=\"text-align: right;\">\n",
       "      <th></th>\n",
       "      <th>e_num</th>\n",
       "      <th>ept</th>\n",
       "      <th>eeta</th>\n",
       "      <th>ephi</th>\n",
       "      <th>ech</th>\n",
       "      <th>pxe</th>\n",
       "      <th>pye</th>\n",
       "      <th>pze</th>\n",
       "      <th>Ee</th>\n",
       "    </tr>\n",
       "  </thead>\n",
       "  <tbody>\n",
       "    <tr>\n",
       "      <th>1</th>\n",
       "      <td>0</td>\n",
       "      <td>[]</td>\n",
       "      <td>[]</td>\n",
       "      <td>[]</td>\n",
       "      <td>[]</td>\n",
       "      <td>[]</td>\n",
       "      <td>[]</td>\n",
       "      <td>[]</td>\n",
       "      <td>[]</td>\n",
       "    </tr>\n",
       "    <tr>\n",
       "      <th>2</th>\n",
       "      <td>0</td>\n",
       "      <td>[]</td>\n",
       "      <td>[]</td>\n",
       "      <td>[]</td>\n",
       "      <td>[]</td>\n",
       "      <td>[]</td>\n",
       "      <td>[]</td>\n",
       "      <td>[]</td>\n",
       "      <td>[]</td>\n",
       "    </tr>\n",
       "    <tr>\n",
       "      <th>3</th>\n",
       "      <td>0</td>\n",
       "      <td>[]</td>\n",
       "      <td>[]</td>\n",
       "      <td>[]</td>\n",
       "      <td>[]</td>\n",
       "      <td>[]</td>\n",
       "      <td>[]</td>\n",
       "      <td>[]</td>\n",
       "      <td>[]</td>\n",
       "    </tr>\n",
       "    <tr>\n",
       "      <th>4</th>\n",
       "      <td>0</td>\n",
       "      <td>[]</td>\n",
       "      <td>[]</td>\n",
       "      <td>[]</td>\n",
       "      <td>[]</td>\n",
       "      <td>[]</td>\n",
       "      <td>[]</td>\n",
       "      <td>[]</td>\n",
       "      <td>[]</td>\n",
       "    </tr>\n",
       "    <tr>\n",
       "      <th>5</th>\n",
       "      <td>0</td>\n",
       "      <td>[]</td>\n",
       "      <td>[]</td>\n",
       "      <td>[]</td>\n",
       "      <td>[]</td>\n",
       "      <td>[]</td>\n",
       "      <td>[]</td>\n",
       "      <td>[]</td>\n",
       "      <td>[]</td>\n",
       "    </tr>\n",
       "    <tr>\n",
       "      <th>...</th>\n",
       "      <td>...</td>\n",
       "      <td>...</td>\n",
       "      <td>...</td>\n",
       "      <td>...</td>\n",
       "      <td>...</td>\n",
       "      <td>...</td>\n",
       "      <td>...</td>\n",
       "      <td>...</td>\n",
       "      <td>...</td>\n",
       "    </tr>\n",
       "    <tr>\n",
       "      <th>10410308</th>\n",
       "      <td>0</td>\n",
       "      <td>[]</td>\n",
       "      <td>[]</td>\n",
       "      <td>[]</td>\n",
       "      <td>[]</td>\n",
       "      <td>[]</td>\n",
       "      <td>[]</td>\n",
       "      <td>[]</td>\n",
       "      <td>[]</td>\n",
       "    </tr>\n",
       "    <tr>\n",
       "      <th>10410309</th>\n",
       "      <td>0</td>\n",
       "      <td>[]</td>\n",
       "      <td>[]</td>\n",
       "      <td>[]</td>\n",
       "      <td>[]</td>\n",
       "      <td>[]</td>\n",
       "      <td>[]</td>\n",
       "      <td>[]</td>\n",
       "      <td>[]</td>\n",
       "    </tr>\n",
       "    <tr>\n",
       "      <th>10410310</th>\n",
       "      <td>0</td>\n",
       "      <td>[]</td>\n",
       "      <td>[]</td>\n",
       "      <td>[]</td>\n",
       "      <td>[]</td>\n",
       "      <td>[]</td>\n",
       "      <td>[]</td>\n",
       "      <td>[]</td>\n",
       "      <td>[]</td>\n",
       "    </tr>\n",
       "    <tr>\n",
       "      <th>10410311</th>\n",
       "      <td>0</td>\n",
       "      <td>[]</td>\n",
       "      <td>[]</td>\n",
       "      <td>[]</td>\n",
       "      <td>[]</td>\n",
       "      <td>[]</td>\n",
       "      <td>[]</td>\n",
       "      <td>[]</td>\n",
       "      <td>[]</td>\n",
       "    </tr>\n",
       "    <tr>\n",
       "      <th>10410312</th>\n",
       "      <td>0</td>\n",
       "      <td>[]</td>\n",
       "      <td>[]</td>\n",
       "      <td>[]</td>\n",
       "      <td>[]</td>\n",
       "      <td>[]</td>\n",
       "      <td>[]</td>\n",
       "      <td>[]</td>\n",
       "      <td>[]</td>\n",
       "    </tr>\n",
       "  </tbody>\n",
       "</table>\n",
       "<p>10410312 rows × 9 columns</p>\n",
       "</div>"
      ],
      "text/plain": [
       "          e_num ept eeta ephi ech pxe pye pze  Ee\n",
       "1             0  []   []   []  []  []  []  []  []\n",
       "2             0  []   []   []  []  []  []  []  []\n",
       "3             0  []   []   []  []  []  []  []  []\n",
       "4             0  []   []   []  []  []  []  []  []\n",
       "5             0  []   []   []  []  []  []  []  []\n",
       "...         ...  ..  ...  ...  ..  ..  ..  ..  ..\n",
       "10410308      0  []   []   []  []  []  []  []  []\n",
       "10410309      0  []   []   []  []  []  []  []  []\n",
       "10410310      0  []   []   []  []  []  []  []  []\n",
       "10410311      0  []   []   []  []  []  []  []  []\n",
       "10410312      0  []   []   []  []  []  []  []  []\n",
       "\n",
       "[10410312 rows x 9 columns]"
      ]
     },
     "execution_count": 21,
     "metadata": {},
     "output_type": "execute_result"
    }
   ],
   "source": [
    "df_e = pd.DataFrame(data2, index = [i for i in range(len(Ee))])\n",
    "df_e.index = range(1, len(df_e) + 1)\n",
    "df_e"
   ]
  },
  {
   "cell_type": "markdown",
   "id": "4340b7d5-1c13-4570-9e0e-a083820daef0",
   "metadata": {},
   "source": [
    "# Muon"
   ]
  },
  {
   "cell_type": "code",
   "execution_count": 22,
   "id": "a521c920-ca19-4ce3-9354-52e1603516cc",
   "metadata": {},
   "outputs": [
    {
     "name": "stdout",
     "output_type": "stream",
     "text": [
      "name                 | typename                 | interpretation                \n",
      "---------------------+--------------------------+-------------------------------\n",
      "Muon.PT              | float[]                  | AsJagged(AsDtype('>f4'))      \n",
      "name                 | typename                 | interpretation                \n",
      "---------------------+--------------------------+-------------------------------\n",
      "Muon.Eta             | float[]                  | AsJagged(AsDtype('>f4'))      \n",
      "name                 | typename                 | interpretation                \n",
      "---------------------+--------------------------+-------------------------------\n",
      "Muon.Phi             | float[]                  | AsJagged(AsDtype('>f4'))      \n",
      "name                 | typename                 | interpretation                \n",
      "---------------------+--------------------------+-------------------------------\n",
      "Muon.Charge          | int32_t[]                | AsJagged(AsDtype('>i4'))      \n"
     ]
    }
   ],
   "source": [
    "tree8 = file1[\"Delphes;1/Muon.PT\"]\n",
    "tree9 = file1[\"Delphes;1/Muon.Eta\"]\n",
    "tree10 = file1[\"Delphes;1/Muon.Phi\"]\n",
    "tree102 = file1[\"Delphes;1/Muon.Charge\"]\n",
    "\n",
    "\n",
    "tree8.show()\n",
    "tree9.show()\n",
    "tree10.show()\n",
    "tree102.show()\n",
    "k = tree8.arrays()\n",
    "l = tree9.arrays()\n",
    "m = tree10.arrays()\n",
    "x = tree102.arrays()\n"
   ]
  },
  {
   "cell_type": "code",
   "execution_count": 23,
   "id": "77fc459d-28d7-4ea3-8960-e56d24be08d5",
   "metadata": {},
   "outputs": [],
   "source": [
    "Mpt = k[\"Muon.PT\"]\n",
    "MEta = l[\"Muon.Eta\"]\n",
    "Mphi = m[\"Muon.Phi\"]\n",
    "Mch = x[\"Muon.Charge\"]"
   ]
  },
  {
   "cell_type": "markdown",
   "id": "069c36a2-bec7-4f47-b439-9e537053eef1",
   "metadata": {},
   "source": [
    "# Muon Data Frame"
   ]
  },
  {
   "cell_type": "code",
   "execution_count": 24,
   "id": "949f9291-8ddf-402b-abcb-56520d691fe0",
   "metadata": {},
   "outputs": [],
   "source": [
    "mm = 0\n",
    "pxm = px(Mpt,Mphi).tolist()\n",
    "pym = py(Mpt,Mphi).tolist()\n",
    "pzm = pz(Mpt, mm, MEta).tolist()\n",
    "Em =  E(Mpt, mm, MEta).tolist()\n",
    "mpt = Mpt.tolist()\n",
    "meta = MEta.tolist()\n",
    "mphi = Mphi.tolist()\n",
    "mch = Mch.tolist()"
   ]
  },
  {
   "cell_type": "code",
   "execution_count": 25,
   "id": "93f281a0-d0e8-482d-9fef-b04162354a3f",
   "metadata": {},
   "outputs": [],
   "source": [
    "numm = [len(i) for i in Em]"
   ]
  },
  {
   "cell_type": "code",
   "execution_count": 26,
   "id": "c9293418-5e79-4ecf-9b1f-00d55be675e2",
   "metadata": {},
   "outputs": [],
   "source": [
    "data3 = {'m_num': numm,'mpt':mpt, 'meta':meta, 'mphi':mphi,'mch':mch, 'pxm':pxm,'pym':pym, 'pzm':pzm,'Em':Em}"
   ]
  },
  {
   "cell_type": "code",
   "execution_count": 27,
   "id": "3159ec18-4021-4313-a765-d02609860114",
   "metadata": {},
   "outputs": [
    {
     "data": {
      "text/html": [
       "<div>\n",
       "<style scoped>\n",
       "    .dataframe tbody tr th:only-of-type {\n",
       "        vertical-align: middle;\n",
       "    }\n",
       "\n",
       "    .dataframe tbody tr th {\n",
       "        vertical-align: top;\n",
       "    }\n",
       "\n",
       "    .dataframe thead th {\n",
       "        text-align: right;\n",
       "    }\n",
       "</style>\n",
       "<table border=\"1\" class=\"dataframe\">\n",
       "  <thead>\n",
       "    <tr style=\"text-align: right;\">\n",
       "      <th></th>\n",
       "      <th>m_num</th>\n",
       "      <th>mpt</th>\n",
       "      <th>meta</th>\n",
       "      <th>mphi</th>\n",
       "      <th>mch</th>\n",
       "      <th>pxm</th>\n",
       "      <th>pym</th>\n",
       "      <th>pzm</th>\n",
       "      <th>Em</th>\n",
       "    </tr>\n",
       "  </thead>\n",
       "  <tbody>\n",
       "    <tr>\n",
       "      <th>1</th>\n",
       "      <td>0</td>\n",
       "      <td>[]</td>\n",
       "      <td>[]</td>\n",
       "      <td>[]</td>\n",
       "      <td>[]</td>\n",
       "      <td>[]</td>\n",
       "      <td>[]</td>\n",
       "      <td>[]</td>\n",
       "      <td>[]</td>\n",
       "    </tr>\n",
       "    <tr>\n",
       "      <th>2</th>\n",
       "      <td>0</td>\n",
       "      <td>[]</td>\n",
       "      <td>[]</td>\n",
       "      <td>[]</td>\n",
       "      <td>[]</td>\n",
       "      <td>[]</td>\n",
       "      <td>[]</td>\n",
       "      <td>[]</td>\n",
       "      <td>[]</td>\n",
       "    </tr>\n",
       "    <tr>\n",
       "      <th>3</th>\n",
       "      <td>0</td>\n",
       "      <td>[]</td>\n",
       "      <td>[]</td>\n",
       "      <td>[]</td>\n",
       "      <td>[]</td>\n",
       "      <td>[]</td>\n",
       "      <td>[]</td>\n",
       "      <td>[]</td>\n",
       "      <td>[]</td>\n",
       "    </tr>\n",
       "    <tr>\n",
       "      <th>4</th>\n",
       "      <td>0</td>\n",
       "      <td>[]</td>\n",
       "      <td>[]</td>\n",
       "      <td>[]</td>\n",
       "      <td>[]</td>\n",
       "      <td>[]</td>\n",
       "      <td>[]</td>\n",
       "      <td>[]</td>\n",
       "      <td>[]</td>\n",
       "    </tr>\n",
       "    <tr>\n",
       "      <th>5</th>\n",
       "      <td>0</td>\n",
       "      <td>[]</td>\n",
       "      <td>[]</td>\n",
       "      <td>[]</td>\n",
       "      <td>[]</td>\n",
       "      <td>[]</td>\n",
       "      <td>[]</td>\n",
       "      <td>[]</td>\n",
       "      <td>[]</td>\n",
       "    </tr>\n",
       "    <tr>\n",
       "      <th>...</th>\n",
       "      <td>...</td>\n",
       "      <td>...</td>\n",
       "      <td>...</td>\n",
       "      <td>...</td>\n",
       "      <td>...</td>\n",
       "      <td>...</td>\n",
       "      <td>...</td>\n",
       "      <td>...</td>\n",
       "      <td>...</td>\n",
       "    </tr>\n",
       "    <tr>\n",
       "      <th>10410308</th>\n",
       "      <td>0</td>\n",
       "      <td>[]</td>\n",
       "      <td>[]</td>\n",
       "      <td>[]</td>\n",
       "      <td>[]</td>\n",
       "      <td>[]</td>\n",
       "      <td>[]</td>\n",
       "      <td>[]</td>\n",
       "      <td>[]</td>\n",
       "    </tr>\n",
       "    <tr>\n",
       "      <th>10410309</th>\n",
       "      <td>0</td>\n",
       "      <td>[]</td>\n",
       "      <td>[]</td>\n",
       "      <td>[]</td>\n",
       "      <td>[]</td>\n",
       "      <td>[]</td>\n",
       "      <td>[]</td>\n",
       "      <td>[]</td>\n",
       "      <td>[]</td>\n",
       "    </tr>\n",
       "    <tr>\n",
       "      <th>10410310</th>\n",
       "      <td>0</td>\n",
       "      <td>[]</td>\n",
       "      <td>[]</td>\n",
       "      <td>[]</td>\n",
       "      <td>[]</td>\n",
       "      <td>[]</td>\n",
       "      <td>[]</td>\n",
       "      <td>[]</td>\n",
       "      <td>[]</td>\n",
       "    </tr>\n",
       "    <tr>\n",
       "      <th>10410311</th>\n",
       "      <td>0</td>\n",
       "      <td>[]</td>\n",
       "      <td>[]</td>\n",
       "      <td>[]</td>\n",
       "      <td>[]</td>\n",
       "      <td>[]</td>\n",
       "      <td>[]</td>\n",
       "      <td>[]</td>\n",
       "      <td>[]</td>\n",
       "    </tr>\n",
       "    <tr>\n",
       "      <th>10410312</th>\n",
       "      <td>0</td>\n",
       "      <td>[]</td>\n",
       "      <td>[]</td>\n",
       "      <td>[]</td>\n",
       "      <td>[]</td>\n",
       "      <td>[]</td>\n",
       "      <td>[]</td>\n",
       "      <td>[]</td>\n",
       "      <td>[]</td>\n",
       "    </tr>\n",
       "  </tbody>\n",
       "</table>\n",
       "<p>10410312 rows × 9 columns</p>\n",
       "</div>"
      ],
      "text/plain": [
       "          m_num mpt meta mphi mch pxm pym pzm  Em\n",
       "1             0  []   []   []  []  []  []  []  []\n",
       "2             0  []   []   []  []  []  []  []  []\n",
       "3             0  []   []   []  []  []  []  []  []\n",
       "4             0  []   []   []  []  []  []  []  []\n",
       "5             0  []   []   []  []  []  []  []  []\n",
       "...         ...  ..  ...  ...  ..  ..  ..  ..  ..\n",
       "10410308      0  []   []   []  []  []  []  []  []\n",
       "10410309      0  []   []   []  []  []  []  []  []\n",
       "10410310      0  []   []   []  []  []  []  []  []\n",
       "10410311      0  []   []   []  []  []  []  []  []\n",
       "10410312      0  []   []   []  []  []  []  []  []\n",
       "\n",
       "[10410312 rows x 9 columns]"
      ]
     },
     "execution_count": 27,
     "metadata": {},
     "output_type": "execute_result"
    }
   ],
   "source": [
    "df_m = pd.DataFrame(data3, index = [i for i in range(len(Em))])\n",
    "df_m.index = range(1, len(df_m) + 1)\n",
    "df_m"
   ]
  },
  {
   "cell_type": "markdown",
   "id": "1bed2572-b547-4949-b2fc-a65880d4794e",
   "metadata": {},
   "source": [
    "# Photon"
   ]
  },
  {
   "cell_type": "code",
   "execution_count": 28,
   "id": "8d9751d2-9ba6-4e2f-86d1-63cc42e62272",
   "metadata": {},
   "outputs": [
    {
     "name": "stdout",
     "output_type": "stream",
     "text": [
      "name                 | typename                 | interpretation                \n",
      "---------------------+--------------------------+-------------------------------\n",
      "Photon.PT            | float[]                  | AsJagged(AsDtype('>f4'))      \n",
      "name                 | typename                 | interpretation                \n",
      "---------------------+--------------------------+-------------------------------\n",
      "Photon.Eta           | float[]                  | AsJagged(AsDtype('>f4'))      \n",
      "name                 | typename                 | interpretation                \n",
      "---------------------+--------------------------+-------------------------------\n",
      "Photon.Phi           | float[]                  | AsJagged(AsDtype('>f4'))      \n"
     ]
    }
   ],
   "source": [
    "tree11 = file1[\"Delphes;1/Photon.PT\"]\n",
    "tree12 = file1[\"Delphes;1/Photon.Eta\"]\n",
    "tree13 = file1[\"Delphes;1/Photon.Phi\"]\n",
    "\n",
    "tree11.show()\n",
    "tree12.show()\n",
    "tree13.show()\n",
    "n = tree11.arrays()\n",
    "o = tree12.arrays()\n",
    "p = tree13.arrays()\n"
   ]
  },
  {
   "cell_type": "code",
   "execution_count": 29,
   "id": "bb6c07f9-77dc-43bd-95f9-ed19468a6a23",
   "metadata": {},
   "outputs": [],
   "source": [
    "Ppt = n[\"Photon.PT\"]\n",
    "Peta = o[\"Photon.Eta\"]\n",
    "Pphi = p[\"Photon.Phi\"]"
   ]
  },
  {
   "cell_type": "markdown",
   "id": "e9af974d-8f5e-46b1-b7ab-3204b639dd1d",
   "metadata": {},
   "source": [
    "# Photon Data Frame"
   ]
  },
  {
   "cell_type": "code",
   "execution_count": 30,
   "id": "aa832c44-bebf-435a-bd44-f3f217956455",
   "metadata": {},
   "outputs": [],
   "source": [
    "mp = 0\n",
    "pxp = px(Ppt,Pphi).tolist()\n",
    "pyp = py(Ppt,Pphi).tolist()\n",
    "pzp = pz(Ppt,mp, Peta).tolist()\n",
    "Ep =  E(Ppt,mp, Peta).tolist()\n",
    "ppt = Ppt.tolist()\n",
    "peta = Peta.tolist()\n",
    "pphi = Pphi.tolist()"
   ]
  },
  {
   "cell_type": "code",
   "execution_count": 31,
   "id": "a1ad168b-d6c0-4cfc-912b-2799f6701c44",
   "metadata": {},
   "outputs": [],
   "source": [
    "nump = [len(i) for i in Ep]"
   ]
  },
  {
   "cell_type": "code",
   "execution_count": 32,
   "id": "9e37fa2d-8e26-4c66-9c7f-a44482901807",
   "metadata": {},
   "outputs": [],
   "source": [
    "data4 = {'p_num': nump,'ppt':ppt, 'peta':peta, 'pphi':pphi, 'pxp':pxp,'pyp':pyp, 'pzp':pzp,'Ep':Ep}"
   ]
  },
  {
   "cell_type": "code",
   "execution_count": 33,
   "id": "fc07c4cc-f925-4626-b14a-861773d7a1f7",
   "metadata": {},
   "outputs": [
    {
     "data": {
      "text/html": [
       "<div>\n",
       "<style scoped>\n",
       "    .dataframe tbody tr th:only-of-type {\n",
       "        vertical-align: middle;\n",
       "    }\n",
       "\n",
       "    .dataframe tbody tr th {\n",
       "        vertical-align: top;\n",
       "    }\n",
       "\n",
       "    .dataframe thead th {\n",
       "        text-align: right;\n",
       "    }\n",
       "</style>\n",
       "<table border=\"1\" class=\"dataframe\">\n",
       "  <thead>\n",
       "    <tr style=\"text-align: right;\">\n",
       "      <th></th>\n",
       "      <th>p_num</th>\n",
       "      <th>ppt</th>\n",
       "      <th>peta</th>\n",
       "      <th>pphi</th>\n",
       "      <th>pxp</th>\n",
       "      <th>pyp</th>\n",
       "      <th>pzp</th>\n",
       "      <th>Ep</th>\n",
       "    </tr>\n",
       "  </thead>\n",
       "  <tbody>\n",
       "    <tr>\n",
       "      <th>1</th>\n",
       "      <td>0</td>\n",
       "      <td>[]</td>\n",
       "      <td>[]</td>\n",
       "      <td>[]</td>\n",
       "      <td>[]</td>\n",
       "      <td>[]</td>\n",
       "      <td>[]</td>\n",
       "      <td>[]</td>\n",
       "    </tr>\n",
       "    <tr>\n",
       "      <th>2</th>\n",
       "      <td>0</td>\n",
       "      <td>[]</td>\n",
       "      <td>[]</td>\n",
       "      <td>[]</td>\n",
       "      <td>[]</td>\n",
       "      <td>[]</td>\n",
       "      <td>[]</td>\n",
       "      <td>[]</td>\n",
       "    </tr>\n",
       "    <tr>\n",
       "      <th>3</th>\n",
       "      <td>0</td>\n",
       "      <td>[]</td>\n",
       "      <td>[]</td>\n",
       "      <td>[]</td>\n",
       "      <td>[]</td>\n",
       "      <td>[]</td>\n",
       "      <td>[]</td>\n",
       "      <td>[]</td>\n",
       "    </tr>\n",
       "    <tr>\n",
       "      <th>4</th>\n",
       "      <td>0</td>\n",
       "      <td>[]</td>\n",
       "      <td>[]</td>\n",
       "      <td>[]</td>\n",
       "      <td>[]</td>\n",
       "      <td>[]</td>\n",
       "      <td>[]</td>\n",
       "      <td>[]</td>\n",
       "    </tr>\n",
       "    <tr>\n",
       "      <th>5</th>\n",
       "      <td>0</td>\n",
       "      <td>[]</td>\n",
       "      <td>[]</td>\n",
       "      <td>[]</td>\n",
       "      <td>[]</td>\n",
       "      <td>[]</td>\n",
       "      <td>[]</td>\n",
       "      <td>[]</td>\n",
       "    </tr>\n",
       "    <tr>\n",
       "      <th>...</th>\n",
       "      <td>...</td>\n",
       "      <td>...</td>\n",
       "      <td>...</td>\n",
       "      <td>...</td>\n",
       "      <td>...</td>\n",
       "      <td>...</td>\n",
       "      <td>...</td>\n",
       "      <td>...</td>\n",
       "    </tr>\n",
       "    <tr>\n",
       "      <th>10410308</th>\n",
       "      <td>0</td>\n",
       "      <td>[]</td>\n",
       "      <td>[]</td>\n",
       "      <td>[]</td>\n",
       "      <td>[]</td>\n",
       "      <td>[]</td>\n",
       "      <td>[]</td>\n",
       "      <td>[]</td>\n",
       "    </tr>\n",
       "    <tr>\n",
       "      <th>10410309</th>\n",
       "      <td>0</td>\n",
       "      <td>[]</td>\n",
       "      <td>[]</td>\n",
       "      <td>[]</td>\n",
       "      <td>[]</td>\n",
       "      <td>[]</td>\n",
       "      <td>[]</td>\n",
       "      <td>[]</td>\n",
       "    </tr>\n",
       "    <tr>\n",
       "      <th>10410310</th>\n",
       "      <td>0</td>\n",
       "      <td>[]</td>\n",
       "      <td>[]</td>\n",
       "      <td>[]</td>\n",
       "      <td>[]</td>\n",
       "      <td>[]</td>\n",
       "      <td>[]</td>\n",
       "      <td>[]</td>\n",
       "    </tr>\n",
       "    <tr>\n",
       "      <th>10410311</th>\n",
       "      <td>0</td>\n",
       "      <td>[]</td>\n",
       "      <td>[]</td>\n",
       "      <td>[]</td>\n",
       "      <td>[]</td>\n",
       "      <td>[]</td>\n",
       "      <td>[]</td>\n",
       "      <td>[]</td>\n",
       "    </tr>\n",
       "    <tr>\n",
       "      <th>10410312</th>\n",
       "      <td>0</td>\n",
       "      <td>[]</td>\n",
       "      <td>[]</td>\n",
       "      <td>[]</td>\n",
       "      <td>[]</td>\n",
       "      <td>[]</td>\n",
       "      <td>[]</td>\n",
       "      <td>[]</td>\n",
       "    </tr>\n",
       "  </tbody>\n",
       "</table>\n",
       "<p>10410312 rows × 8 columns</p>\n",
       "</div>"
      ],
      "text/plain": [
       "          p_num ppt peta pphi pxp pyp pzp  Ep\n",
       "1             0  []   []   []  []  []  []  []\n",
       "2             0  []   []   []  []  []  []  []\n",
       "3             0  []   []   []  []  []  []  []\n",
       "4             0  []   []   []  []  []  []  []\n",
       "5             0  []   []   []  []  []  []  []\n",
       "...         ...  ..  ...  ...  ..  ..  ..  ..\n",
       "10410308      0  []   []   []  []  []  []  []\n",
       "10410309      0  []   []   []  []  []  []  []\n",
       "10410310      0  []   []   []  []  []  []  []\n",
       "10410311      0  []   []   []  []  []  []  []\n",
       "10410312      0  []   []   []  []  []  []  []\n",
       "\n",
       "[10410312 rows x 8 columns]"
      ]
     },
     "execution_count": 33,
     "metadata": {},
     "output_type": "execute_result"
    }
   ],
   "source": [
    "df_p = pd.DataFrame(data4, index = [i for i in range(len(Ep))])\n",
    "df_p.index = range(1, len(df_p) + 1)\n",
    "df_p"
   ]
  },
  {
   "cell_type": "markdown",
   "id": "7cf8ea01-b6eb-4e00-b064-bb523e5b1af8",
   "metadata": {},
   "source": [
    "# Forward_Muon"
   ]
  },
  {
   "cell_type": "code",
   "execution_count": 34,
   "id": "9a4a996c-32e5-4012-9520-dfd46ce339a9",
   "metadata": {},
   "outputs": [
    {
     "name": "stdout",
     "output_type": "stream",
     "text": [
      "name                 | typename                 | interpretation                \n",
      "---------------------+--------------------------+-------------------------------\n",
      "ForwardMuon.PT       | float[]                  | AsJagged(AsDtype('>f4'))      \n",
      "name                 | typename                 | interpretation                \n",
      "---------------------+--------------------------+-------------------------------\n",
      "ForwardMuon.Eta      | float[]                  | AsJagged(AsDtype('>f4'))      \n",
      "name                 | typename                 | interpretation                \n",
      "---------------------+--------------------------+-------------------------------\n",
      "ForwardMuon.Phi      | float[]                  | AsJagged(AsDtype('>f4'))      \n",
      "name                 | typename                 | interpretation                \n",
      "---------------------+--------------------------+-------------------------------\n",
      "ForwardMuon.Charge   | int32_t[]                | AsJagged(AsDtype('>i4'))      \n"
     ]
    }
   ],
   "source": [
    "tree14 = file1[\"Delphes;1/ForwardMuon.PT\"]\n",
    "tree15 = file1[\"Delphes;1/ForwardMuon.Eta\"]\n",
    "tree16 = file1[\"Delphes;1/ForwardMuon.Phi\"]\n",
    "tree17 = file1[\"Delphes;1/ForwardMuon.Charge\"]\n",
    "\n",
    "\n",
    "tree14.show()\n",
    "tree15.show()\n",
    "tree16.show()\n",
    "tree17.show()\n",
    "q = tree14.arrays()\n",
    "r = tree15.arrays()\n",
    "s = tree16.arrays()\n",
    "t = tree17.arrays()"
   ]
  },
  {
   "cell_type": "code",
   "execution_count": 35,
   "id": "f0552d39-71dc-47b5-9f99-341ba26cc013",
   "metadata": {},
   "outputs": [],
   "source": [
    "FMpt = q[\"ForwardMuon.PT\"]\n",
    "FMEta = r[\"ForwardMuon.Eta\"]\n",
    "FMphi = s[\"ForwardMuon.Phi\"]\n",
    "FMch = t[\"ForwardMuon.Charge\"]"
   ]
  },
  {
   "cell_type": "markdown",
   "id": "e4efd1b0-95d8-441f-9783-dfe1f4dc8b13",
   "metadata": {},
   "source": [
    "# Forward Muon Data Frame"
   ]
  },
  {
   "cell_type": "code",
   "execution_count": 36,
   "id": "d05fe6cd-930b-4ddc-86bf-ed9f111fa476",
   "metadata": {},
   "outputs": [],
   "source": [
    "Fmm = 0\n",
    "pxfm = px(FMpt,FMphi).tolist()\n",
    "pyfm = py(FMpt,FMphi).tolist()\n",
    "pzfm = pz(FMpt,Fmm, FMEta).tolist()\n",
    "Efm =  E(FMpt, Fmm, FMEta).tolist()\n",
    "fmpt = FMpt.tolist()\n",
    "fmeta = FMEta.tolist()\n",
    "fmphi = FMphi.tolist()\n",
    "fmch = FMch.tolist()"
   ]
  },
  {
   "cell_type": "code",
   "execution_count": 37,
   "id": "9f73ddcf-985b-4d6d-ac4d-9a1a41d91b45",
   "metadata": {},
   "outputs": [],
   "source": [
    "numfm = [len(i) for i in Efm]"
   ]
  },
  {
   "cell_type": "code",
   "execution_count": 38,
   "id": "27cac1be-aa25-460b-8d3b-415c8cae813f",
   "metadata": {},
   "outputs": [],
   "source": [
    "data5 = {'fm_num': numfm,'fmpt':fmpt, 'fmeta':fmeta, 'fmphi':fmphi, 'fmch': fmch, 'pxfm':pxfm,'pyfm':pyfm, 'pzfm':pzfm,'Efm':Efm}"
   ]
  },
  {
   "cell_type": "code",
   "execution_count": 39,
   "id": "53070f07-9be0-4d15-b86f-e4b7fd439f5c",
   "metadata": {},
   "outputs": [
    {
     "data": {
      "text/html": [
       "<div>\n",
       "<style scoped>\n",
       "    .dataframe tbody tr th:only-of-type {\n",
       "        vertical-align: middle;\n",
       "    }\n",
       "\n",
       "    .dataframe tbody tr th {\n",
       "        vertical-align: top;\n",
       "    }\n",
       "\n",
       "    .dataframe thead th {\n",
       "        text-align: right;\n",
       "    }\n",
       "</style>\n",
       "<table border=\"1\" class=\"dataframe\">\n",
       "  <thead>\n",
       "    <tr style=\"text-align: right;\">\n",
       "      <th></th>\n",
       "      <th>fm_num</th>\n",
       "      <th>fmpt</th>\n",
       "      <th>fmeta</th>\n",
       "      <th>fmphi</th>\n",
       "      <th>fmch</th>\n",
       "      <th>pxfm</th>\n",
       "      <th>pyfm</th>\n",
       "      <th>pzfm</th>\n",
       "      <th>Efm</th>\n",
       "    </tr>\n",
       "  </thead>\n",
       "  <tbody>\n",
       "    <tr>\n",
       "      <th>1</th>\n",
       "      <td>2</td>\n",
       "      <td>[115.31024169921875, 67.8858642578125]</td>\n",
       "      <td>[4.317214488983154, 2.7956020832061768]</td>\n",
       "      <td>[-2.8239784240722656, 1.1880502700805664]</td>\n",
       "      <td>[1, -1]</td>\n",
       "      <td>[-109.54279327392578, 25.353281021118164]</td>\n",
       "      <td>[-36.011505126953125, 62.973819732666016]</td>\n",
       "      <td>[4322.18212890625, 553.6569213867188]</td>\n",
       "      <td>[4323.72021484375, 557.8033447265625]</td>\n",
       "    </tr>\n",
       "    <tr>\n",
       "      <th>2</th>\n",
       "      <td>2</td>\n",
       "      <td>[174.90928649902344, 94.8431167602539]</td>\n",
       "      <td>[3.061039924621582, -4.7735371589660645]</td>\n",
       "      <td>[1.0060948133468628, -1.2072057723999023]</td>\n",
       "      <td>[1, -1]</td>\n",
       "      <td>[93.6051025390625, 33.72928237915039]</td>\n",
       "      <td>[147.75433349609375, -88.64283752441406]</td>\n",
       "      <td>[1863.0382080078125, -5611.328125]</td>\n",
       "      <td>[1871.23095703125, 5612.1298828125]</td>\n",
       "    </tr>\n",
       "    <tr>\n",
       "      <th>3</th>\n",
       "      <td>2</td>\n",
       "      <td>[50.19292449951172, 36.56494903564453]</td>\n",
       "      <td>[3.407804012298584, 5.261791229248047]</td>\n",
       "      <td>[1.959214448928833, 2.7868056297302246]</td>\n",
       "      <td>[-1, 1]</td>\n",
       "      <td>[-19.009307861328125, -34.28770065307617]</td>\n",
       "      <td>[46.45402145385742, 12.70232105255127]</td>\n",
       "      <td>[757.0534057617188, 3525.252197265625]</td>\n",
       "      <td>[758.7154541015625, 3525.44189453125]</td>\n",
       "    </tr>\n",
       "    <tr>\n",
       "      <th>4</th>\n",
       "      <td>2</td>\n",
       "      <td>[123.36199188232422, 36.11439514160156]</td>\n",
       "      <td>[4.087923049926758, 4.018555164337158]</td>\n",
       "      <td>[-2.3005263805389404, 1.9651362895965576]</td>\n",
       "      <td>[1, -1]</td>\n",
       "      <td>[-82.2415542602539, -13.875109672546387]</td>\n",
       "      <td>[-91.94839477539062, 33.342628479003906]</td>\n",
       "      <td>[3676.13623046875, 1004.029052734375]</td>\n",
       "      <td>[3678.205322265625, 1004.6783447265625]</td>\n",
       "    </tr>\n",
       "    <tr>\n",
       "      <th>5</th>\n",
       "      <td>2</td>\n",
       "      <td>[77.73294830322266, 48.25190353393555]</td>\n",
       "      <td>[4.155832290649414, 4.186665058135986]</td>\n",
       "      <td>[-0.526322066783905, -1.4137132167816162]</td>\n",
       "      <td>[1, -1]</td>\n",
       "      <td>[67.21261596679688, 7.548426628112793]</td>\n",
       "      <td>[-39.049659729003906, -47.65781784057617]</td>\n",
       "      <td>[2479.26806640625, 1587.19287109375]</td>\n",
       "      <td>[2480.486328125, 1587.9261474609375]</td>\n",
       "    </tr>\n",
       "    <tr>\n",
       "      <th>...</th>\n",
       "      <td>...</td>\n",
       "      <td>...</td>\n",
       "      <td>...</td>\n",
       "      <td>...</td>\n",
       "      <td>...</td>\n",
       "      <td>...</td>\n",
       "      <td>...</td>\n",
       "      <td>...</td>\n",
       "      <td>...</td>\n",
       "    </tr>\n",
       "    <tr>\n",
       "      <th>10410308</th>\n",
       "      <td>2</td>\n",
       "      <td>[253.03770446777344, 53.10246658325195]</td>\n",
       "      <td>[-3.1945748329162598, 5.345815658569336]</td>\n",
       "      <td>[-2.242884874343872, 0.853552520275116]</td>\n",
       "      <td>[-1, 1]</td>\n",
       "      <td>[-157.54676818847656, 34.90478515625]</td>\n",
       "      <td>[-198.0078125, 40.01909637451172]</td>\n",
       "      <td>[-3081.84912109375, 5568.43408203125]</td>\n",
       "      <td>[3092.219482421875, 5568.68701171875]</td>\n",
       "    </tr>\n",
       "    <tr>\n",
       "      <th>10410309</th>\n",
       "      <td>2</td>\n",
       "      <td>[493.8609313964844, 58.37133026123047]</td>\n",
       "      <td>[-3.111266851425171, 4.187867641448975]</td>\n",
       "      <td>[2.6772522926330566, 3.0377659797668457]</td>\n",
       "      <td>[-1, 1]</td>\n",
       "      <td>[-441.5695495605469, -58.05699157714844]</td>\n",
       "      <td>[221.16726684570312, 6.049618244171143]</td>\n",
       "      <td>[-5532.4580078125, 1922.3717041015625]</td>\n",
       "      <td>[5554.45654296875, 1923.2574462890625]</td>\n",
       "    </tr>\n",
       "    <tr>\n",
       "      <th>10410310</th>\n",
       "      <td>2</td>\n",
       "      <td>[123.27827453613281, 76.10554504394531]</td>\n",
       "      <td>[2.963960886001587, 4.544536590576172]</td>\n",
       "      <td>[0.9492389559745789, -1.548049807548523]</td>\n",
       "      <td>[-1, 1]</td>\n",
       "      <td>[71.7851791381836, 1.7309870719909668]</td>\n",
       "      <td>[100.22186279296875, -76.08586120605469]</td>\n",
       "      <td>[1191.0498046875, 3581.0009765625]</td>\n",
       "      <td>[1197.4127197265625, 3581.809814453125]</td>\n",
       "    </tr>\n",
       "    <tr>\n",
       "      <th>10410311</th>\n",
       "      <td>2</td>\n",
       "      <td>[84.37528228759766, 51.48967742919922]</td>\n",
       "      <td>[-4.8995585441589355, -3.1916048526763916]</td>\n",
       "      <td>[1.8702059984207153, 0.3356814384460449]</td>\n",
       "      <td>[-1, 1]</td>\n",
       "      <td>[-24.88701057434082, 48.6158332824707]</td>\n",
       "      <td>[80.62149047851562, 16.96135139465332]</td>\n",
       "      <td>[-5662.5546875, -625.2477416992188]</td>\n",
       "      <td>[5663.18310546875, 627.3641967773438]</td>\n",
       "    </tr>\n",
       "    <tr>\n",
       "      <th>10410312</th>\n",
       "      <td>2</td>\n",
       "      <td>[205.97528076171875, 93.4908676147461]</td>\n",
       "      <td>[-2.815476655960083, -3.493112325668335]</td>\n",
       "      <td>[2.590498685836792, -0.06071646511554718]</td>\n",
       "      <td>[-1, 1]</td>\n",
       "      <td>[-175.48109436035156, 93.31859588623047]</td>\n",
       "      <td>[107.85269165039062, -5.672947883605957]</td>\n",
       "      <td>[-1713.8438720703125, -1535.949462890625]</td>\n",
       "      <td>[1726.1767578125, 1538.7919921875]</td>\n",
       "    </tr>\n",
       "  </tbody>\n",
       "</table>\n",
       "<p>10410312 rows × 9 columns</p>\n",
       "</div>"
      ],
      "text/plain": [
       "          fm_num                                     fmpt  \\\n",
       "1              2   [115.31024169921875, 67.8858642578125]   \n",
       "2              2   [174.90928649902344, 94.8431167602539]   \n",
       "3              2   [50.19292449951172, 36.56494903564453]   \n",
       "4              2  [123.36199188232422, 36.11439514160156]   \n",
       "5              2   [77.73294830322266, 48.25190353393555]   \n",
       "...          ...                                      ...   \n",
       "10410308       2  [253.03770446777344, 53.10246658325195]   \n",
       "10410309       2   [493.8609313964844, 58.37133026123047]   \n",
       "10410310       2  [123.27827453613281, 76.10554504394531]   \n",
       "10410311       2   [84.37528228759766, 51.48967742919922]   \n",
       "10410312       2   [205.97528076171875, 93.4908676147461]   \n",
       "\n",
       "                                               fmeta  \\\n",
       "1            [4.317214488983154, 2.7956020832061768]   \n",
       "2           [3.061039924621582, -4.7735371589660645]   \n",
       "3             [3.407804012298584, 5.261791229248047]   \n",
       "4             [4.087923049926758, 4.018555164337158]   \n",
       "5             [4.155832290649414, 4.186665058135986]   \n",
       "...                                              ...   \n",
       "10410308    [-3.1945748329162598, 5.345815658569336]   \n",
       "10410309     [-3.111266851425171, 4.187867641448975]   \n",
       "10410310      [2.963960886001587, 4.544536590576172]   \n",
       "10410311  [-4.8995585441589355, -3.1916048526763916]   \n",
       "10410312    [-2.815476655960083, -3.493112325668335]   \n",
       "\n",
       "                                              fmphi     fmch  \\\n",
       "1         [-2.8239784240722656, 1.1880502700805664]  [1, -1]   \n",
       "2         [1.0060948133468628, -1.2072057723999023]  [1, -1]   \n",
       "3           [1.959214448928833, 2.7868056297302246]  [-1, 1]   \n",
       "4         [-2.3005263805389404, 1.9651362895965576]  [1, -1]   \n",
       "5         [-0.526322066783905, -1.4137132167816162]  [1, -1]   \n",
       "...                                             ...      ...   \n",
       "10410308    [-2.242884874343872, 0.853552520275116]  [-1, 1]   \n",
       "10410309   [2.6772522926330566, 3.0377659797668457]  [-1, 1]   \n",
       "10410310   [0.9492389559745789, -1.548049807548523]  [-1, 1]   \n",
       "10410311   [1.8702059984207153, 0.3356814384460449]  [-1, 1]   \n",
       "10410312  [2.590498685836792, -0.06071646511554718]  [-1, 1]   \n",
       "\n",
       "                                               pxfm  \\\n",
       "1         [-109.54279327392578, 25.353281021118164]   \n",
       "2             [93.6051025390625, 33.72928237915039]   \n",
       "3         [-19.009307861328125, -34.28770065307617]   \n",
       "4          [-82.2415542602539, -13.875109672546387]   \n",
       "5            [67.21261596679688, 7.548426628112793]   \n",
       "...                                             ...   \n",
       "10410308      [-157.54676818847656, 34.90478515625]   \n",
       "10410309   [-441.5695495605469, -58.05699157714844]   \n",
       "10410310     [71.7851791381836, 1.7309870719909668]   \n",
       "10410311     [-24.88701057434082, 48.6158332824707]   \n",
       "10410312   [-175.48109436035156, 93.31859588623047]   \n",
       "\n",
       "                                               pyfm  \\\n",
       "1         [-36.011505126953125, 62.973819732666016]   \n",
       "2          [147.75433349609375, -88.64283752441406]   \n",
       "3            [46.45402145385742, 12.70232105255127]   \n",
       "4          [-91.94839477539062, 33.342628479003906]   \n",
       "5         [-39.049659729003906, -47.65781784057617]   \n",
       "...                                             ...   \n",
       "10410308          [-198.0078125, 40.01909637451172]   \n",
       "10410309    [221.16726684570312, 6.049618244171143]   \n",
       "10410310   [100.22186279296875, -76.08586120605469]   \n",
       "10410311     [80.62149047851562, 16.96135139465332]   \n",
       "10410312   [107.85269165039062, -5.672947883605957]   \n",
       "\n",
       "                                               pzfm  \\\n",
       "1             [4322.18212890625, 553.6569213867188]   \n",
       "2                [1863.0382080078125, -5611.328125]   \n",
       "3            [757.0534057617188, 3525.252197265625]   \n",
       "4             [3676.13623046875, 1004.029052734375]   \n",
       "5              [2479.26806640625, 1587.19287109375]   \n",
       "...                                             ...   \n",
       "10410308      [-3081.84912109375, 5568.43408203125]   \n",
       "10410309     [-5532.4580078125, 1922.3717041015625]   \n",
       "10410310         [1191.0498046875, 3581.0009765625]   \n",
       "10410311        [-5662.5546875, -625.2477416992188]   \n",
       "10410312  [-1713.8438720703125, -1535.949462890625]   \n",
       "\n",
       "                                              Efm  \n",
       "1           [4323.72021484375, 557.8033447265625]  \n",
       "2             [1871.23095703125, 5612.1298828125]  \n",
       "3           [758.7154541015625, 3525.44189453125]  \n",
       "4         [3678.205322265625, 1004.6783447265625]  \n",
       "5            [2480.486328125, 1587.9261474609375]  \n",
       "...                                           ...  \n",
       "10410308    [3092.219482421875, 5568.68701171875]  \n",
       "10410309   [5554.45654296875, 1923.2574462890625]  \n",
       "10410310  [1197.4127197265625, 3581.809814453125]  \n",
       "10410311    [5663.18310546875, 627.3641967773438]  \n",
       "10410312       [1726.1767578125, 1538.7919921875]  \n",
       "\n",
       "[10410312 rows x 9 columns]"
      ]
     },
     "execution_count": 39,
     "metadata": {},
     "output_type": "execute_result"
    }
   ],
   "source": [
    "df_fm = pd.DataFrame(data5, index = [i for i in range(len(Efm))])\n",
    "df_fm.index = range(1, len(df_fm) + 1)\n",
    "df_fm"
   ]
  },
  {
   "cell_type": "markdown",
   "id": "a4939a07-6e5b-4b5c-9b8a-c9f70b04559d",
   "metadata": {},
   "source": [
    "# MERGED DATA FRAME"
   ]
  },
  {
   "cell_type": "code",
   "execution_count": 40,
   "id": "2f95f428-b4e4-48df-803d-72b7c045a4a1",
   "metadata": {},
   "outputs": [
    {
     "name": "stdout",
     "output_type": "stream",
     "text": [
      "18.13871145248413\n"
     ]
    }
   ],
   "source": [
    "t1 = time.time()\n",
    "big_df = pd.concat([df_jet, df_e, df_m, df_p, df_fm], axis=1)\n",
    "big_df\n",
    "t2= time.time()\n",
    "print(t2-t1)"
   ]
  },
  {
   "cell_type": "markdown",
   "id": "fcd5dbad-c550-4f5f-ae60-bbbfb92a4b24",
   "metadata": {},
   "source": [
    "# Triggers"
   ]
  },
  {
   "cell_type": "code",
   "execution_count": 41,
   "id": "dc705fd2-330c-4b9d-b8bf-b783ee021738",
   "metadata": {},
   "outputs": [],
   "source": [
    "# 1. Two forward Muons\n",
    "big_df2 = big_df[big_df['fm_num'] == 2]"
   ]
  },
  {
   "cell_type": "code",
   "execution_count": 42,
   "id": "4b09dd52-8f03-402a-bfdf-6fdf83d33678",
   "metadata": {},
   "outputs": [],
   "source": [
    "# 2. eta1 eta2 product less than zero\n",
    "big_df3 = big_df2[big_df2['fmeta'].apply(lambda x: (x[0] * x[1]) < 0)]\n",
    "# big_df3[big_df3['Efm'].apply(lambda x: any(i < 500 for i in x))]\n"
   ]
  },
  {
   "cell_type": "code",
   "execution_count": 43,
   "id": "eb91d0ce-e65e-4cef-b7fa-3a69a1ed32ca",
   "metadata": {},
   "outputs": [
    {
     "data": {
      "text/plain": [
       "5688535"
      ]
     },
     "execution_count": 43,
     "metadata": {},
     "output_type": "execute_result"
    }
   ],
   "source": [
    "len(big_df3)"
   ]
  },
  {
   "cell_type": "code",
   "execution_count": 44,
   "id": "280be069-3009-4341-a436-10c7d77304e7",
   "metadata": {},
   "outputs": [
    {
     "data": {
      "text/plain": [
       "5553400"
      ]
     },
     "execution_count": 44,
     "metadata": {},
     "output_type": "execute_result"
    }
   ],
   "source": [
    "# 3. Energy of forward muons greater than 500 GeV\n",
    "big_df4 = big_df3[big_df3['Efm'].apply(lambda x: x[0] > 500 and x[1] > 500)]\n",
    "#big_df4 = big_df3[big_df3['Efm'].apply(lambda x: all(i > 500 for i in x))]\n",
    "len(big_df4)"
   ]
  },
  {
   "cell_type": "code",
   "execution_count": 45,
   "id": "1e3f5b67",
   "metadata": {},
   "outputs": [
    {
     "data": {
      "text/plain": [
       "5518309"
      ]
     },
     "execution_count": 45,
     "metadata": {},
     "output_type": "execute_result"
    }
   ],
   "source": [
    "big_df5 = big_df4[big_df4['Efm'].apply(lambda x: (x[0] + x[1]) <= 10000)]\n",
    "len(big_df5)"
   ]
  },
  {
   "cell_type": "markdown",
   "id": "ee49a68d-bcc7-42a9-b392-9c298fc0d176",
   "metadata": {},
   "source": [
    "# # Observables!"
   ]
  },
  {
   "cell_type": "markdown",
   "id": "7bc0c883-3fc8-4c7b-8a96-afadbf074107",
   "metadata": {},
   "source": [
    "# 1) Invariant Mass"
   ]
  },
  {
   "cell_type": "code",
   "execution_count": 46,
   "id": "08814e47-7449-4b06-80a2-45a8f013a8da",
   "metadata": {},
   "outputs": [],
   "source": [
    "def mm(Efm, pxfm, pyfm, pzfm):\n",
    "    return np.sqrt((Efm[:,0]+Efm[:,1])**2 - (pxfm[:,0]+pxfm[:,1])**2 - (pyfm[:,0]+pyfm[:,1])**2 - (pzfm[:,0]+pzfm[:,1])**2)"
   ]
  },
  {
   "cell_type": "code",
   "execution_count": 47,
   "id": "c19f441a-a2f0-49f6-a93b-c71d9b9ce40c",
   "metadata": {},
   "outputs": [],
   "source": [
    "Efm2 = np.array(big_df5['Efm'].tolist())\n",
    "pxfm2 = np.array(big_df5['pxfm'].tolist())\n",
    "pyfm2 = np.array(big_df5['pyfm'].tolist())\n",
    "pzfm2 = np.array(big_df5['pzfm'].tolist())"
   ]
  },
  {
   "cell_type": "markdown",
   "id": "36cee9e3-a63f-451f-8e11-09ec4b391516",
   "metadata": {},
   "source": [
    "# Plotting the Invariant Mass of two Forward Muons"
   ]
  },
  {
   "cell_type": "code",
   "execution_count": 48,
   "id": "0944058f-95a8-419e-a36e-6445632d6dd5",
   "metadata": {},
   "outputs": [
    {
     "data": {
      "text/plain": [
       "array([6475.43851356, 7029.32055725, 6319.02705721, ..., 3480.89563466,\n",
       "       8293.86490376, 6525.50604868])"
      ]
     },
     "execution_count": 48,
     "metadata": {},
     "output_type": "execute_result"
    }
   ],
   "source": [
    "invM = mm(Efm2, pxfm2, pyfm2, pzfm2)\n",
    "invM"
   ]
  },
  {
   "cell_type": "code",
   "execution_count": 49,
   "id": "92b11f3c-4a25-4c19-9ea0-e8f6d054167a",
   "metadata": {},
   "outputs": [],
   "source": [
    "df_results = pd.DataFrame({'Invariant_Mass': invM})"
   ]
  },
  {
   "cell_type": "code",
   "execution_count": 50,
   "id": "dcf948f3-9f9b-4759-91e4-26fb72406426",
   "metadata": {},
   "outputs": [
    {
     "data": {
      "image/png": "[encoded data removed]",
      "text/plain": [
       "<Figure size 720x504 with 1 Axes>"
      ]
     },
     "metadata": {
      "needs_background": "light"
     },
     "output_type": "display_data"
    }
   ],
   "source": [
    "plt.figure(figsize=(10,7))\n",
    "plt.hist(invM, histtype = 'step', bins = 50)\n",
    "plt.show()"
   ]
  },
  {
   "cell_type": "markdown",
   "id": "b3b446ec-175d-42ac-b92c-cd16b15559ab",
   "metadata": {},
   "source": [
    "# 2) Missing Invariant Mass (MIM) "
   ]
  },
  {
   "cell_type": "code",
   "execution_count": 51,
   "id": "d189dd2f-5cc2-4753-801b-d1dc12142069",
   "metadata": {},
   "outputs": [],
   "source": [
    "def delP_sq(Eb, Emu, Pxm, Pym, Pzm):\n",
    "\n",
    "    return np.abs(4*Eb**2 - 4*Eb*(Emu[:,0]+Emu[:,1]) + 2*(Emu[:,0]*Emu[:,1] - (Pxm[:,0]*Pxm[:,1] + Pym[:,0]*Pym[:,1] + Pzm[:,0]*Pzm[:,1])) + (Emu[:,0]**2 - (Pxm[:,0]**2 + Pym[:,0]**2 + Pzm[:,0]**2)) + (Emu[:,1]**2 - (Pxm[:,1]**2 + Pym[:,1]**2 + Pzm[:,1]**2)))\n"
   ]
  },
  {
   "cell_type": "code",
   "execution_count": 52,
   "id": "b153d3c0",
   "metadata": {},
   "outputs": [],
   "source": [
    "delp_sq2 = delP_sq(5000, Efm2, pxfm2, pyfm2, pzfm2) "
   ]
  },
  {
   "cell_type": "code",
   "execution_count": 53,
   "id": "fc7d4ab8",
   "metadata": {},
   "outputs": [],
   "source": [
    "MIM2 = np.sqrt(delp_sq2)"
   ]
  },
  {
   "cell_type": "code",
   "execution_count": 54,
   "id": "218f87eb-78df-43da-869e-6405af76d785",
   "metadata": {},
   "outputs": [],
   "source": [
    "df_results['MIM'] = MIM2"
   ]
  },
  {
   "cell_type": "code",
   "execution_count": 55,
   "id": "dda9c4d6",
   "metadata": {},
   "outputs": [
    {
     "data": {
      "image/png": "[encoded data removed]",
      "text/plain": [
       "<Figure size 720x504 with 1 Axes>"
      ]
     },
     "metadata": {
      "needs_background": "light"
     },
     "output_type": "display_data"
    }
   ],
   "source": [
    "plt.figure(figsize=(10,7))\n",
    "plt.hist(MIM2, histtype = 'step', bins = 50)\n",
    "plt.show()"
   ]
  },
  {
   "cell_type": "markdown",
   "id": "69d2d947-c951-4bda-a573-0328042893ba",
   "metadata": {},
   "source": [
    "# 3) Eta_Distribution"
   ]
  },
  {
   "cell_type": "code",
   "execution_count": 56,
   "id": "1d63ea3f-b7b1-47ab-83d2-33398b6ff4f5",
   "metadata": {},
   "outputs": [],
   "source": [
    "fmeta2 = np.array(big_df5['fmeta'].tolist())\n",
    "fmphi2 = np.array(big_df5['fmphi'].tolist())\n",
    "fmpt2 = np.array(big_df5['fmpt'].tolist())"
   ]
  },
  {
   "cell_type": "code",
   "execution_count": 57,
   "id": "e341b68c-7d95-40ce-a712-42e4abfed7d6",
   "metadata": {},
   "outputs": [],
   "source": [
    "fmeta3 = big_df5['fmeta'].reset_index(drop=True)\n",
    "df_results['fmeta'] = fmeta3"
   ]
  },
  {
   "cell_type": "code",
   "execution_count": 58,
   "id": "18779137-851d-4e48-bc93-469b5a8ce57e",
   "metadata": {},
   "outputs": [
    {
     "data": {
      "text/plain": [
       "array([[ 3.06103992, -4.77353716],\n",
       "       [ 4.12660694, -3.87286139],\n",
       "       [ 3.07173657, -4.03496313],\n",
       "       ...,\n",
       "       [-2.86825705,  3.46157384],\n",
       "       [-3.19457483,  5.34581566],\n",
       "       [-3.11126685,  4.18786764]])"
      ]
     },
     "execution_count": 58,
     "metadata": {},
     "output_type": "execute_result"
    }
   ],
   "source": [
    "fmeta2"
   ]
  },
  {
   "cell_type": "code",
   "execution_count": 59,
   "id": "37aab21f-2100-4c1c-886e-853e4a47d36b",
   "metadata": {},
   "outputs": [
    {
     "data": {
      "image/png": "[encoded data removed]",
      "text/plain": [
       "<Figure size 720x504 with 1 Axes>"
      ]
     },
     "metadata": {
      "needs_background": "light"
     },
     "output_type": "display_data"
    }
   ],
   "source": [
    "plt.figure(figsize=(10,7))\n",
    "plt.hist(fmeta2, histtype = 'step', bins =50)\n",
    "plt.show()"
   ]
  },
  {
   "cell_type": "markdown",
   "id": "4539c1ee-4293-44e7-9db9-6925ec809f24",
   "metadata": {},
   "source": [
    "# 4) Delta_Eta"
   ]
  },
  {
   "cell_type": "code",
   "execution_count": 60,
   "id": "65b843cc-d223-4fc8-8f7d-df3a6f08eab3",
   "metadata": {},
   "outputs": [],
   "source": [
    "def deltaeta(eta):\n",
    "    return np.abs((eta[:,0]) - (eta[:,1]))"
   ]
  },
  {
   "cell_type": "code",
   "execution_count": 61,
   "id": "e0479ced-c2ec-4859-9e8f-e9c3f84dc043",
   "metadata": {},
   "outputs": [],
   "source": [
    "deleta2 = deltaeta(fmeta2)"
   ]
  },
  {
   "cell_type": "code",
   "execution_count": 62,
   "id": "d71ff795-8936-4964-8d11-74e9f567791e",
   "metadata": {},
   "outputs": [],
   "source": [
    "df_results['del_fmeta'] = deleta2"
   ]
  },
  {
   "cell_type": "markdown",
   "id": "daaa5a44-2d19-4768-b92e-377ad37a7be5",
   "metadata": {},
   "source": [
    "# Plotting"
   ]
  },
  {
   "cell_type": "code",
   "execution_count": 63,
   "id": "36af13b0-3cc6-4b4a-9f27-10c0ce92f665",
   "metadata": {},
   "outputs": [
    {
     "data": {
      "image/png": "[encoded data removed]",
      "text/plain": [
       "<Figure size 720x504 with 1 Axes>"
      ]
     },
     "metadata": {
      "needs_background": "light"
     },
     "output_type": "display_data"
    }
   ],
   "source": [
    "plt.figure(figsize=(10,7))\n",
    "plt.hist(deleta2, histtype = 'step', bins =50)\n",
    "plt.show()"
   ]
  },
  {
   "cell_type": "markdown",
   "id": "20c7f5e2-0269-49ab-b4af-f044a5c87d2b",
   "metadata": {},
   "source": [
    "# 5) Delta_PHI"
   ]
  },
  {
   "cell_type": "code",
   "execution_count": 64,
   "id": "de1f30fc-ade5-441e-a56f-6d9f35479393",
   "metadata": {},
   "outputs": [],
   "source": [
    "def delphi(phi):\n",
    "    del_phi = np.abs(phi[:, 0] - phi[:, 1])\n",
    "    del_phi = np.where(del_phi > np.pi, 2*np.pi - del_phi, del_phi)\n",
    "    return del_phi"
   ]
  },
  {
   "cell_type": "code",
   "execution_count": 65,
   "id": "6d265576-7421-4536-a411-b6bec4eec2fc",
   "metadata": {},
   "outputs": [],
   "source": [
    "# def delphi(phi):\n",
    "#     del_phi = phi[:, 0] - phi[:, 1]\n",
    "#     del_phi = np.where(del_phi >= -np.pi, del_phi, del_phi + 2 * np.pi)\n",
    "#     del_phi = np.where(del_phi <= np.pi, del_phi, del_phi - 2 * np.pi)\n",
    "    \n",
    "#     return del_phi"
   ]
  },
  {
   "cell_type": "code",
   "execution_count": 66,
   "id": "32c68296-2975-4eb6-845f-c537aff1ccce",
   "metadata": {},
   "outputs": [],
   "source": [
    "delphi2 = delphi(fmphi2)"
   ]
  },
  {
   "cell_type": "code",
   "execution_count": 67,
   "id": "2ec7a942-a530-47e8-999b-9a9cbf6c3bb1",
   "metadata": {},
   "outputs": [],
   "source": [
    "df_results['del_phi'] = delphi2"
   ]
  },
  {
   "cell_type": "code",
   "execution_count": 68,
   "id": "32c25e03-f15d-4e9b-bea4-61d234ff9203",
   "metadata": {},
   "outputs": [
    {
     "data": {
      "image/png": "[encoded data removed]",
      "text/plain": [
       "<Figure size 720x504 with 1 Axes>"
      ]
     },
     "metadata": {
      "needs_background": "light"
     },
     "output_type": "display_data"
    }
   ],
   "source": [
    "plt.figure(figsize=(10, 7))  \n",
    "plt.hist(delphi2, bins=50, color='blue', alpha=0.7, histtype = 'step')\n",
    "plt.show()"
   ]
  },
  {
   "cell_type": "markdown",
   "id": "118c65c9-632d-490e-a20e-f577658db21a",
   "metadata": {},
   "source": [
    "# 6) Delta_R"
   ]
  },
  {
   "cell_type": "code",
   "execution_count": 69,
   "id": "ad5746ac-767d-47bb-acda-d1dfdaf0e8ce",
   "metadata": {},
   "outputs": [],
   "source": [
    "def delR(delPhi, delEta):\n",
    "    return np.sqrt(delphi**2 + delEta**2)"
   ]
  },
  {
   "cell_type": "code",
   "execution_count": 70,
   "id": "e7f5e6a4-f315-4fa3-b409-975ca2c2ba17",
   "metadata": {},
   "outputs": [],
   "source": [
    "delRfm = np.sqrt(delphi2**2 + deleta2**2)"
   ]
  },
  {
   "cell_type": "code",
   "execution_count": 71,
   "id": "21a62292-c8fe-4596-a02a-5f0a1a23f4dd",
   "metadata": {},
   "outputs": [],
   "source": [
    "df_results['delR_fm'] = delRfm"
   ]
  },
  {
   "cell_type": "code",
   "execution_count": 72,
   "id": "73b3db71-5564-428a-a085-23ef120bec05",
   "metadata": {},
   "outputs": [
    {
     "data": {
      "image/png": "[encoded data removed]",
      "text/plain": [
       "<Figure size 720x504 with 1 Axes>"
      ]
     },
     "metadata": {
      "needs_background": "light"
     },
     "output_type": "display_data"
    }
   ],
   "source": [
    "plt.figure(figsize=(10, 7))  \n",
    "plt.hist(delRfm, bins=50, color='blue', alpha=0.7, histtype = 'step')\n",
    "plt.show()"
   ]
  },
  {
   "cell_type": "markdown",
   "id": "28d411f8-52a1-43eb-b732-0637abb75974",
   "metadata": {},
   "source": [
    "# 7) Energy of Forward Muons"
   ]
  },
  {
   "cell_type": "code",
   "execution_count": 73,
   "id": "def27371-7f81-4fd1-ab45-9794db32e5b6",
   "metadata": {},
   "outputs": [],
   "source": [
    "Emin = np.min(Efm2, axis=1).reshape(-1,1)"
   ]
  },
  {
   "cell_type": "code",
   "execution_count": 74,
   "id": "f2f261fd-6c0b-4a55-8b7d-22057808d507",
   "metadata": {},
   "outputs": [],
   "source": [
    "Emax = np.max(Efm2, axis=1).reshape(-1,1)"
   ]
  },
  {
   "cell_type": "code",
   "execution_count": 75,
   "id": "22b21969",
   "metadata": {},
   "outputs": [],
   "source": [
    "totE = np.sum(Efm2, axis = 1).reshape(-1,1)"
   ]
  },
  {
   "cell_type": "code",
   "execution_count": 76,
   "id": "40803924-19b6-42c1-bd15-09f0e6130e6e",
   "metadata": {},
   "outputs": [],
   "source": [
    "df_results['Emin_fm'] = Emin\n",
    "df_results['Emax_fm'] = Emax\n",
    "df_results['totE_fm'] = totE"
   ]
  },
  {
   "cell_type": "code",
   "execution_count": 77,
   "id": "6e094e4a-1e9d-4d94-8423-1bf6e07f5c53",
   "metadata": {},
   "outputs": [
    {
     "data": {
      "image/png": "[encoded data removed]",
      "text/plain": [
       "<Figure size 720x504 with 1 Axes>"
      ]
     },
     "metadata": {
      "needs_background": "light"
     },
     "output_type": "display_data"
    }
   ],
   "source": [
    "plt.figure(figsize=(10, 7))  \n",
    "plt.hist(Emin, bins=50, color='blue', alpha=0.7, histtype = 'step')\n",
    "plt.hist(Emax, bins=50, color='red', alpha=0.7, histtype = 'step')\n",
    "plt.hist(totE, bins=50, color='cyan', alpha=0.7, histtype = 'step')\n",
    "plt.show()"
   ]
  },
  {
   "cell_type": "markdown",
   "id": "ce32ae63-18e1-4430-ac65-f8bb7240ed1c",
   "metadata": {},
   "source": [
    "# 8) P_T of forward muons"
   ]
  },
  {
   "cell_type": "code",
   "execution_count": 78,
   "id": "8f2a55c4-c882-44f6-90af-a0d2861f7261",
   "metadata": {},
   "outputs": [],
   "source": [
    "def PTMu(px, py):\n",
    "    return np.sqrt((px[:,0] + px[:,1])**2 +(py[:,0] + py[:,1])**2)"
   ]
  },
  {
   "cell_type": "code",
   "execution_count": 79,
   "id": "c5301a25-fbf4-416d-93f3-148f7418a747",
   "metadata": {},
   "outputs": [],
   "source": [
    "ptmu = PTMu(pxfm2, pyfm2)"
   ]
  },
  {
   "cell_type": "code",
   "execution_count": 80,
   "id": "c0f6524f-2052-4892-834b-63e958414f2d",
   "metadata": {},
   "outputs": [],
   "source": [
    "df_results['PT_fm'] = ptmu"
   ]
  },
  {
   "cell_type": "code",
   "execution_count": 81,
   "id": "4322aa85-db10-47da-897b-47fd7c96c547",
   "metadata": {},
   "outputs": [
    {
     "data": {
      "image/png": "[encoded data removed]",
      "text/plain": [
       "<Figure size 720x504 with 1 Axes>"
      ]
     },
     "metadata": {
      "needs_background": "light"
     },
     "output_type": "display_data"
    }
   ],
   "source": [
    "plt.figure(figsize=(10, 7))\n",
    "plt.hist(ptmu, histtype = 'step', bins =50)\n",
    "plt.show()"
   ]
  },
  {
   "cell_type": "markdown",
   "id": "5891a5c0-8c4b-4f3d-8d41-11fed373f9e3",
   "metadata": {},
   "source": [
    "# 9) Missing Transverse Energy MET"
   ]
  },
  {
   "cell_type": "code",
   "execution_count": 82,
   "id": "e32da2c9-8d24-4bf9-bfa3-a53525fc1095",
   "metadata": {},
   "outputs": [],
   "source": [
    "pxj2 = big_df5['pxj'].tolist()\n",
    "pyj2 = big_df5['pyj'].tolist()\n",
    "pxe2 = big_df5['pxe'].tolist()\n",
    "pye2 = big_df5['pye'].tolist()\n",
    "pxm2 = big_df5['pxm'].tolist()\n",
    "pym2 = big_df5['pym'].tolist()\n",
    "pxp2 = big_df5['pxp'].tolist()\n",
    "pyp2 = big_df5['pyp'].tolist()\n",
    "pxfm3 = big_df5['pxfm'].tolist()\n",
    "pyfm3 = big_df5['pyfm'].tolist()"
   ]
  },
  {
   "cell_type": "code",
   "execution_count": 83,
   "id": "8d8e2ed2-07e9-42ef-a290-985cdb4bfb4e",
   "metadata": {},
   "outputs": [],
   "source": [
    "tpx = ak.concatenate([pxj2, pxe2, pxm2, pxp2, pxfm2], axis=1)\n",
    "tpy = ak.concatenate([pyj2, pye2, pym2, pyp2, pyfm2], axis=1)"
   ]
  },
  {
   "cell_type": "code",
   "execution_count": 84,
   "id": "8cca13f9-b6df-4bb3-99aa-76e57da5c526",
   "metadata": {},
   "outputs": [],
   "source": [
    "sum_px = ak.sum(tpx, axis=1)\n",
    "sum_py = ak.sum(tpy, axis=1)"
   ]
  },
  {
   "cell_type": "code",
   "execution_count": 85,
   "id": "10bddd24-1faf-49b4-8bac-b55ae8471ba5",
   "metadata": {},
   "outputs": [],
   "source": [
    "MET = np.sqrt(sum_px**2 + sum_py**2)"
   ]
  },
  {
   "cell_type": "code",
   "execution_count": 86,
   "id": "55d7cc58-b72c-4b45-89fa-45d49109105f",
   "metadata": {},
   "outputs": [],
   "source": [
    "df_results['MET'] = MET"
   ]
  },
  {
   "cell_type": "code",
   "execution_count": 87,
   "id": "9d29d6ee-67dc-45b4-87bd-6a2d58727f25",
   "metadata": {},
   "outputs": [
    {
     "data": {
      "image/png": "[encoded data removed]",
      "text/plain": [
       "<Figure size 720x504 with 1 Axes>"
      ]
     },
     "metadata": {
      "needs_background": "light"
     },
     "output_type": "display_data"
    }
   ],
   "source": [
    "plt.figure(figsize=(10, 7))  \n",
    "plt.hist(MET, bins=50, histtype ='step')\n",
    "plt.show()"
   ]
  },
  {
   "cell_type": "markdown",
   "id": "962b0bf7-dbb2-421c-af8b-87b0483be6f2",
   "metadata": {},
   "source": [
    "# Saving the data frames"
   ]
  },
  {
   "cell_type": "code",
   "execution_count": 88,
   "id": "4f85ee0f-edd6-42a8-a92a-2503a25dee27",
   "metadata": {},
   "outputs": [],
   "source": [
    "# df_results.to_pickle('/home/chandrima/IDM_MuC/Results_new/IDM_BKG_higgs_dist.pkl')"
   ]
  },
  {
   "cell_type": "code",
   "execution_count": 89,
   "id": "6fc7e025-7345-4388-8857-622d19407e72",
   "metadata": {},
   "outputs": [],
   "source": [
    "# big_df5.to_pickle('/home/chandrima/IDM_MuC/Results_new/IDM_BKG_wpwm_param.pkl')"
   ]
  },
  {
   "cell_type": "code",
   "execution_count": 90,
   "id": "a1fb7857",
   "metadata": {},
   "outputs": [
    {
     "name": "stdout",
     "output_type": "stream",
     "text": [
      "3.9508249759674072\n"
     ]
    }
   ],
   "source": [
    "t2 = time.time()\n",
    "print((t2-t1)/60)"
   ]
  },
  {
   "cell_type": "code",
   "execution_count": 92,
   "id": "2198cc9e-508c-4497-ac42-e0fc411c4442",
   "metadata": {},
   "outputs": [
    {
     "data": {
      "text/plain": [
       "5552240"
      ]
     },
     "execution_count": 92,
     "metadata": {},
     "output_type": "execute_result"
    }
   ],
   "source": [
    "# 4. No leptons and Jets in Central region (Missing Energy)\n",
    "big_df5 = big_df4[(big_df4['jet_num'] == 0) & (big_df4['e_num'] == 0) & (big_df4['m_num'] == 0)]\n",
    "len(big_df5)"
   ]
  },
  {
   "cell_type": "code",
   "execution_count": null,
   "id": "8ff57949",
   "metadata": {},
   "outputs": [],
   "source": []
  }
 ],
 "metadata": {
  "kernelspec": {
   "display_name": "Python 3",
   "language": "python",
   "name": "python3"
  },
  "language_info": {
   "codemirror_mode": {
    "name": "ipython",
    "version": 3
   },
   "file_extension": ".py",
   "mimetype": "text/x-python",
   "name": "python",
   "nbconvert_exporter": "python",
   "pygments_lexer": "ipython3",
   "version": "3.10.12"
  }
 },
 "nbformat": 4,
 "nbformat_minor": 5
}
