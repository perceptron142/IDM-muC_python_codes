{
 "cells": [
  {
   "cell_type": "code",
   "execution_count": 1,
   "id": "a86fbe3d-e71b-47d7-9a08-d140892aa99e",
   "metadata": {},
   "outputs": [],
   "source": [
    "import os\n",
    "import numpy as np\n",
    "import pandas as pd\n",
    "import uproot as ur\n",
    "import matplotlib.pyplot as plt\n",
    "import awkward as ak\n",
    "import vector\n",
    "import scienceplots\n",
    "plt.style.use(['science','notebook','grid'])\n",
    "import time"
   ]
  },
  {
   "cell_type": "code",
   "execution_count": 2,
   "id": "16064dbc",
   "metadata": {},
   "outputs": [],
   "source": [
    "t1 = time.time()"
   ]
  },
  {
   "cell_type": "code",
   "execution_count": null,
   "id": "1331dbea-faa4-48f7-85d7-f5a73ec96b0e",
   "metadata": {},
   "outputs": [],
   "source": [
    "file = \"/home/chandrima/IDM_MuC/dummy_roots/IDMsig_a0a0_BP1.root\""
   ]
  },
  {
   "cell_type": "code",
   "execution_count": 4,
   "id": "9e39e760-9d2f-47c3-8cba-77a8a2615ced",
   "metadata": {},
   "outputs": [],
   "source": [
    "file1 = ur.open(file)"
   ]
  },
  {
   "cell_type": "code",
   "execution_count": 5,
   "id": "654ee636-41d6-4368-bc32-ebd9d6a4d6c7",
   "metadata": {},
   "outputs": [
    {
     "name": "stdout",
     "output_type": "stream",
     "text": [
      "{'ProcessID0;1': 'TProcessID', 'ProcessID1;1': 'TProcessID', 'ProcessID2;1': 'TProcessID', 'ProcessID3;1': 'TProcessID', 'ProcessID4;1': 'TProcessID', 'ProcessID5;1': 'TProcessID', 'ProcessID6;1': 'TProcessID', 'ProcessID7;1': 'TProcessID', 'ProcessID8;1': 'TProcessID', 'ProcessID9;1': 'TProcessID', 'ProcessID10;1': 'TProcessID', 'ProcessID11;1': 'TProcessID', 'ProcessID12;1': 'TProcessID', 'ProcessID13;1': 'TProcessID', 'ProcessID14;1': 'TProcessID', 'ProcessID15;1': 'TProcessID', 'ProcessID16;1': 'TProcessID', 'ProcessID17;1': 'TProcessID', 'ProcessID18;1': 'TProcessID', 'ProcessID19;1': 'TProcessID', 'ProcessID20;1': 'TProcessID', 'ProcessID21;1': 'TProcessID', 'ProcessID22;1': 'TProcessID', 'ProcessID23;1': 'TProcessID', 'ProcessID24;1': 'TProcessID', 'ProcessID25;1': 'TProcessID', 'ProcessID26;1': 'TProcessID', 'ProcessID27;1': 'TProcessID', 'ProcessID28;1': 'TProcessID', 'ProcessID29;1': 'TProcessID', 'ProcessID30;1': 'TProcessID', 'ProcessID31;1': 'TProcessID', 'ProcessID32;1': 'TProcessID', 'ProcessID33;1': 'TProcessID', 'ProcessID34;1': 'TProcessID', 'ProcessID35;1': 'TProcessID', 'ProcessID36;1': 'TProcessID', 'ProcessID37;1': 'TProcessID', 'ProcessID38;1': 'TProcessID', 'ProcessID39;1': 'TProcessID', 'ProcessID40;1': 'TProcessID', 'ProcessID41;1': 'TProcessID', 'ProcessID42;1': 'TProcessID', 'ProcessID43;1': 'TProcessID', 'ProcessID44;1': 'TProcessID', 'ProcessID45;1': 'TProcessID', 'ProcessID46;1': 'TProcessID', 'ProcessID47;1': 'TProcessID', 'ProcessID48;1': 'TProcessID', 'ProcessID49;1': 'TProcessID', 'ProcessID50;1': 'TProcessID', 'ProcessID51;1': 'TProcessID', 'ProcessID52;1': 'TProcessID', 'ProcessID53;1': 'TProcessID', 'ProcessID54;1': 'TProcessID', 'ProcessID55;1': 'TProcessID', 'ProcessID56;1': 'TProcessID', 'ProcessID57;1': 'TProcessID', 'ProcessID58;1': 'TProcessID', 'ProcessID59;1': 'TProcessID', 'ProcessID60;1': 'TProcessID', 'ProcessID61;1': 'TProcessID', 'ProcessID62;1': 'TProcessID', 'ProcessID63;1': 'TProcessID', 'ProcessID64;1': 'TProcessID', 'ProcessID65;1': 'TProcessID', 'ProcessID66;1': 'TProcessID', 'ProcessID67;1': 'TProcessID', 'ProcessID68;1': 'TProcessID', 'ProcessID69;1': 'TProcessID', 'ProcessID70;1': 'TProcessID', 'ProcessID71;1': 'TProcessID', 'ProcessID72;1': 'TProcessID', 'ProcessID73;1': 'TProcessID', 'ProcessID74;1': 'TProcessID', 'ProcessID75;1': 'TProcessID', 'ProcessID76;1': 'TProcessID', 'ProcessID77;1': 'TProcessID', 'ProcessID78;1': 'TProcessID', 'ProcessID79;1': 'TProcessID', 'ProcessID80;1': 'TProcessID', 'ProcessID81;1': 'TProcessID', 'ProcessID82;1': 'TProcessID', 'ProcessID83;1': 'TProcessID', 'ProcessID84;1': 'TProcessID', 'ProcessID85;1': 'TProcessID', 'ProcessID86;1': 'TProcessID', 'ProcessID87;1': 'TProcessID', 'ProcessID88;1': 'TProcessID', 'ProcessID89;1': 'TProcessID', 'ProcessID90;1': 'TProcessID', 'ProcessID91;1': 'TProcessID', 'ProcessID92;1': 'TProcessID', 'ProcessID93;1': 'TProcessID', 'ProcessID94;1': 'TProcessID', 'ProcessID95;1': 'TProcessID', 'ProcessID96;1': 'TProcessID', 'ProcessID97;1': 'TProcessID', 'ProcessID98;1': 'TProcessID', 'ProcessID99;1': 'TProcessID', 'ProcessID100;1': 'TProcessID', 'ProcessID101;1': 'TProcessID', 'ProcessID102;1': 'TProcessID', 'ProcessID103;1': 'TProcessID', 'ProcessID104;1': 'TProcessID', 'ProcessID105;1': 'TProcessID', 'ProcessID106;1': 'TProcessID', 'ProcessID107;1': 'TProcessID', 'ProcessID108;1': 'TProcessID', 'ProcessID109;1': 'TProcessID', 'ProcessID110;1': 'TProcessID', 'ProcessID111;1': 'TProcessID', 'ProcessID112;1': 'TProcessID', 'ProcessID113;1': 'TProcessID', 'ProcessID114;1': 'TProcessID', 'ProcessID115;1': 'TProcessID', 'ProcessID116;1': 'TProcessID', 'ProcessID117;1': 'TProcessID', 'ProcessID118;1': 'TProcessID', 'ProcessID119;1': 'TProcessID', 'ProcessID120;1': 'TProcessID', 'ProcessID121;1': 'TProcessID', 'ProcessID122;1': 'TProcessID', 'ProcessID123;1': 'TProcessID', 'ProcessID124;1': 'TProcessID', 'ProcessID125;1': 'TProcessID', 'ProcessID126;1': 'TProcessID', 'ProcessID127;1': 'TProcessID', 'ProcessID128;1': 'TProcessID', 'ProcessID129;1': 'TProcessID', 'ProcessID130;1': 'TProcessID', 'ProcessID131;1': 'TProcessID', 'ProcessID132;1': 'TProcessID', 'ProcessID133;1': 'TProcessID', 'ProcessID134;1': 'TProcessID', 'ProcessID135;1': 'TProcessID', 'ProcessID136;1': 'TProcessID', 'ProcessID137;1': 'TProcessID', 'ProcessID138;1': 'TProcessID', 'ProcessID139;1': 'TProcessID', 'ProcessID140;1': 'TProcessID', 'ProcessID141;1': 'TProcessID', 'ProcessID142;1': 'TProcessID', 'ProcessID143;1': 'TProcessID', 'ProcessID144;1': 'TProcessID', 'ProcessID145;1': 'TProcessID', 'ProcessID146;1': 'TProcessID', 'ProcessID147;1': 'TProcessID', 'ProcessID148;1': 'TProcessID', 'ProcessID149;1': 'TProcessID', 'ProcessID150;1': 'TProcessID', 'ProcessID151;1': 'TProcessID', 'ProcessID152;1': 'TProcessID', 'ProcessID153;1': 'TProcessID', 'ProcessID154;1': 'TProcessID', 'ProcessID155;1': 'TProcessID', 'ProcessID156;1': 'TProcessID', 'ProcessID157;1': 'TProcessID', 'ProcessID158;1': 'TProcessID', 'ProcessID159;1': 'TProcessID', 'ProcessID160;1': 'TProcessID', 'ProcessID161;1': 'TProcessID', 'ProcessID162;1': 'TProcessID', 'ProcessID163;1': 'TProcessID', 'ProcessID164;1': 'TProcessID', 'ProcessID165;1': 'TProcessID', 'ProcessID166;1': 'TProcessID', 'ProcessID167;1': 'TProcessID', 'ProcessID168;1': 'TProcessID', 'ProcessID169;1': 'TProcessID', 'ProcessID170;1': 'TProcessID', 'ProcessID171;1': 'TProcessID', 'ProcessID172;1': 'TProcessID', 'ProcessID173;1': 'TProcessID', 'ProcessID174;1': 'TProcessID', 'ProcessID175;1': 'TProcessID', 'ProcessID176;1': 'TProcessID', 'ProcessID177;1': 'TProcessID', 'ProcessID178;1': 'TProcessID', 'ProcessID179;1': 'TProcessID', 'ProcessID180;1': 'TProcessID', 'ProcessID181;1': 'TProcessID', 'ProcessID182;1': 'TProcessID', 'ProcessID183;1': 'TProcessID', 'ProcessID184;1': 'TProcessID', 'ProcessID185;1': 'TProcessID', 'ProcessID186;1': 'TProcessID', 'ProcessID187;1': 'TProcessID', 'ProcessID188;1': 'TProcessID', 'ProcessID189;1': 'TProcessID', 'ProcessID190;1': 'TProcessID', 'ProcessID191;1': 'TProcessID', 'ProcessID192;1': 'TProcessID', 'ProcessID193;1': 'TProcessID', 'ProcessID194;1': 'TProcessID', 'ProcessID195;1': 'TProcessID', 'ProcessID196;1': 'TProcessID', 'ProcessID197;1': 'TProcessID', 'ProcessID198;1': 'TProcessID', 'ProcessID199;1': 'TProcessID', 'Delphes;1': 'TTree'}\n"
     ]
    }
   ],
   "source": [
    "print(file1.classnames())"
   ]
  },
  {
   "cell_type": "code",
   "execution_count": 6,
   "id": "084ad1ae-fe44-450c-b478-1dabcb9e9575",
   "metadata": {},
   "outputs": [],
   "source": [
    "# treevent = file1[\"Delphes;1/\"]\n",
    "# treevent.show()"
   ]
  },
  {
   "cell_type": "markdown",
   "id": "4340e657-451f-48f4-887c-a9cb4e2c5e2f",
   "metadata": {},
   "source": [
    "# DEFINITIONS"
   ]
  },
  {
   "cell_type": "code",
   "execution_count": 7,
   "id": "159a845a-313c-4a5d-8b3f-37ba884ac5dc",
   "metadata": {},
   "outputs": [],
   "source": [
    "def px(pt, phi):\n",
    "    return pt*(np.cos(phi))\n",
    "def py(pt, phi):\n",
    "    return pt*(np.sin(phi))\n",
    "def pz(pt, m, eta):\n",
    "    return (np.sqrt(pt**2 + m**2))*np.sinh(eta)\n",
    "def E(pt, m, eta):\n",
    "    return (np.sqrt(pt**2 + m**2))*np.cosh(eta)"
   ]
  },
  {
   "cell_type": "markdown",
   "id": "37d8550d-0452-4597-b322-0361594e8c29",
   "metadata": {},
   "source": [
    "# JET"
   ]
  },
  {
   "cell_type": "code",
   "execution_count": 8,
   "id": "cfd872c8-d1fa-4361-9995-e8d191da2e85",
   "metadata": {},
   "outputs": [
    {
     "name": "stdout",
     "output_type": "stream",
     "text": [
      "name                 | typename                 | interpretation                \n",
      "---------------------+--------------------------+-------------------------------\n",
      "VLCjetR05_inclusive. | float[]                  | AsJagged(AsDtype('>f4'))      \n",
      "name                 | typename                 | interpretation                \n",
      "---------------------+--------------------------+-------------------------------\n",
      "VLCjetR05_inclusive. | float[]                  | AsJagged(AsDtype('>f4'))      \n",
      "name                 | typename                 | interpretation                \n",
      "---------------------+--------------------------+-------------------------------\n",
      "VLCjetR05_inclusive. | float[]                  | AsJagged(AsDtype('>f4'))      \n",
      "name                 | typename                 | interpretation                \n",
      "---------------------+--------------------------+-------------------------------\n",
      "VLCjetR05_inclusive. | float[]                  | AsJagged(AsDtype('>f4'))      \n",
      "name                 | typename                 | interpretation                \n",
      "---------------------+--------------------------+-------------------------------\n",
      "VLCjetR05_inclusive. | int32_t[]                | AsJagged(AsDtype('>i4'))      \n"
     ]
    }
   ],
   "source": [
    "tree1 = file1[\"Delphes;1/VLCjetR05_inclusive.PT\"]\n",
    "tree2 = file1[\"Delphes;1/VLCjetR05_inclusive.Eta\"]\n",
    "tree3 = file1[\"Delphes;1/VLCjetR05_inclusive.Phi\"]\n",
    "tree4 = file1[\"Delphes;1/VLCjetR05_inclusive.Mass\"]\n",
    "tree100 = file1[\"Delphes;1/VLCjetR05_inclusive.Charge\"]\n",
    "\n",
    "tree1.show()\n",
    "tree2.show()\n",
    "tree3.show()\n",
    "tree4.show()\n",
    "tree100.show()\n",
    "a = tree1.arrays()\n",
    "b = tree2.arrays()\n",
    "c = tree3.arrays()\n",
    "d = tree4.arrays()\n",
    "z = tree100.arrays()"
   ]
  },
  {
   "cell_type": "code",
   "execution_count": 9,
   "id": "7894863a-c0d7-4d2e-914f-6b4bf92bf873",
   "metadata": {},
   "outputs": [],
   "source": [
    "JPT = a[\"VLCjetR05_inclusive.PT\"]\n",
    "Jeta = b[\"VLCjetR05_inclusive.Eta\"]\n",
    "Jphi = c[\"VLCjetR05_inclusive.Phi\"]\n",
    "Jm = d[\"VLCjetR05_inclusive.Mass\"]\n",
    "Jch = z[\"VLCjetR05_inclusive.Charge\"]\n"
   ]
  },
  {
   "cell_type": "markdown",
   "id": "fa445597-89a1-4a98-ba92-45cb8bd9c8a5",
   "metadata": {},
   "source": [
    "# Jet Data Frame"
   ]
  },
  {
   "cell_type": "code",
   "execution_count": 10,
   "id": "0e3aa376-cfa6-4530-b5e1-506d4a4d73d9",
   "metadata": {},
   "outputs": [],
   "source": [
    "pxj = px(JPT,Jphi).tolist()\n",
    "pyj = py(JPT,Jphi).tolist()\n",
    "pzj = pz(JPT, Jm, Jeta).tolist()\n",
    "Ej =  E(JPT, Jm, Jeta).tolist()\n",
    "jpt = JPT.tolist()\n",
    "jeta = Jeta.tolist()\n",
    "jphi = Jphi.tolist()\n",
    "jm = Jm.tolist()\n",
    "jch = Jch.tolist()"
   ]
  },
  {
   "cell_type": "code",
   "execution_count": 11,
   "id": "7e33f2af-3af6-44b8-9750-f9f133dad74e",
   "metadata": {},
   "outputs": [],
   "source": [
    "numj = [len(i) for i in Ej]"
   ]
  },
  {
   "cell_type": "code",
   "execution_count": 12,
   "id": "3e4fb7d2-e126-42dc-8ca6-da7f21681e7b",
   "metadata": {},
   "outputs": [],
   "source": [
    "data1 = {'jet_num': numj,'jpt':jpt, 'jeta':jeta, 'jphi':jphi,'jm':jm, 'jch':jch, 'pxj':pxj,'pyj':pyj, 'pzj':pzj,'Ej':Ej}"
   ]
  },
  {
   "cell_type": "code",
   "execution_count": 13,
   "id": "0b03641b-5785-46d3-b64f-673fd894ca5c",
   "metadata": {},
   "outputs": [],
   "source": [
    "t1 = time.time()"
   ]
  },
  {
   "cell_type": "code",
   "execution_count": 14,
   "id": "896fddc3-126b-4419-a6df-20f7c1b66146",
   "metadata": {},
   "outputs": [
    {
     "data": {
      "text/html": [
       "<div>\n",
       "<style scoped>\n",
       "    .dataframe tbody tr th:only-of-type {\n",
       "        vertical-align: middle;\n",
       "    }\n",
       "\n",
       "    .dataframe tbody tr th {\n",
       "        vertical-align: top;\n",
       "    }\n",
       "\n",
       "    .dataframe thead th {\n",
       "        text-align: right;\n",
       "    }\n",
       "</style>\n",
       "<table border=\"1\" class=\"dataframe\">\n",
       "  <thead>\n",
       "    <tr style=\"text-align: right;\">\n",
       "      <th></th>\n",
       "      <th>jet_num</th>\n",
       "      <th>jpt</th>\n",
       "      <th>jeta</th>\n",
       "      <th>jphi</th>\n",
       "      <th>jm</th>\n",
       "      <th>jch</th>\n",
       "      <th>pxj</th>\n",
       "      <th>pyj</th>\n",
       "      <th>pzj</th>\n",
       "      <th>Ej</th>\n",
       "    </tr>\n",
       "  </thead>\n",
       "  <tbody>\n",
       "    <tr>\n",
       "      <th>1</th>\n",
       "      <td>0</td>\n",
       "      <td>[]</td>\n",
       "      <td>[]</td>\n",
       "      <td>[]</td>\n",
       "      <td>[]</td>\n",
       "      <td>[]</td>\n",
       "      <td>[]</td>\n",
       "      <td>[]</td>\n",
       "      <td>[]</td>\n",
       "      <td>[]</td>\n",
       "    </tr>\n",
       "    <tr>\n",
       "      <th>2</th>\n",
       "      <td>0</td>\n",
       "      <td>[]</td>\n",
       "      <td>[]</td>\n",
       "      <td>[]</td>\n",
       "      <td>[]</td>\n",
       "      <td>[]</td>\n",
       "      <td>[]</td>\n",
       "      <td>[]</td>\n",
       "      <td>[]</td>\n",
       "      <td>[]</td>\n",
       "    </tr>\n",
       "    <tr>\n",
       "      <th>3</th>\n",
       "      <td>0</td>\n",
       "      <td>[]</td>\n",
       "      <td>[]</td>\n",
       "      <td>[]</td>\n",
       "      <td>[]</td>\n",
       "      <td>[]</td>\n",
       "      <td>[]</td>\n",
       "      <td>[]</td>\n",
       "      <td>[]</td>\n",
       "      <td>[]</td>\n",
       "    </tr>\n",
       "    <tr>\n",
       "      <th>4</th>\n",
       "      <td>0</td>\n",
       "      <td>[]</td>\n",
       "      <td>[]</td>\n",
       "      <td>[]</td>\n",
       "      <td>[]</td>\n",
       "      <td>[]</td>\n",
       "      <td>[]</td>\n",
       "      <td>[]</td>\n",
       "      <td>[]</td>\n",
       "      <td>[]</td>\n",
       "    </tr>\n",
       "    <tr>\n",
       "      <th>5</th>\n",
       "      <td>0</td>\n",
       "      <td>[]</td>\n",
       "      <td>[]</td>\n",
       "      <td>[]</td>\n",
       "      <td>[]</td>\n",
       "      <td>[]</td>\n",
       "      <td>[]</td>\n",
       "      <td>[]</td>\n",
       "      <td>[]</td>\n",
       "      <td>[]</td>\n",
       "    </tr>\n",
       "    <tr>\n",
       "      <th>...</th>\n",
       "      <td>...</td>\n",
       "      <td>...</td>\n",
       "      <td>...</td>\n",
       "      <td>...</td>\n",
       "      <td>...</td>\n",
       "      <td>...</td>\n",
       "      <td>...</td>\n",
       "      <td>...</td>\n",
       "      <td>...</td>\n",
       "      <td>...</td>\n",
       "    </tr>\n",
       "    <tr>\n",
       "      <th>9999996</th>\n",
       "      <td>0</td>\n",
       "      <td>[]</td>\n",
       "      <td>[]</td>\n",
       "      <td>[]</td>\n",
       "      <td>[]</td>\n",
       "      <td>[]</td>\n",
       "      <td>[]</td>\n",
       "      <td>[]</td>\n",
       "      <td>[]</td>\n",
       "      <td>[]</td>\n",
       "    </tr>\n",
       "    <tr>\n",
       "      <th>9999997</th>\n",
       "      <td>0</td>\n",
       "      <td>[]</td>\n",
       "      <td>[]</td>\n",
       "      <td>[]</td>\n",
       "      <td>[]</td>\n",
       "      <td>[]</td>\n",
       "      <td>[]</td>\n",
       "      <td>[]</td>\n",
       "      <td>[]</td>\n",
       "      <td>[]</td>\n",
       "    </tr>\n",
       "    <tr>\n",
       "      <th>9999998</th>\n",
       "      <td>0</td>\n",
       "      <td>[]</td>\n",
       "      <td>[]</td>\n",
       "      <td>[]</td>\n",
       "      <td>[]</td>\n",
       "      <td>[]</td>\n",
       "      <td>[]</td>\n",
       "      <td>[]</td>\n",
       "      <td>[]</td>\n",
       "      <td>[]</td>\n",
       "    </tr>\n",
       "    <tr>\n",
       "      <th>9999999</th>\n",
       "      <td>0</td>\n",
       "      <td>[]</td>\n",
       "      <td>[]</td>\n",
       "      <td>[]</td>\n",
       "      <td>[]</td>\n",
       "      <td>[]</td>\n",
       "      <td>[]</td>\n",
       "      <td>[]</td>\n",
       "      <td>[]</td>\n",
       "      <td>[]</td>\n",
       "    </tr>\n",
       "    <tr>\n",
       "      <th>10000000</th>\n",
       "      <td>0</td>\n",
       "      <td>[]</td>\n",
       "      <td>[]</td>\n",
       "      <td>[]</td>\n",
       "      <td>[]</td>\n",
       "      <td>[]</td>\n",
       "      <td>[]</td>\n",
       "      <td>[]</td>\n",
       "      <td>[]</td>\n",
       "      <td>[]</td>\n",
       "    </tr>\n",
       "  </tbody>\n",
       "</table>\n",
       "<p>10000000 rows × 10 columns</p>\n",
       "</div>"
      ],
      "text/plain": [
       "          jet_num jpt jeta jphi  jm jch pxj pyj pzj  Ej\n",
       "1               0  []   []   []  []  []  []  []  []  []\n",
       "2               0  []   []   []  []  []  []  []  []  []\n",
       "3               0  []   []   []  []  []  []  []  []  []\n",
       "4               0  []   []   []  []  []  []  []  []  []\n",
       "5               0  []   []   []  []  []  []  []  []  []\n",
       "...           ...  ..  ...  ...  ..  ..  ..  ..  ..  ..\n",
       "9999996         0  []   []   []  []  []  []  []  []  []\n",
       "9999997         0  []   []   []  []  []  []  []  []  []\n",
       "9999998         0  []   []   []  []  []  []  []  []  []\n",
       "9999999         0  []   []   []  []  []  []  []  []  []\n",
       "10000000        0  []   []   []  []  []  []  []  []  []\n",
       "\n",
       "[10000000 rows x 10 columns]"
      ]
     },
     "execution_count": 14,
     "metadata": {},
     "output_type": "execute_result"
    }
   ],
   "source": [
    "df_jet = pd.DataFrame(data1, index = [i for i in range(len(Ej))])\n",
    "df_jet.index = range(1, len(df_jet) + 1)\n",
    "df_jet"
   ]
  },
  {
   "cell_type": "code",
   "execution_count": 15,
   "id": "5ee97288-e010-4d90-8222-e604742af0ad",
   "metadata": {},
   "outputs": [
    {
     "name": "stdout",
     "output_type": "stream",
     "text": [
      "15.07161808013916\n"
     ]
    }
   ],
   "source": [
    "t2 = time.time()\n",
    "print(t2-t1)"
   ]
  },
  {
   "cell_type": "markdown",
   "id": "4fb77d29-6cac-4eee-880e-d8176fbb5ba6",
   "metadata": {},
   "source": [
    "# Electron"
   ]
  },
  {
   "cell_type": "code",
   "execution_count": 16,
   "id": "3bb83ba4-3cb7-49fc-acb0-0f56175ed275",
   "metadata": {},
   "outputs": [
    {
     "name": "stdout",
     "output_type": "stream",
     "text": [
      "name                 | typename                 | interpretation                \n",
      "---------------------+--------------------------+-------------------------------\n",
      "Electron.PT          | float[]                  | AsJagged(AsDtype('>f4'))      \n",
      "name                 | typename                 | interpretation                \n",
      "---------------------+--------------------------+-------------------------------\n",
      "Electron.Eta         | float[]                  | AsJagged(AsDtype('>f4'))      \n",
      "name                 | typename                 | interpretation                \n",
      "---------------------+--------------------------+-------------------------------\n",
      "Electron.Phi         | float[]                  | AsJagged(AsDtype('>f4'))      \n",
      "name                 | typename                 | interpretation                \n",
      "---------------------+--------------------------+-------------------------------\n",
      "Electron.Charge      | int32_t[]                | AsJagged(AsDtype('>i4'))      \n"
     ]
    }
   ],
   "source": [
    "tree5 = file1[\"Delphes;1/Electron.PT\"]\n",
    "tree6 = file1[\"Delphes;1/Electron.Eta\"]\n",
    "tree7 = file1[\"Delphes;1/Electron.Phi\"]\n",
    "tree101 = file1[\"Delphes;1/Electron.Charge\"]\n",
    "\n",
    "tree5.show()\n",
    "tree6.show()\n",
    "tree7.show()\n",
    "tree101.show()\n",
    "e = tree5.arrays()\n",
    "f = tree6.arrays()\n",
    "g = tree7.arrays()\n",
    "y = tree101.arrays()"
   ]
  },
  {
   "cell_type": "code",
   "execution_count": 17,
   "id": "dcc31fbc-ad33-408e-ba81-e6413bb3bc06",
   "metadata": {},
   "outputs": [],
   "source": [
    "EPT = e[\"Electron.PT\"]\n",
    "Eeta = f[\"Electron.Eta\"]\n",
    "Ephi = g[\"Electron.Phi\"]\n",
    "Ech = y[\"Electron.Charge\"]"
   ]
  },
  {
   "cell_type": "markdown",
   "id": "cb627c40-27f0-43b7-a4ce-abb22e44a789",
   "metadata": {},
   "source": [
    "# Electron Data Frame"
   ]
  },
  {
   "cell_type": "code",
   "execution_count": 18,
   "id": "5ee3eaa1-011c-4a23-b03e-baa46abebac1",
   "metadata": {},
   "outputs": [],
   "source": [
    "me = 0\n",
    "pxe = px(EPT,Ephi).tolist()\n",
    "pye = py(EPT,Ephi).tolist()\n",
    "pze = pz(EPT, me, Eeta).tolist()\n",
    "Ee =  E(EPT, me, Eeta).tolist()\n",
    "ept = EPT.tolist()\n",
    "eeta = Eeta.tolist()\n",
    "ephi = Ephi.tolist()\n",
    "ech = Ech.tolist()"
   ]
  },
  {
   "cell_type": "code",
   "execution_count": 19,
   "id": "2b9c3003-b213-4ff9-9fa9-de33a6c31532",
   "metadata": {},
   "outputs": [],
   "source": [
    "nume = [len(i) for i in Ee]"
   ]
  },
  {
   "cell_type": "code",
   "execution_count": 20,
   "id": "41b66aa4-3457-44de-8d02-7f6ac452acba",
   "metadata": {},
   "outputs": [],
   "source": [
    "data2 = {'e_num': nume,'ept':ept, 'eeta':eeta, 'ephi':ephi,'ech':ech, 'pxe':pxe,'pye':pye, 'pze':pze,'Ee':Ee}"
   ]
  },
  {
   "cell_type": "code",
   "execution_count": 21,
   "id": "86f17eac-68ae-4ec4-946b-4f2c38b524f1",
   "metadata": {},
   "outputs": [
    {
     "data": {
      "text/html": [
       "<div>\n",
       "<style scoped>\n",
       "    .dataframe tbody tr th:only-of-type {\n",
       "        vertical-align: middle;\n",
       "    }\n",
       "\n",
       "    .dataframe tbody tr th {\n",
       "        vertical-align: top;\n",
       "    }\n",
       "\n",
       "    .dataframe thead th {\n",
       "        text-align: right;\n",
       "    }\n",
       "</style>\n",
       "<table border=\"1\" class=\"dataframe\">\n",
       "  <thead>\n",
       "    <tr style=\"text-align: right;\">\n",
       "      <th></th>\n",
       "      <th>e_num</th>\n",
       "      <th>ept</th>\n",
       "      <th>eeta</th>\n",
       "      <th>ephi</th>\n",
       "      <th>ech</th>\n",
       "      <th>pxe</th>\n",
       "      <th>pye</th>\n",
       "      <th>pze</th>\n",
       "      <th>Ee</th>\n",
       "    </tr>\n",
       "  </thead>\n",
       "  <tbody>\n",
       "    <tr>\n",
       "      <th>1</th>\n",
       "      <td>0</td>\n",
       "      <td>[]</td>\n",
       "      <td>[]</td>\n",
       "      <td>[]</td>\n",
       "      <td>[]</td>\n",
       "      <td>[]</td>\n",
       "      <td>[]</td>\n",
       "      <td>[]</td>\n",
       "      <td>[]</td>\n",
       "    </tr>\n",
       "    <tr>\n",
       "      <th>2</th>\n",
       "      <td>0</td>\n",
       "      <td>[]</td>\n",
       "      <td>[]</td>\n",
       "      <td>[]</td>\n",
       "      <td>[]</td>\n",
       "      <td>[]</td>\n",
       "      <td>[]</td>\n",
       "      <td>[]</td>\n",
       "      <td>[]</td>\n",
       "    </tr>\n",
       "    <tr>\n",
       "      <th>3</th>\n",
       "      <td>0</td>\n",
       "      <td>[]</td>\n",
       "      <td>[]</td>\n",
       "      <td>[]</td>\n",
       "      <td>[]</td>\n",
       "      <td>[]</td>\n",
       "      <td>[]</td>\n",
       "      <td>[]</td>\n",
       "      <td>[]</td>\n",
       "    </tr>\n",
       "    <tr>\n",
       "      <th>4</th>\n",
       "      <td>0</td>\n",
       "      <td>[]</td>\n",
       "      <td>[]</td>\n",
       "      <td>[]</td>\n",
       "      <td>[]</td>\n",
       "      <td>[]</td>\n",
       "      <td>[]</td>\n",
       "      <td>[]</td>\n",
       "      <td>[]</td>\n",
       "    </tr>\n",
       "    <tr>\n",
       "      <th>5</th>\n",
       "      <td>0</td>\n",
       "      <td>[]</td>\n",
       "      <td>[]</td>\n",
       "      <td>[]</td>\n",
       "      <td>[]</td>\n",
       "      <td>[]</td>\n",
       "      <td>[]</td>\n",
       "      <td>[]</td>\n",
       "      <td>[]</td>\n",
       "    </tr>\n",
       "    <tr>\n",
       "      <th>...</th>\n",
       "      <td>...</td>\n",
       "      <td>...</td>\n",
       "      <td>...</td>\n",
       "      <td>...</td>\n",
       "      <td>...</td>\n",
       "      <td>...</td>\n",
       "      <td>...</td>\n",
       "      <td>...</td>\n",
       "      <td>...</td>\n",
       "    </tr>\n",
       "    <tr>\n",
       "      <th>9999996</th>\n",
       "      <td>0</td>\n",
       "      <td>[]</td>\n",
       "      <td>[]</td>\n",
       "      <td>[]</td>\n",
       "      <td>[]</td>\n",
       "      <td>[]</td>\n",
       "      <td>[]</td>\n",
       "      <td>[]</td>\n",
       "      <td>[]</td>\n",
       "    </tr>\n",
       "    <tr>\n",
       "      <th>9999997</th>\n",
       "      <td>0</td>\n",
       "      <td>[]</td>\n",
       "      <td>[]</td>\n",
       "      <td>[]</td>\n",
       "      <td>[]</td>\n",
       "      <td>[]</td>\n",
       "      <td>[]</td>\n",
       "      <td>[]</td>\n",
       "      <td>[]</td>\n",
       "    </tr>\n",
       "    <tr>\n",
       "      <th>9999998</th>\n",
       "      <td>0</td>\n",
       "      <td>[]</td>\n",
       "      <td>[]</td>\n",
       "      <td>[]</td>\n",
       "      <td>[]</td>\n",
       "      <td>[]</td>\n",
       "      <td>[]</td>\n",
       "      <td>[]</td>\n",
       "      <td>[]</td>\n",
       "    </tr>\n",
       "    <tr>\n",
       "      <th>9999999</th>\n",
       "      <td>0</td>\n",
       "      <td>[]</td>\n",
       "      <td>[]</td>\n",
       "      <td>[]</td>\n",
       "      <td>[]</td>\n",
       "      <td>[]</td>\n",
       "      <td>[]</td>\n",
       "      <td>[]</td>\n",
       "      <td>[]</td>\n",
       "    </tr>\n",
       "    <tr>\n",
       "      <th>10000000</th>\n",
       "      <td>0</td>\n",
       "      <td>[]</td>\n",
       "      <td>[]</td>\n",
       "      <td>[]</td>\n",
       "      <td>[]</td>\n",
       "      <td>[]</td>\n",
       "      <td>[]</td>\n",
       "      <td>[]</td>\n",
       "      <td>[]</td>\n",
       "    </tr>\n",
       "  </tbody>\n",
       "</table>\n",
       "<p>10000000 rows × 9 columns</p>\n",
       "</div>"
      ],
      "text/plain": [
       "          e_num ept eeta ephi ech pxe pye pze  Ee\n",
       "1             0  []   []   []  []  []  []  []  []\n",
       "2             0  []   []   []  []  []  []  []  []\n",
       "3             0  []   []   []  []  []  []  []  []\n",
       "4             0  []   []   []  []  []  []  []  []\n",
       "5             0  []   []   []  []  []  []  []  []\n",
       "...         ...  ..  ...  ...  ..  ..  ..  ..  ..\n",
       "9999996       0  []   []   []  []  []  []  []  []\n",
       "9999997       0  []   []   []  []  []  []  []  []\n",
       "9999998       0  []   []   []  []  []  []  []  []\n",
       "9999999       0  []   []   []  []  []  []  []  []\n",
       "10000000      0  []   []   []  []  []  []  []  []\n",
       "\n",
       "[10000000 rows x 9 columns]"
      ]
     },
     "execution_count": 21,
     "metadata": {},
     "output_type": "execute_result"
    }
   ],
   "source": [
    "df_e = pd.DataFrame(data2, index = [i for i in range(len(Ee))])\n",
    "df_e.index = range(1, len(df_e) + 1)\n",
    "df_e"
   ]
  },
  {
   "cell_type": "markdown",
   "id": "4340b7d5-1c13-4570-9e0e-a083820daef0",
   "metadata": {},
   "source": [
    "# Muon"
   ]
  },
  {
   "cell_type": "code",
   "execution_count": 22,
   "id": "a521c920-ca19-4ce3-9354-52e1603516cc",
   "metadata": {},
   "outputs": [
    {
     "name": "stdout",
     "output_type": "stream",
     "text": [
      "name                 | typename                 | interpretation                \n",
      "---------------------+--------------------------+-------------------------------\n",
      "Muon.PT              | float[]                  | AsJagged(AsDtype('>f4'))      \n",
      "name                 | typename                 | interpretation                \n",
      "---------------------+--------------------------+-------------------------------\n",
      "Muon.Eta             | float[]                  | AsJagged(AsDtype('>f4'))      \n",
      "name                 | typename                 | interpretation                \n",
      "---------------------+--------------------------+-------------------------------\n",
      "Muon.Phi             | float[]                  | AsJagged(AsDtype('>f4'))      \n",
      "name                 | typename                 | interpretation                \n",
      "---------------------+--------------------------+-------------------------------\n",
      "Muon.Charge          | int32_t[]                | AsJagged(AsDtype('>i4'))      \n"
     ]
    }
   ],
   "source": [
    "tree8 = file1[\"Delphes;1/Muon.PT\"]\n",
    "tree9 = file1[\"Delphes;1/Muon.Eta\"]\n",
    "tree10 = file1[\"Delphes;1/Muon.Phi\"]\n",
    "tree102 = file1[\"Delphes;1/Muon.Charge\"]\n",
    "\n",
    "\n",
    "tree8.show()\n",
    "tree9.show()\n",
    "tree10.show()\n",
    "tree102.show()\n",
    "k = tree8.arrays()\n",
    "l = tree9.arrays()\n",
    "m = tree10.arrays()\n",
    "x = tree102.arrays()\n"
   ]
  },
  {
   "cell_type": "code",
   "execution_count": 23,
   "id": "77fc459d-28d7-4ea3-8960-e56d24be08d5",
   "metadata": {},
   "outputs": [],
   "source": [
    "Mpt = k[\"Muon.PT\"]\n",
    "MEta = l[\"Muon.Eta\"]\n",
    "Mphi = m[\"Muon.Phi\"]\n",
    "Mch = x[\"Muon.Charge\"]"
   ]
  },
  {
   "cell_type": "markdown",
   "id": "069c36a2-bec7-4f47-b439-9e537053eef1",
   "metadata": {},
   "source": [
    "# Muon Data Frame"
   ]
  },
  {
   "cell_type": "code",
   "execution_count": 24,
   "id": "949f9291-8ddf-402b-abcb-56520d691fe0",
   "metadata": {},
   "outputs": [],
   "source": [
    "mm = 0\n",
    "pxm = px(Mpt,Mphi).tolist()\n",
    "pym = py(Mpt,Mphi).tolist()\n",
    "pzm = pz(Mpt, mm, MEta).tolist()\n",
    "Em =  E(Mpt, mm, MEta).tolist()\n",
    "mpt = Mpt.tolist()\n",
    "meta = MEta.tolist()\n",
    "mphi = Mphi.tolist()\n",
    "mch = Mch.tolist()"
   ]
  },
  {
   "cell_type": "code",
   "execution_count": 25,
   "id": "93f281a0-d0e8-482d-9fef-b04162354a3f",
   "metadata": {},
   "outputs": [],
   "source": [
    "numm = [len(i) for i in Em]"
   ]
  },
  {
   "cell_type": "code",
   "execution_count": 26,
   "id": "c9293418-5e79-4ecf-9b1f-00d55be675e2",
   "metadata": {},
   "outputs": [],
   "source": [
    "data3 = {'m_num': numm,'mpt':mpt, 'meta':meta, 'mphi':mphi,'mch':mch, 'pxm':pxm,'pym':pym, 'pzm':pzm,'Em':Em}"
   ]
  },
  {
   "cell_type": "code",
   "execution_count": 27,
   "id": "3159ec18-4021-4313-a765-d02609860114",
   "metadata": {},
   "outputs": [
    {
     "data": {
      "text/html": [
       "<div>\n",
       "<style scoped>\n",
       "    .dataframe tbody tr th:only-of-type {\n",
       "        vertical-align: middle;\n",
       "    }\n",
       "\n",
       "    .dataframe tbody tr th {\n",
       "        vertical-align: top;\n",
       "    }\n",
       "\n",
       "    .dataframe thead th {\n",
       "        text-align: right;\n",
       "    }\n",
       "</style>\n",
       "<table border=\"1\" class=\"dataframe\">\n",
       "  <thead>\n",
       "    <tr style=\"text-align: right;\">\n",
       "      <th></th>\n",
       "      <th>m_num</th>\n",
       "      <th>mpt</th>\n",
       "      <th>meta</th>\n",
       "      <th>mphi</th>\n",
       "      <th>mch</th>\n",
       "      <th>pxm</th>\n",
       "      <th>pym</th>\n",
       "      <th>pzm</th>\n",
       "      <th>Em</th>\n",
       "    </tr>\n",
       "  </thead>\n",
       "  <tbody>\n",
       "    <tr>\n",
       "      <th>1</th>\n",
       "      <td>0</td>\n",
       "      <td>[]</td>\n",
       "      <td>[]</td>\n",
       "      <td>[]</td>\n",
       "      <td>[]</td>\n",
       "      <td>[]</td>\n",
       "      <td>[]</td>\n",
       "      <td>[]</td>\n",
       "      <td>[]</td>\n",
       "    </tr>\n",
       "    <tr>\n",
       "      <th>2</th>\n",
       "      <td>0</td>\n",
       "      <td>[]</td>\n",
       "      <td>[]</td>\n",
       "      <td>[]</td>\n",
       "      <td>[]</td>\n",
       "      <td>[]</td>\n",
       "      <td>[]</td>\n",
       "      <td>[]</td>\n",
       "      <td>[]</td>\n",
       "    </tr>\n",
       "    <tr>\n",
       "      <th>3</th>\n",
       "      <td>0</td>\n",
       "      <td>[]</td>\n",
       "      <td>[]</td>\n",
       "      <td>[]</td>\n",
       "      <td>[]</td>\n",
       "      <td>[]</td>\n",
       "      <td>[]</td>\n",
       "      <td>[]</td>\n",
       "      <td>[]</td>\n",
       "    </tr>\n",
       "    <tr>\n",
       "      <th>4</th>\n",
       "      <td>0</td>\n",
       "      <td>[]</td>\n",
       "      <td>[]</td>\n",
       "      <td>[]</td>\n",
       "      <td>[]</td>\n",
       "      <td>[]</td>\n",
       "      <td>[]</td>\n",
       "      <td>[]</td>\n",
       "      <td>[]</td>\n",
       "    </tr>\n",
       "    <tr>\n",
       "      <th>5</th>\n",
       "      <td>0</td>\n",
       "      <td>[]</td>\n",
       "      <td>[]</td>\n",
       "      <td>[]</td>\n",
       "      <td>[]</td>\n",
       "      <td>[]</td>\n",
       "      <td>[]</td>\n",
       "      <td>[]</td>\n",
       "      <td>[]</td>\n",
       "    </tr>\n",
       "    <tr>\n",
       "      <th>...</th>\n",
       "      <td>...</td>\n",
       "      <td>...</td>\n",
       "      <td>...</td>\n",
       "      <td>...</td>\n",
       "      <td>...</td>\n",
       "      <td>...</td>\n",
       "      <td>...</td>\n",
       "      <td>...</td>\n",
       "      <td>...</td>\n",
       "    </tr>\n",
       "    <tr>\n",
       "      <th>9999996</th>\n",
       "      <td>0</td>\n",
       "      <td>[]</td>\n",
       "      <td>[]</td>\n",
       "      <td>[]</td>\n",
       "      <td>[]</td>\n",
       "      <td>[]</td>\n",
       "      <td>[]</td>\n",
       "      <td>[]</td>\n",
       "      <td>[]</td>\n",
       "    </tr>\n",
       "    <tr>\n",
       "      <th>9999997</th>\n",
       "      <td>0</td>\n",
       "      <td>[]</td>\n",
       "      <td>[]</td>\n",
       "      <td>[]</td>\n",
       "      <td>[]</td>\n",
       "      <td>[]</td>\n",
       "      <td>[]</td>\n",
       "      <td>[]</td>\n",
       "      <td>[]</td>\n",
       "    </tr>\n",
       "    <tr>\n",
       "      <th>9999998</th>\n",
       "      <td>0</td>\n",
       "      <td>[]</td>\n",
       "      <td>[]</td>\n",
       "      <td>[]</td>\n",
       "      <td>[]</td>\n",
       "      <td>[]</td>\n",
       "      <td>[]</td>\n",
       "      <td>[]</td>\n",
       "      <td>[]</td>\n",
       "    </tr>\n",
       "    <tr>\n",
       "      <th>9999999</th>\n",
       "      <td>0</td>\n",
       "      <td>[]</td>\n",
       "      <td>[]</td>\n",
       "      <td>[]</td>\n",
       "      <td>[]</td>\n",
       "      <td>[]</td>\n",
       "      <td>[]</td>\n",
       "      <td>[]</td>\n",
       "      <td>[]</td>\n",
       "    </tr>\n",
       "    <tr>\n",
       "      <th>10000000</th>\n",
       "      <td>0</td>\n",
       "      <td>[]</td>\n",
       "      <td>[]</td>\n",
       "      <td>[]</td>\n",
       "      <td>[]</td>\n",
       "      <td>[]</td>\n",
       "      <td>[]</td>\n",
       "      <td>[]</td>\n",
       "      <td>[]</td>\n",
       "    </tr>\n",
       "  </tbody>\n",
       "</table>\n",
       "<p>10000000 rows × 9 columns</p>\n",
       "</div>"
      ],
      "text/plain": [
       "          m_num mpt meta mphi mch pxm pym pzm  Em\n",
       "1             0  []   []   []  []  []  []  []  []\n",
       "2             0  []   []   []  []  []  []  []  []\n",
       "3             0  []   []   []  []  []  []  []  []\n",
       "4             0  []   []   []  []  []  []  []  []\n",
       "5             0  []   []   []  []  []  []  []  []\n",
       "...         ...  ..  ...  ...  ..  ..  ..  ..  ..\n",
       "9999996       0  []   []   []  []  []  []  []  []\n",
       "9999997       0  []   []   []  []  []  []  []  []\n",
       "9999998       0  []   []   []  []  []  []  []  []\n",
       "9999999       0  []   []   []  []  []  []  []  []\n",
       "10000000      0  []   []   []  []  []  []  []  []\n",
       "\n",
       "[10000000 rows x 9 columns]"
      ]
     },
     "execution_count": 27,
     "metadata": {},
     "output_type": "execute_result"
    }
   ],
   "source": [
    "df_m = pd.DataFrame(data3, index = [i for i in range(len(Em))])\n",
    "df_m.index = range(1, len(df_m) + 1)\n",
    "df_m"
   ]
  },
  {
   "cell_type": "markdown",
   "id": "1bed2572-b547-4949-b2fc-a65880d4794e",
   "metadata": {},
   "source": [
    "# Photon"
   ]
  },
  {
   "cell_type": "code",
   "execution_count": 28,
   "id": "8d9751d2-9ba6-4e2f-86d1-63cc42e62272",
   "metadata": {},
   "outputs": [
    {
     "name": "stdout",
     "output_type": "stream",
     "text": [
      "name                 | typename                 | interpretation                \n",
      "---------------------+--------------------------+-------------------------------\n",
      "Photon.PT            | float[]                  | AsJagged(AsDtype('>f4'))      \n",
      "name                 | typename                 | interpretation                \n",
      "---------------------+--------------------------+-------------------------------\n",
      "Photon.Eta           | float[]                  | AsJagged(AsDtype('>f4'))      \n",
      "name                 | typename                 | interpretation                \n",
      "---------------------+--------------------------+-------------------------------\n",
      "Photon.Phi           | float[]                  | AsJagged(AsDtype('>f4'))      \n"
     ]
    }
   ],
   "source": [
    "tree11 = file1[\"Delphes;1/Photon.PT\"]\n",
    "tree12 = file1[\"Delphes;1/Photon.Eta\"]\n",
    "tree13 = file1[\"Delphes;1/Photon.Phi\"]\n",
    "\n",
    "tree11.show()\n",
    "tree12.show()\n",
    "tree13.show()\n",
    "n = tree11.arrays()\n",
    "o = tree12.arrays()\n",
    "p = tree13.arrays()\n"
   ]
  },
  {
   "cell_type": "code",
   "execution_count": 29,
   "id": "bb6c07f9-77dc-43bd-95f9-ed19468a6a23",
   "metadata": {},
   "outputs": [],
   "source": [
    "Ppt = n[\"Photon.PT\"]\n",
    "Peta = o[\"Photon.Eta\"]\n",
    "Pphi = p[\"Photon.Phi\"]"
   ]
  },
  {
   "cell_type": "markdown",
   "id": "e9af974d-8f5e-46b1-b7ab-3204b639dd1d",
   "metadata": {},
   "source": [
    "# Photon Data Frame"
   ]
  },
  {
   "cell_type": "code",
   "execution_count": 30,
   "id": "aa832c44-bebf-435a-bd44-f3f217956455",
   "metadata": {},
   "outputs": [],
   "source": [
    "mp = 0\n",
    "pxp = px(Ppt,Pphi).tolist()\n",
    "pyp = py(Ppt,Pphi).tolist()\n",
    "pzp = pz(Ppt,mp, Peta).tolist()\n",
    "Ep =  E(Ppt,mp, Peta).tolist()\n",
    "ppt = Ppt.tolist()\n",
    "peta = Peta.tolist()\n",
    "pphi = Pphi.tolist()"
   ]
  },
  {
   "cell_type": "code",
   "execution_count": 31,
   "id": "a1ad168b-d6c0-4cfc-912b-2799f6701c44",
   "metadata": {},
   "outputs": [],
   "source": [
    "nump = [len(i) for i in Ep]"
   ]
  },
  {
   "cell_type": "code",
   "execution_count": 32,
   "id": "9e37fa2d-8e26-4c66-9c7f-a44482901807",
   "metadata": {},
   "outputs": [],
   "source": [
    "data4 = {'p_num': nump,'ppt':ppt, 'peta':peta, 'pphi':pphi, 'pxp':pxp,'pyp':pyp, 'pzp':pzp,'Ep':Ep}"
   ]
  },
  {
   "cell_type": "code",
   "execution_count": 33,
   "id": "fc07c4cc-f925-4626-b14a-861773d7a1f7",
   "metadata": {},
   "outputs": [
    {
     "data": {
      "text/html": [
       "<div>\n",
       "<style scoped>\n",
       "    .dataframe tbody tr th:only-of-type {\n",
       "        vertical-align: middle;\n",
       "    }\n",
       "\n",
       "    .dataframe tbody tr th {\n",
       "        vertical-align: top;\n",
       "    }\n",
       "\n",
       "    .dataframe thead th {\n",
       "        text-align: right;\n",
       "    }\n",
       "</style>\n",
       "<table border=\"1\" class=\"dataframe\">\n",
       "  <thead>\n",
       "    <tr style=\"text-align: right;\">\n",
       "      <th></th>\n",
       "      <th>p_num</th>\n",
       "      <th>ppt</th>\n",
       "      <th>peta</th>\n",
       "      <th>pphi</th>\n",
       "      <th>pxp</th>\n",
       "      <th>pyp</th>\n",
       "      <th>pzp</th>\n",
       "      <th>Ep</th>\n",
       "    </tr>\n",
       "  </thead>\n",
       "  <tbody>\n",
       "    <tr>\n",
       "      <th>1</th>\n",
       "      <td>0</td>\n",
       "      <td>[]</td>\n",
       "      <td>[]</td>\n",
       "      <td>[]</td>\n",
       "      <td>[]</td>\n",
       "      <td>[]</td>\n",
       "      <td>[]</td>\n",
       "      <td>[]</td>\n",
       "    </tr>\n",
       "    <tr>\n",
       "      <th>2</th>\n",
       "      <td>0</td>\n",
       "      <td>[]</td>\n",
       "      <td>[]</td>\n",
       "      <td>[]</td>\n",
       "      <td>[]</td>\n",
       "      <td>[]</td>\n",
       "      <td>[]</td>\n",
       "      <td>[]</td>\n",
       "    </tr>\n",
       "    <tr>\n",
       "      <th>3</th>\n",
       "      <td>0</td>\n",
       "      <td>[]</td>\n",
       "      <td>[]</td>\n",
       "      <td>[]</td>\n",
       "      <td>[]</td>\n",
       "      <td>[]</td>\n",
       "      <td>[]</td>\n",
       "      <td>[]</td>\n",
       "    </tr>\n",
       "    <tr>\n",
       "      <th>4</th>\n",
       "      <td>0</td>\n",
       "      <td>[]</td>\n",
       "      <td>[]</td>\n",
       "      <td>[]</td>\n",
       "      <td>[]</td>\n",
       "      <td>[]</td>\n",
       "      <td>[]</td>\n",
       "      <td>[]</td>\n",
       "    </tr>\n",
       "    <tr>\n",
       "      <th>5</th>\n",
       "      <td>0</td>\n",
       "      <td>[]</td>\n",
       "      <td>[]</td>\n",
       "      <td>[]</td>\n",
       "      <td>[]</td>\n",
       "      <td>[]</td>\n",
       "      <td>[]</td>\n",
       "      <td>[]</td>\n",
       "    </tr>\n",
       "    <tr>\n",
       "      <th>...</th>\n",
       "      <td>...</td>\n",
       "      <td>...</td>\n",
       "      <td>...</td>\n",
       "      <td>...</td>\n",
       "      <td>...</td>\n",
       "      <td>...</td>\n",
       "      <td>...</td>\n",
       "      <td>...</td>\n",
       "    </tr>\n",
       "    <tr>\n",
       "      <th>9999996</th>\n",
       "      <td>0</td>\n",
       "      <td>[]</td>\n",
       "      <td>[]</td>\n",
       "      <td>[]</td>\n",
       "      <td>[]</td>\n",
       "      <td>[]</td>\n",
       "      <td>[]</td>\n",
       "      <td>[]</td>\n",
       "    </tr>\n",
       "    <tr>\n",
       "      <th>9999997</th>\n",
       "      <td>0</td>\n",
       "      <td>[]</td>\n",
       "      <td>[]</td>\n",
       "      <td>[]</td>\n",
       "      <td>[]</td>\n",
       "      <td>[]</td>\n",
       "      <td>[]</td>\n",
       "      <td>[]</td>\n",
       "    </tr>\n",
       "    <tr>\n",
       "      <th>9999998</th>\n",
       "      <td>0</td>\n",
       "      <td>[]</td>\n",
       "      <td>[]</td>\n",
       "      <td>[]</td>\n",
       "      <td>[]</td>\n",
       "      <td>[]</td>\n",
       "      <td>[]</td>\n",
       "      <td>[]</td>\n",
       "    </tr>\n",
       "    <tr>\n",
       "      <th>9999999</th>\n",
       "      <td>0</td>\n",
       "      <td>[]</td>\n",
       "      <td>[]</td>\n",
       "      <td>[]</td>\n",
       "      <td>[]</td>\n",
       "      <td>[]</td>\n",
       "      <td>[]</td>\n",
       "      <td>[]</td>\n",
       "    </tr>\n",
       "    <tr>\n",
       "      <th>10000000</th>\n",
       "      <td>0</td>\n",
       "      <td>[]</td>\n",
       "      <td>[]</td>\n",
       "      <td>[]</td>\n",
       "      <td>[]</td>\n",
       "      <td>[]</td>\n",
       "      <td>[]</td>\n",
       "      <td>[]</td>\n",
       "    </tr>\n",
       "  </tbody>\n",
       "</table>\n",
       "<p>10000000 rows × 8 columns</p>\n",
       "</div>"
      ],
      "text/plain": [
       "          p_num ppt peta pphi pxp pyp pzp  Ep\n",
       "1             0  []   []   []  []  []  []  []\n",
       "2             0  []   []   []  []  []  []  []\n",
       "3             0  []   []   []  []  []  []  []\n",
       "4             0  []   []   []  []  []  []  []\n",
       "5             0  []   []   []  []  []  []  []\n",
       "...         ...  ..  ...  ...  ..  ..  ..  ..\n",
       "9999996       0  []   []   []  []  []  []  []\n",
       "9999997       0  []   []   []  []  []  []  []\n",
       "9999998       0  []   []   []  []  []  []  []\n",
       "9999999       0  []   []   []  []  []  []  []\n",
       "10000000      0  []   []   []  []  []  []  []\n",
       "\n",
       "[10000000 rows x 8 columns]"
      ]
     },
     "execution_count": 33,
     "metadata": {},
     "output_type": "execute_result"
    }
   ],
   "source": [
    "df_p = pd.DataFrame(data4, index = [i for i in range(len(Ep))])\n",
    "df_p.index = range(1, len(df_p) + 1)\n",
    "df_p"
   ]
  },
  {
   "cell_type": "markdown",
   "id": "7cf8ea01-b6eb-4e00-b064-bb523e5b1af8",
   "metadata": {},
   "source": [
    "# Forward_Muon"
   ]
  },
  {
   "cell_type": "code",
   "execution_count": 34,
   "id": "9a4a996c-32e5-4012-9520-dfd46ce339a9",
   "metadata": {},
   "outputs": [
    {
     "name": "stdout",
     "output_type": "stream",
     "text": [
      "name                 | typename                 | interpretation                \n",
      "---------------------+--------------------------+-------------------------------\n",
      "ForwardMuon.PT       | float[]                  | AsJagged(AsDtype('>f4'))      \n",
      "name                 | typename                 | interpretation                \n",
      "---------------------+--------------------------+-------------------------------\n",
      "ForwardMuon.Eta      | float[]                  | AsJagged(AsDtype('>f4'))      \n",
      "name                 | typename                 | interpretation                \n",
      "---------------------+--------------------------+-------------------------------\n",
      "ForwardMuon.Phi      | float[]                  | AsJagged(AsDtype('>f4'))      \n",
      "name                 | typename                 | interpretation                \n",
      "---------------------+--------------------------+-------------------------------\n",
      "ForwardMuon.Charge   | int32_t[]                | AsJagged(AsDtype('>i4'))      \n"
     ]
    }
   ],
   "source": [
    "tree14 = file1[\"Delphes;1/ForwardMuon.PT\"]\n",
    "tree15 = file1[\"Delphes;1/ForwardMuon.Eta\"]\n",
    "tree16 = file1[\"Delphes;1/ForwardMuon.Phi\"]\n",
    "tree17 = file1[\"Delphes;1/ForwardMuon.Charge\"]\n",
    "\n",
    "\n",
    "tree14.show()\n",
    "tree15.show()\n",
    "tree16.show()\n",
    "tree17.show()\n",
    "q = tree14.arrays()\n",
    "r = tree15.arrays()\n",
    "s = tree16.arrays()\n",
    "t = tree17.arrays()"
   ]
  },
  {
   "cell_type": "code",
   "execution_count": 35,
   "id": "f0552d39-71dc-47b5-9f99-341ba26cc013",
   "metadata": {},
   "outputs": [],
   "source": [
    "FMpt = q[\"ForwardMuon.PT\"]\n",
    "FMEta = r[\"ForwardMuon.Eta\"]\n",
    "FMphi = s[\"ForwardMuon.Phi\"]\n",
    "FMch = t[\"ForwardMuon.Charge\"]"
   ]
  },
  {
   "cell_type": "markdown",
   "id": "e4efd1b0-95d8-441f-9783-dfe1f4dc8b13",
   "metadata": {},
   "source": [
    "# Forward Muon Data Frame"
   ]
  },
  {
   "cell_type": "code",
   "execution_count": 36,
   "id": "d05fe6cd-930b-4ddc-86bf-ed9f111fa476",
   "metadata": {},
   "outputs": [],
   "source": [
    "Fmm = 0\n",
    "pxfm = px(FMpt,FMphi).tolist()\n",
    "pyfm = py(FMpt,FMphi).tolist()\n",
    "pzfm = pz(FMpt,Fmm, FMEta).tolist()\n",
    "Efm =  E(FMpt, Fmm, FMEta).tolist()\n",
    "fmpt = FMpt.tolist()\n",
    "fmeta = FMEta.tolist()\n",
    "fmphi = FMphi.tolist()\n",
    "fmch = FMch.tolist()"
   ]
  },
  {
   "cell_type": "code",
   "execution_count": 37,
   "id": "9f73ddcf-985b-4d6d-ac4d-9a1a41d91b45",
   "metadata": {},
   "outputs": [],
   "source": [
    "numfm = [len(i) for i in Efm]"
   ]
  },
  {
   "cell_type": "code",
   "execution_count": 38,
   "id": "27cac1be-aa25-460b-8d3b-415c8cae813f",
   "metadata": {},
   "outputs": [],
   "source": [
    "data5 = {'fm_num': numfm,'fmpt':fmpt, 'fmeta':fmeta, 'fmphi':fmphi, 'fmch': fmch, 'pxfm':pxfm,'pyfm':pyfm, 'pzfm':pzfm,'Efm':Efm}"
   ]
  },
  {
   "cell_type": "code",
   "execution_count": 39,
   "id": "53070f07-9be0-4d15-b86f-e4b7fd439f5c",
   "metadata": {},
   "outputs": [
    {
     "data": {
      "text/html": [
       "<div>\n",
       "<style scoped>\n",
       "    .dataframe tbody tr th:only-of-type {\n",
       "        vertical-align: middle;\n",
       "    }\n",
       "\n",
       "    .dataframe tbody tr th {\n",
       "        vertical-align: top;\n",
       "    }\n",
       "\n",
       "    .dataframe thead th {\n",
       "        text-align: right;\n",
       "    }\n",
       "</style>\n",
       "<table border=\"1\" class=\"dataframe\">\n",
       "  <thead>\n",
       "    <tr style=\"text-align: right;\">\n",
       "      <th></th>\n",
       "      <th>fm_num</th>\n",
       "      <th>fmpt</th>\n",
       "      <th>fmeta</th>\n",
       "      <th>fmphi</th>\n",
       "      <th>fmch</th>\n",
       "      <th>pxfm</th>\n",
       "      <th>pyfm</th>\n",
       "      <th>pzfm</th>\n",
       "      <th>Efm</th>\n",
       "    </tr>\n",
       "  </thead>\n",
       "  <tbody>\n",
       "    <tr>\n",
       "      <th>1</th>\n",
       "      <td>2</td>\n",
       "      <td>[136.5623321533203, 65.58009338378906]</td>\n",
       "      <td>[4.406052589416504, -5.089116096496582]</td>\n",
       "      <td>[-2.0879664421081543, 1.1538705825805664]</td>\n",
       "      <td>[1, -1]</td>\n",
       "      <td>[-67.51947021484375, 26.5567569732666]</td>\n",
       "      <td>[-118.70295715332031, 59.96238327026367]</td>\n",
       "      <td>[5594.49072265625, -5319.8642578125]</td>\n",
       "      <td>[5596.15771484375, 5320.2685546875]</td>\n",
       "    </tr>\n",
       "    <tr>\n",
       "      <th>2</th>\n",
       "      <td>2</td>\n",
       "      <td>[105.23143768310547, 43.35311508178711]</td>\n",
       "      <td>[-4.432674884796143, 5.464475631713867]</td>\n",
       "      <td>[2.8065412044525146, -0.431282103061676]</td>\n",
       "      <td>[-1, 1]</td>\n",
       "      <td>[-99.37987518310547, 39.38329315185547]</td>\n",
       "      <td>[34.601966857910156, -18.12315559387207]</td>\n",
       "      <td>[-4427.31494140625, 5118.8701171875]</td>\n",
       "      <td>[4428.5654296875, 5119.05419921875]</td>\n",
       "    </tr>\n",
       "    <tr>\n",
       "      <th>3</th>\n",
       "      <td>2</td>\n",
       "      <td>[85.21428680419922, 79.75312805175781]</td>\n",
       "      <td>[4.666827201843262, -4.7211432456970215]</td>\n",
       "      <td>[-0.16266855597496033, -2.110431432723999]</td>\n",
       "      <td>[1, -1]</td>\n",
       "      <td>[84.08934020996094, -40.97898864746094]</td>\n",
       "      <td>[-13.800633430480957, -68.41990661621094]</td>\n",
       "      <td>[4531.28466796875, -4477.64599609375]</td>\n",
       "      <td>[4532.08544921875, 4478.35595703125]</td>\n",
       "    </tr>\n",
       "    <tr>\n",
       "      <th>4</th>\n",
       "      <td>2</td>\n",
       "      <td>[151.70492553710938, 60.58420944213867]</td>\n",
       "      <td>[4.199806213378906, -4.968934059143066]</td>\n",
       "      <td>[1.3485815525054932, 0.0806414932012558]</td>\n",
       "      <td>[1, -1]</td>\n",
       "      <td>[33.434322357177734, 60.387325286865234]</td>\n",
       "      <td>[147.97476196289062, 4.880307674407959]</td>\n",
       "      <td>[5056.20458984375, -4358.0185546875]</td>\n",
       "      <td>[5058.47998046875, 4358.4404296875]</td>\n",
       "    </tr>\n",
       "    <tr>\n",
       "      <th>5</th>\n",
       "      <td>2</td>\n",
       "      <td>[172.05157470703125, 74.71403503417969]</td>\n",
       "      <td>[4.079717636108398, -4.765890121459961]</td>\n",
       "      <td>[-0.01975773461163044, 2.070150375366211]</td>\n",
       "      <td>[1, -1]</td>\n",
       "      <td>[172.0179901123047, -35.7774543762207]</td>\n",
       "      <td>[-3.3991281986236572, 65.59085845947266]</td>\n",
       "      <td>[5085.14453125, -4386.7255859375]</td>\n",
       "      <td>[5088.05419921875, 4387.36181640625]</td>\n",
       "    </tr>\n",
       "    <tr>\n",
       "      <th>...</th>\n",
       "      <td>...</td>\n",
       "      <td>...</td>\n",
       "      <td>...</td>\n",
       "      <td>...</td>\n",
       "      <td>...</td>\n",
       "      <td>...</td>\n",
       "      <td>...</td>\n",
       "      <td>...</td>\n",
       "      <td>...</td>\n",
       "    </tr>\n",
       "    <tr>\n",
       "      <th>9999996</th>\n",
       "      <td>2</td>\n",
       "      <td>[104.91486358642578, 31.890392303466797]</td>\n",
       "      <td>[-4.474522590637207, 5.63346529006958]</td>\n",
       "      <td>[-0.5530595183372498, 2.6869492530822754]</td>\n",
       "      <td>[-1, 1]</td>\n",
       "      <td>[89.2742919921875, -28.650894165039062]</td>\n",
       "      <td>[-55.111053466796875, 14.004409790039062]</td>\n",
       "      <td>[-4602.68359375, 4458.68896484375]</td>\n",
       "      <td>[4603.87890625, 4458.802734375]</td>\n",
       "    </tr>\n",
       "    <tr>\n",
       "      <th>9999997</th>\n",
       "      <td>2</td>\n",
       "      <td>[91.02941131591797, 55.72676467895508]</td>\n",
       "      <td>[4.782853603363037, -5.1137542724609375]</td>\n",
       "      <td>[-3.001906394958496, 2.7968132495880127]</td>\n",
       "      <td>[1, -1]</td>\n",
       "      <td>[-90.14276123046875, -52.44724655151367]</td>\n",
       "      <td>[-12.674245834350586, 18.835037231445312]</td>\n",
       "      <td>[5436.10986328125, -4633.33154296875]</td>\n",
       "      <td>[5436.87158203125, 4633.6669921875]</td>\n",
       "    </tr>\n",
       "    <tr>\n",
       "      <th>9999998</th>\n",
       "      <td>2</td>\n",
       "      <td>[74.68196868896484, 30.467439651489258]</td>\n",
       "      <td>[-5.02311897277832, 5.55747127532959]</td>\n",
       "      <td>[-1.835167407989502, 2.885117292404175]</td>\n",
       "      <td>[-1, 1]</td>\n",
       "      <td>[-19.514564514160156, -29.470853805541992]</td>\n",
       "      <td>[-72.08729553222656, 7.728760242462158]</td>\n",
       "      <td>[-5671.26318359375, 3948.013671875]</td>\n",
       "      <td>[5671.75439453125, 3948.130859375]</td>\n",
       "    </tr>\n",
       "    <tr>\n",
       "      <th>9999999</th>\n",
       "      <td>2</td>\n",
       "      <td>[60.265907287597656, 33.84622573852539]</td>\n",
       "      <td>[-4.843028545379639, 5.490446090698242]</td>\n",
       "      <td>[-1.4262579679489136, 2.266360282897949]</td>\n",
       "      <td>[-1, 1]</td>\n",
       "      <td>[8.680437088012695, -21.689287185668945]</td>\n",
       "      <td>[-59.63748550415039, 25.983491897583008]</td>\n",
       "      <td>[-3822.216552734375, 4101.50537109375]</td>\n",
       "      <td>[3822.691650390625, 4101.64501953125]</td>\n",
       "    </tr>\n",
       "    <tr>\n",
       "      <th>10000000</th>\n",
       "      <td>2</td>\n",
       "      <td>[95.51250457763672, 72.9051513671875]</td>\n",
       "      <td>[4.433634281158447, -4.982980728149414]</td>\n",
       "      <td>[-1.9531760215759277, 1.5196459293365479]</td>\n",
       "      <td>[1, -1]</td>\n",
       "      <td>[-35.638519287109375, 3.727501392364502]</td>\n",
       "      <td>[-88.6145248413086, 72.80979919433594]</td>\n",
       "      <td>[4022.2763671875, -5318.49609375]</td>\n",
       "      <td>[4023.410400390625, 5318.99560546875]</td>\n",
       "    </tr>\n",
       "  </tbody>\n",
       "</table>\n",
       "<p>10000000 rows × 9 columns</p>\n",
       "</div>"
      ],
      "text/plain": [
       "          fm_num                                      fmpt  \\\n",
       "1              2    [136.5623321533203, 65.58009338378906]   \n",
       "2              2   [105.23143768310547, 43.35311508178711]   \n",
       "3              2    [85.21428680419922, 79.75312805175781]   \n",
       "4              2   [151.70492553710938, 60.58420944213867]   \n",
       "5              2   [172.05157470703125, 74.71403503417969]   \n",
       "...          ...                                       ...   \n",
       "9999996        2  [104.91486358642578, 31.890392303466797]   \n",
       "9999997        2    [91.02941131591797, 55.72676467895508]   \n",
       "9999998        2   [74.68196868896484, 30.467439651489258]   \n",
       "9999999        2   [60.265907287597656, 33.84622573852539]   \n",
       "10000000       2     [95.51250457763672, 72.9051513671875]   \n",
       "\n",
       "                                             fmeta  \\\n",
       "1          [4.406052589416504, -5.089116096496582]   \n",
       "2          [-4.432674884796143, 5.464475631713867]   \n",
       "3         [4.666827201843262, -4.7211432456970215]   \n",
       "4          [4.199806213378906, -4.968934059143066]   \n",
       "5          [4.079717636108398, -4.765890121459961]   \n",
       "...                                            ...   \n",
       "9999996     [-4.474522590637207, 5.63346529006958]   \n",
       "9999997   [4.782853603363037, -5.1137542724609375]   \n",
       "9999998      [-5.02311897277832, 5.55747127532959]   \n",
       "9999999    [-4.843028545379639, 5.490446090698242]   \n",
       "10000000   [4.433634281158447, -4.982980728149414]   \n",
       "\n",
       "                                               fmphi     fmch  \\\n",
       "1          [-2.0879664421081543, 1.1538705825805664]  [1, -1]   \n",
       "2           [2.8065412044525146, -0.431282103061676]  [-1, 1]   \n",
       "3         [-0.16266855597496033, -2.110431432723999]  [1, -1]   \n",
       "4           [1.3485815525054932, 0.0806414932012558]  [1, -1]   \n",
       "5          [-0.01975773461163044, 2.070150375366211]  [1, -1]   \n",
       "...                                              ...      ...   \n",
       "9999996    [-0.5530595183372498, 2.6869492530822754]  [-1, 1]   \n",
       "9999997     [-3.001906394958496, 2.7968132495880127]  [1, -1]   \n",
       "9999998      [-1.835167407989502, 2.885117292404175]  [-1, 1]   \n",
       "9999999     [-1.4262579679489136, 2.266360282897949]  [-1, 1]   \n",
       "10000000   [-1.9531760215759277, 1.5196459293365479]  [1, -1]   \n",
       "\n",
       "                                                pxfm  \\\n",
       "1             [-67.51947021484375, 26.5567569732666]   \n",
       "2            [-99.37987518310547, 39.38329315185547]   \n",
       "3            [84.08934020996094, -40.97898864746094]   \n",
       "4           [33.434322357177734, 60.387325286865234]   \n",
       "5             [172.0179901123047, -35.7774543762207]   \n",
       "...                                              ...   \n",
       "9999996      [89.2742919921875, -28.650894165039062]   \n",
       "9999997     [-90.14276123046875, -52.44724655151367]   \n",
       "9999998   [-19.514564514160156, -29.470853805541992]   \n",
       "9999999     [8.680437088012695, -21.689287185668945]   \n",
       "10000000    [-35.638519287109375, 3.727501392364502]   \n",
       "\n",
       "                                               pyfm  \\\n",
       "1          [-118.70295715332031, 59.96238327026367]   \n",
       "2          [34.601966857910156, -18.12315559387207]   \n",
       "3         [-13.800633430480957, -68.41990661621094]   \n",
       "4           [147.97476196289062, 4.880307674407959]   \n",
       "5          [-3.3991281986236572, 65.59085845947266]   \n",
       "...                                             ...   \n",
       "9999996   [-55.111053466796875, 14.004409790039062]   \n",
       "9999997   [-12.674245834350586, 18.835037231445312]   \n",
       "9999998     [-72.08729553222656, 7.728760242462158]   \n",
       "9999999    [-59.63748550415039, 25.983491897583008]   \n",
       "10000000     [-88.6145248413086, 72.80979919433594]   \n",
       "\n",
       "                                            pzfm  \\\n",
       "1           [5594.49072265625, -5319.8642578125]   \n",
       "2           [-4427.31494140625, 5118.8701171875]   \n",
       "3          [4531.28466796875, -4477.64599609375]   \n",
       "4           [5056.20458984375, -4358.0185546875]   \n",
       "5              [5085.14453125, -4386.7255859375]   \n",
       "...                                          ...   \n",
       "9999996       [-4602.68359375, 4458.68896484375]   \n",
       "9999997    [5436.10986328125, -4633.33154296875]   \n",
       "9999998      [-5671.26318359375, 3948.013671875]   \n",
       "9999999   [-3822.216552734375, 4101.50537109375]   \n",
       "10000000       [4022.2763671875, -5318.49609375]   \n",
       "\n",
       "                                            Efm  \n",
       "1           [5596.15771484375, 5320.2685546875]  \n",
       "2           [4428.5654296875, 5119.05419921875]  \n",
       "3          [4532.08544921875, 4478.35595703125]  \n",
       "4           [5058.47998046875, 4358.4404296875]  \n",
       "5          [5088.05419921875, 4387.36181640625]  \n",
       "...                                         ...  \n",
       "9999996         [4603.87890625, 4458.802734375]  \n",
       "9999997     [5436.87158203125, 4633.6669921875]  \n",
       "9999998      [5671.75439453125, 3948.130859375]  \n",
       "9999999   [3822.691650390625, 4101.64501953125]  \n",
       "10000000  [4023.410400390625, 5318.99560546875]  \n",
       "\n",
       "[10000000 rows x 9 columns]"
      ]
     },
     "execution_count": 39,
     "metadata": {},
     "output_type": "execute_result"
    }
   ],
   "source": [
    "df_fm = pd.DataFrame(data5, index = [i for i in range(len(Efm))])\n",
    "df_fm.index = range(1, len(df_fm) + 1)\n",
    "df_fm"
   ]
  },
  {
   "cell_type": "markdown",
   "id": "a4939a07-6e5b-4b5c-9b8a-c9f70b04559d",
   "metadata": {},
   "source": [
    "# MERGED DATA FRAME"
   ]
  },
  {
   "cell_type": "code",
   "execution_count": 40,
   "id": "2f95f428-b4e4-48df-803d-72b7c045a4a1",
   "metadata": {},
   "outputs": [
    {
     "name": "stdout",
     "output_type": "stream",
     "text": [
      "10.901438474655151\n"
     ]
    }
   ],
   "source": [
    "t1 = time.time()\n",
    "big_df = pd.concat([df_jet, df_e, df_m, df_p, df_fm], axis=1)\n",
    "big_df\n",
    "t2= time.time()\n",
    "print(t2-t1)"
   ]
  },
  {
   "cell_type": "markdown",
   "id": "fcd5dbad-c550-4f5f-ae60-bbbfb92a4b24",
   "metadata": {},
   "source": [
    "# Triggers"
   ]
  },
  {
   "cell_type": "code",
   "execution_count": 41,
   "id": "dc705fd2-330c-4b9d-b8bf-b783ee021738",
   "metadata": {},
   "outputs": [],
   "source": [
    "# 1. Two forward Muons\n",
    "big_df2 = big_df[big_df['fm_num'] == 2]"
   ]
  },
  {
   "cell_type": "code",
   "execution_count": 42,
   "id": "4b09dd52-8f03-402a-bfdf-6fdf83d33678",
   "metadata": {},
   "outputs": [],
   "source": [
    "# 2. eta1 eta2 product less than zero\n",
    "big_df3 = big_df2[big_df2['fmeta'].apply(lambda x: (x[0] * x[1]) < 0)]\n",
    "# big_df3[big_df3['Efm'].apply(lambda x: any(i < 500 for i in x))]\n"
   ]
  },
  {
   "cell_type": "code",
   "execution_count": 43,
   "id": "eb91d0ce-e65e-4cef-b7fa-3a69a1ed32ca",
   "metadata": {},
   "outputs": [
    {
     "data": {
      "text/plain": [
       "9024558"
      ]
     },
     "execution_count": 43,
     "metadata": {},
     "output_type": "execute_result"
    }
   ],
   "source": [
    "len(big_df3)"
   ]
  },
  {
   "cell_type": "code",
   "execution_count": 44,
   "id": "280be069-3009-4341-a436-10c7d77304e7",
   "metadata": {},
   "outputs": [
    {
     "data": {
      "text/plain": [
       "9023712"
      ]
     },
     "execution_count": 44,
     "metadata": {},
     "output_type": "execute_result"
    }
   ],
   "source": [
    "# 3. Energy of forward muons greater than 500 GeV\n",
    "big_df4 = big_df3[big_df3['Efm'].apply(lambda x: x[0] > 500 and x[1] > 500)]\n",
    "#big_df4 = big_df3[big_df3['Efm'].apply(lambda x: all(i > 500 for i in x))]\n",
    "len(big_df4)"
   ]
  },
  {
   "cell_type": "code",
   "execution_count": 45,
   "id": "1e3f5b67",
   "metadata": {},
   "outputs": [
    {
     "data": {
      "text/plain": [
       "7267856"
      ]
     },
     "execution_count": 45,
     "metadata": {},
     "output_type": "execute_result"
    }
   ],
   "source": [
    "big_df5 = big_df4[big_df4['Efm'].apply(lambda x: (x[0] + x[1]) <= 10000)]\n",
    "len(big_df5)"
   ]
  },
  {
   "cell_type": "markdown",
   "id": "ee49a68d-bcc7-42a9-b392-9c298fc0d176",
   "metadata": {},
   "source": [
    "# # Observables!"
   ]
  },
  {
   "cell_type": "markdown",
   "id": "7bc0c883-3fc8-4c7b-8a96-afadbf074107",
   "metadata": {},
   "source": [
    "# 1) Invariant Mass"
   ]
  },
  {
   "cell_type": "code",
   "execution_count": 46,
   "id": "08814e47-7449-4b06-80a2-45a8f013a8da",
   "metadata": {},
   "outputs": [],
   "source": [
    "def mm(Efm, pxfm, pyfm, pzfm):\n",
    "    return np.sqrt((Efm[:,0]+Efm[:,1])**2 - (pxfm[:,0]+pxfm[:,1])**2 - (pyfm[:,0]+pyfm[:,1])**2 - (pzfm[:,0]+pzfm[:,1])**2)"
   ]
  },
  {
   "cell_type": "code",
   "execution_count": 47,
   "id": "c19f441a-a2f0-49f6-a93b-c71d9b9ce40c",
   "metadata": {},
   "outputs": [],
   "source": [
    "Efm2 = np.array(big_df5['Efm'].tolist())\n",
    "pxfm2 = np.array(big_df5['pxfm'].tolist())\n",
    "pyfm2 = np.array(big_df5['pyfm'].tolist())\n",
    "pzfm2 = np.array(big_df5['pzfm'].tolist())"
   ]
  },
  {
   "cell_type": "markdown",
   "id": "36cee9e3-a63f-451f-8e11-09ec4b391516",
   "metadata": {},
   "source": [
    "# Plotting the Invariant Mass of two Forward Muons"
   ]
  },
  {
   "cell_type": "code",
   "execution_count": 48,
   "id": "0944058f-95a8-419e-a36e-6445632d6dd5",
   "metadata": {},
   "outputs": [
    {
     "data": {
      "text/plain": [
       "array([9522.33799421, 9009.80346671, 9389.28959494, ..., 9463.93479618,\n",
       "       7919.33125919, 9251.9779667 ])"
      ]
     },
     "execution_count": 48,
     "metadata": {},
     "output_type": "execute_result"
    }
   ],
   "source": [
    "invM = mm(Efm2, pxfm2, pyfm2, pzfm2)\n",
    "invM"
   ]
  },
  {
   "cell_type": "code",
   "execution_count": 49,
   "id": "92b11f3c-4a25-4c19-9ea0-e8f6d054167a",
   "metadata": {},
   "outputs": [],
   "source": [
    "df_results = pd.DataFrame({'Invariant_Mass': invM})"
   ]
  },
  {
   "cell_type": "code",
   "execution_count": 50,
   "id": "dcf948f3-9f9b-4759-91e4-26fb72406426",
   "metadata": {},
   "outputs": [
    {
     "data": {
      "image/png": "[encoded data removed]",
      "text/plain": [
       "<Figure size 720x504 with 1 Axes>"
      ]
     },
     "metadata": {
      "needs_background": "light"
     },
     "output_type": "display_data"
    }
   ],
   "source": [
    "plt.figure(figsize=(10,7))\n",
    "plt.hist(invM, histtype = 'step', bins = 50)\n",
    "plt.show()"
   ]
  },
  {
   "cell_type": "markdown",
   "id": "b3b446ec-175d-42ac-b92c-cd16b15559ab",
   "metadata": {},
   "source": [
    "# 2) Missing Invariant Mass (MIM) "
   ]
  },
  {
   "cell_type": "code",
   "execution_count": 51,
   "id": "d189dd2f-5cc2-4753-801b-d1dc12142069",
   "metadata": {},
   "outputs": [],
   "source": [
    "def delP_sq(Eb, Emu, Pxm, Pym, Pzm):\n",
    "\n",
    "    return np.abs(4*Eb**2 - 4*Eb*(Emu[:,0]+Emu[:,1]) + 2*(Emu[:,0]*Emu[:,1] - (Pxm[:,0]*Pxm[:,1] + Pym[:,0]*Pym[:,1] + Pzm[:,0]*Pzm[:,1])) + (Emu[:,0]**2 - (Pxm[:,0]**2 + Pym[:,0]**2 + Pzm[:,0]**2)) + (Emu[:,1]**2 - (Pxm[:,1]**2 + Pym[:,1]**2 + Pzm[:,1]**2)))\n"
   ]
  },
  {
   "cell_type": "code",
   "execution_count": 52,
   "id": "b153d3c0",
   "metadata": {},
   "outputs": [],
   "source": [
    "delp_sq2 = delP_sq(5000, Efm2, pxfm2, pyfm2, pzfm2) "
   ]
  },
  {
   "cell_type": "code",
   "execution_count": 53,
   "id": "fc7d4ab8",
   "metadata": {},
   "outputs": [],
   "source": [
    "MIM2 = np.sqrt(delp_sq2)"
   ]
  },
  {
   "cell_type": "code",
   "execution_count": 54,
   "id": "218f87eb-78df-43da-869e-6405af76d785",
   "metadata": {},
   "outputs": [],
   "source": [
    "df_results['MIM'] = MIM2"
   ]
  },
  {
   "cell_type": "code",
   "execution_count": 55,
   "id": "dda9c4d6",
   "metadata": {},
   "outputs": [
    {
     "data": {
      "image/png": "[encoded data removed]",
      "text/plain": [
       "<Figure size 720x504 with 1 Axes>"
      ]
     },
     "metadata": {
      "needs_background": "light"
     },
     "output_type": "display_data"
    }
   ],
   "source": [
    "plt.figure(figsize=(10,7))\n",
    "plt.hist(MIM2, histtype = 'step', bins = 50)\n",
    "plt.show()"
   ]
  },
  {
   "cell_type": "markdown",
   "id": "69d2d947-c951-4bda-a573-0328042893ba",
   "metadata": {},
   "source": [
    "# 3) Eta_Distribution"
   ]
  },
  {
   "cell_type": "code",
   "execution_count": 56,
   "id": "1d63ea3f-b7b1-47ab-83d2-33398b6ff4f5",
   "metadata": {},
   "outputs": [],
   "source": [
    "fmeta2 = np.array(big_df5['fmeta'].tolist())\n",
    "fmphi2 = np.array(big_df5['fmphi'].tolist())\n",
    "fmpt2 = np.array(big_df5['fmpt'].tolist())"
   ]
  },
  {
   "cell_type": "code",
   "execution_count": 57,
   "id": "e341b68c-7d95-40ce-a712-42e4abfed7d6",
   "metadata": {},
   "outputs": [],
   "source": [
    "fmeta3 = big_df5['fmeta'].reset_index(drop=True)\n",
    "df_results['fmeta'] = fmeta3"
   ]
  },
  {
   "cell_type": "code",
   "execution_count": 58,
   "id": "18779137-851d-4e48-bc93-469b5a8ce57e",
   "metadata": {},
   "outputs": [
    {
     "data": {
      "text/plain": [
       "array([[-4.43267488,  5.46447563],\n",
       "       [ 4.6668272 , -4.72114325],\n",
       "       [ 4.19980621, -4.96893406],\n",
       "       ...,\n",
       "       [-5.02311897,  5.55747128],\n",
       "       [-4.84302855,  5.49044609],\n",
       "       [ 4.43363428, -4.98298073]])"
      ]
     },
     "execution_count": 58,
     "metadata": {},
     "output_type": "execute_result"
    }
   ],
   "source": [
    "fmeta2"
   ]
  },
  {
   "cell_type": "code",
   "execution_count": 59,
   "id": "37aab21f-2100-4c1c-886e-853e4a47d36b",
   "metadata": {},
   "outputs": [
    {
     "data": {
      "image/png": "[encoded data removed]",
      "text/plain": [
       "<Figure size 720x504 with 1 Axes>"
      ]
     },
     "metadata": {
      "needs_background": "light"
     },
     "output_type": "display_data"
    }
   ],
   "source": [
    "plt.figure(figsize=(10,7))\n",
    "plt.hist(fmeta2, histtype = 'step', bins =50)\n",
    "plt.show()"
   ]
  },
  {
   "cell_type": "markdown",
   "id": "4539c1ee-4293-44e7-9db9-6925ec809f24",
   "metadata": {},
   "source": [
    "# 4) Delta_Eta"
   ]
  },
  {
   "cell_type": "code",
   "execution_count": 60,
   "id": "65b843cc-d223-4fc8-8f7d-df3a6f08eab3",
   "metadata": {},
   "outputs": [],
   "source": [
    "def deltaeta(eta):\n",
    "    return np.abs((eta[:,0]) - (eta[:,1]))"
   ]
  },
  {
   "cell_type": "code",
   "execution_count": 61,
   "id": "e0479ced-c2ec-4859-9e8f-e9c3f84dc043",
   "metadata": {},
   "outputs": [],
   "source": [
    "deleta2 = deltaeta(fmeta2)"
   ]
  },
  {
   "cell_type": "code",
   "execution_count": 62,
   "id": "d71ff795-8936-4964-8d11-74e9f567791e",
   "metadata": {},
   "outputs": [],
   "source": [
    "df_results['del_fmeta'] = deleta2"
   ]
  },
  {
   "cell_type": "markdown",
   "id": "daaa5a44-2d19-4768-b92e-377ad37a7be5",
   "metadata": {},
   "source": [
    "# Plotting"
   ]
  },
  {
   "cell_type": "code",
   "execution_count": 63,
   "id": "36af13b0-3cc6-4b4a-9f27-10c0ce92f665",
   "metadata": {},
   "outputs": [
    {
     "data": {
      "image/png": "[encoded data removed]",
      "text/plain": [
       "<Figure size 720x504 with 1 Axes>"
      ]
     },
     "metadata": {
      "needs_background": "light"
     },
     "output_type": "display_data"
    }
   ],
   "source": [
    "plt.figure(figsize=(10,7))\n",
    "plt.hist(deleta2, histtype = 'step', bins =50)\n",
    "plt.show()"
   ]
  },
  {
   "cell_type": "markdown",
   "id": "20c7f5e2-0269-49ab-b4af-f044a5c87d2b",
   "metadata": {},
   "source": [
    "# 5) Delta_PHI"
   ]
  },
  {
   "cell_type": "code",
   "execution_count": 64,
   "id": "de1f30fc-ade5-441e-a56f-6d9f35479393",
   "metadata": {},
   "outputs": [],
   "source": [
    "def delphi(phi):\n",
    "    del_phi = np.abs(phi[:, 0] - phi[:, 1])\n",
    "    del_phi = np.where(del_phi > np.pi, 2*np.pi - del_phi, del_phi)\n",
    "    return del_phi"
   ]
  },
  {
   "cell_type": "code",
   "execution_count": 65,
   "id": "6d265576-7421-4536-a411-b6bec4eec2fc",
   "metadata": {},
   "outputs": [],
   "source": [
    "# def delphi(phi):\n",
    "#     del_phi = phi[:, 0] - phi[:, 1]\n",
    "#     del_phi = np.where(del_phi >= -np.pi, del_phi, del_phi + 2 * np.pi)\n",
    "#     del_phi = np.where(del_phi <= np.pi, del_phi, del_phi - 2 * np.pi)\n",
    "    \n",
    "#     return del_phi"
   ]
  },
  {
   "cell_type": "code",
   "execution_count": 66,
   "id": "32c68296-2975-4eb6-845f-c537aff1ccce",
   "metadata": {},
   "outputs": [],
   "source": [
    "delphi2 = delphi(fmphi2)"
   ]
  },
  {
   "cell_type": "code",
   "execution_count": 67,
   "id": "2ec7a942-a530-47e8-999b-9a9cbf6c3bb1",
   "metadata": {},
   "outputs": [],
   "source": [
    "df_results['del_phi'] = delphi2"
   ]
  },
  {
   "cell_type": "code",
   "execution_count": 68,
   "id": "32c25e03-f15d-4e9b-bea4-61d234ff9203",
   "metadata": {},
   "outputs": [
    {
     "data": {
      "image/png": "[encoded data removed]",
      "text/plain": [
       "<Figure size 720x504 with 1 Axes>"
      ]
     },
     "metadata": {
      "needs_background": "light"
     },
     "output_type": "display_data"
    }
   ],
   "source": [
    "plt.figure(figsize=(10, 7))  \n",
    "plt.hist(delphi2, bins=50, color='blue', alpha=0.7, histtype = 'step')\n",
    "plt.show()"
   ]
  },
  {
   "cell_type": "markdown",
   "id": "118c65c9-632d-490e-a20e-f577658db21a",
   "metadata": {},
   "source": [
    "# 6) Delta_R"
   ]
  },
  {
   "cell_type": "code",
   "execution_count": 69,
   "id": "ad5746ac-767d-47bb-acda-d1dfdaf0e8ce",
   "metadata": {},
   "outputs": [],
   "source": [
    "def delR(delPhi, delEta):\n",
    "    return np.sqrt(delphi**2 + delEta**2)"
   ]
  },
  {
   "cell_type": "code",
   "execution_count": 70,
   "id": "e7f5e6a4-f315-4fa3-b409-975ca2c2ba17",
   "metadata": {},
   "outputs": [],
   "source": [
    "delRfm = np.sqrt(delphi2**2 + deleta2**2)"
   ]
  },
  {
   "cell_type": "code",
   "execution_count": 71,
   "id": "21a62292-c8fe-4596-a02a-5f0a1a23f4dd",
   "metadata": {},
   "outputs": [],
   "source": [
    "df_results['delR_fm'] = delRfm"
   ]
  },
  {
   "cell_type": "code",
   "execution_count": 72,
   "id": "73b3db71-5564-428a-a085-23ef120bec05",
   "metadata": {},
   "outputs": [
    {
     "data": {
      "image/png": "[encoded data removed]",
      "text/plain": [
       "<Figure size 720x504 with 1 Axes>"
      ]
     },
     "metadata": {
      "needs_background": "light"
     },
     "output_type": "display_data"
    }
   ],
   "source": [
    "plt.figure(figsize=(10, 7))  \n",
    "plt.hist(delRfm, bins=50, color='blue', alpha=0.7, histtype = 'step')\n",
    "plt.show()"
   ]
  },
  {
   "cell_type": "markdown",
   "id": "28d411f8-52a1-43eb-b732-0637abb75974",
   "metadata": {},
   "source": [
    "# 7) Energy of Forward Muons"
   ]
  },
  {
   "cell_type": "code",
   "execution_count": 73,
   "id": "def27371-7f81-4fd1-ab45-9794db32e5b6",
   "metadata": {},
   "outputs": [],
   "source": [
    "Emin = np.min(Efm2, axis=1).reshape(-1,1)"
   ]
  },
  {
   "cell_type": "code",
   "execution_count": 74,
   "id": "f2f261fd-6c0b-4a55-8b7d-22057808d507",
   "metadata": {},
   "outputs": [],
   "source": [
    "Emax = np.max(Efm2, axis=1).reshape(-1,1)"
   ]
  },
  {
   "cell_type": "code",
   "execution_count": 75,
   "id": "22b21969",
   "metadata": {},
   "outputs": [],
   "source": [
    "totE = np.sum(Efm2, axis = 1).reshape(-1,1)"
   ]
  },
  {
   "cell_type": "code",
   "execution_count": 76,
   "id": "40803924-19b6-42c1-bd15-09f0e6130e6e",
   "metadata": {},
   "outputs": [],
   "source": [
    "df_results['Emin_fm'] = Emin\n",
    "df_results['Emax_fm'] = Emax\n",
    "df_results['totE_fm'] = totE"
   ]
  },
  {
   "cell_type": "code",
   "execution_count": 77,
   "id": "6e094e4a-1e9d-4d94-8423-1bf6e07f5c53",
   "metadata": {},
   "outputs": [
    {
     "data": {
      "image/png": "[encoded data removed]",
      "text/plain": [
       "<Figure size 720x504 with 1 Axes>"
      ]
     },
     "metadata": {
      "needs_background": "light"
     },
     "output_type": "display_data"
    }
   ],
   "source": [
    "plt.figure(figsize=(10, 7))  \n",
    "plt.hist(Emin, bins=50, color='blue', alpha=0.7, histtype = 'step')\n",
    "plt.hist(Emax, bins=50, color='red', alpha=0.7, histtype = 'step')\n",
    "plt.hist(totE, bins=50, color='cyan', alpha=0.7, histtype = 'step')\n",
    "plt.show()"
   ]
  },
  {
   "cell_type": "markdown",
   "id": "ce32ae63-18e1-4430-ac65-f8bb7240ed1c",
   "metadata": {},
   "source": [
    "# 8) P_T of forward muons"
   ]
  },
  {
   "cell_type": "code",
   "execution_count": 78,
   "id": "8f2a55c4-c882-44f6-90af-a0d2861f7261",
   "metadata": {},
   "outputs": [],
   "source": [
    "def PTMu(px, py):\n",
    "    return np.sqrt((px[:,0] + px[:,1])**2 +(py[:,0] + py[:,1])**2)"
   ]
  },
  {
   "cell_type": "code",
   "execution_count": 79,
   "id": "c5301a25-fbf4-416d-93f3-148f7418a747",
   "metadata": {},
   "outputs": [],
   "source": [
    "ptmu = PTMu(pxfm2, pyfm2)"
   ]
  },
  {
   "cell_type": "code",
   "execution_count": 80,
   "id": "c0f6524f-2052-4892-834b-63e958414f2d",
   "metadata": {},
   "outputs": [],
   "source": [
    "df_results['PT_fm'] = ptmu"
   ]
  },
  {
   "cell_type": "code",
   "execution_count": 81,
   "id": "4322aa85-db10-47da-897b-47fd7c96c547",
   "metadata": {},
   "outputs": [
    {
     "data": {
      "image/png": "[encoded data removed]",
      "text/plain": [
       "<Figure size 720x504 with 1 Axes>"
      ]
     },
     "metadata": {
      "needs_background": "light"
     },
     "output_type": "display_data"
    }
   ],
   "source": [
    "plt.figure(figsize=(10, 7))\n",
    "plt.hist(ptmu, histtype = 'step', bins =50)\n",
    "plt.show()"
   ]
  },
  {
   "cell_type": "markdown",
   "id": "5891a5c0-8c4b-4f3d-8d41-11fed373f9e3",
   "metadata": {},
   "source": [
    "# 9) Missing Transverse Energy MET"
   ]
  },
  {
   "cell_type": "code",
   "execution_count": 82,
   "id": "e32da2c9-8d24-4bf9-bfa3-a53525fc1095",
   "metadata": {},
   "outputs": [],
   "source": [
    "pxj2 = big_df5['pxj'].tolist()\n",
    "pyj2 = big_df5['pyj'].tolist()\n",
    "pxe2 = big_df5['pxe'].tolist()\n",
    "pye2 = big_df5['pye'].tolist()\n",
    "pxm2 = big_df5['pxm'].tolist()\n",
    "pym2 = big_df5['pym'].tolist()\n",
    "pxp2 = big_df5['pxp'].tolist()\n",
    "pyp2 = big_df5['pyp'].tolist()\n",
    "pxfm3 = big_df5['pxfm'].tolist()\n",
    "pyfm3 = big_df5['pyfm'].tolist()"
   ]
  },
  {
   "cell_type": "code",
   "execution_count": 83,
   "id": "8d8e2ed2-07e9-42ef-a290-985cdb4bfb4e",
   "metadata": {},
   "outputs": [],
   "source": [
    "tpx = ak.concatenate([pxj2, pxe2, pxm2, pxp2, pxfm2], axis=1)\n",
    "tpy = ak.concatenate([pyj2, pye2, pym2, pyp2, pyfm2], axis=1)"
   ]
  },
  {
   "cell_type": "code",
   "execution_count": 84,
   "id": "8cca13f9-b6df-4bb3-99aa-76e57da5c526",
   "metadata": {},
   "outputs": [],
   "source": [
    "sum_px = ak.sum(tpx, axis=1)\n",
    "sum_py = ak.sum(tpy, axis=1)"
   ]
  },
  {
   "cell_type": "code",
   "execution_count": 85,
   "id": "10bddd24-1faf-49b4-8bac-b55ae8471ba5",
   "metadata": {},
   "outputs": [],
   "source": [
    "MET = np.sqrt(sum_px**2 + sum_py**2)"
   ]
  },
  {
   "cell_type": "code",
   "execution_count": 86,
   "id": "55d7cc58-b72c-4b45-89fa-45d49109105f",
   "metadata": {},
   "outputs": [],
   "source": [
    "df_results['MET'] = MET"
   ]
  },
  {
   "cell_type": "code",
   "execution_count": 87,
   "id": "9d29d6ee-67dc-45b4-87bd-6a2d58727f25",
   "metadata": {},
   "outputs": [
    {
     "data": {
      "image/png": "[encoded data removed]",
      "text/plain": [
       "<Figure size 720x504 with 1 Axes>"
      ]
     },
     "metadata": {
      "needs_background": "light"
     },
     "output_type": "display_data"
    }
   ],
   "source": [
    "plt.figure(figsize=(10, 7))  \n",
    "plt.hist(MET, bins=50, histtype ='step')\n",
    "plt.show()"
   ]
  },
  {
   "cell_type": "markdown",
   "id": "962b0bf7-dbb2-421c-af8b-87b0483be6f2",
   "metadata": {},
   "source": [
    "# Saving the data frames"
   ]
  },
  {
   "cell_type": "code",
   "execution_count": 1,
   "id": "4f85ee0f-edd6-42a8-a92a-2503a25dee27",
   "metadata": {},
   "outputs": [],
   "source": [
    "# df_results.to_pickle('/home/chandrima/IDM_MuC/Results_new/IDM_BKG_higgs_dist.pkl')"
   ]
  },
  {
   "cell_type": "code",
   "execution_count": 89,
   "id": "6fc7e025-7345-4388-8857-622d19407e72",
   "metadata": {},
   "outputs": [],
   "source": [
    "# big_df5.to_pickle('/home/chandrima/IDM_MuC/Results_new/IDM_BKG_wpwm_param.pkl')"
   ]
  },
  {
   "cell_type": "code",
   "execution_count": 90,
   "id": "a1fb7857",
   "metadata": {},
   "outputs": [
    {
     "name": "stdout",
     "output_type": "stream",
     "text": [
      "4.039066692193349\n"
     ]
    }
   ],
   "source": [
    "t2 = time.time()\n",
    "print((t2-t1)/60)"
   ]
  },
  {
   "cell_type": "code",
   "execution_count": 91,
   "id": "2198cc9e-508c-4497-ac42-e0fc411c4442",
   "metadata": {},
   "outputs": [],
   "source": [
    "# # 4. No leptons and Jets in Central region (Missing Energy)\n",
    "# big_df5 = big_df4[(big_df4['jet_num'] == 0) & (big_df4['e_num'] == 0) & (big_df4['m_num'] == 0)]\n",
    "# len(big_df5)"
   ]
  }
 ],
 "metadata": {
  "kernelspec": {
   "display_name": "Python 3",
   "language": "python",
   "name": "python3"
  },
  "language_info": {
   "codemirror_mode": {
    "name": "ipython",
    "version": 3
   },
   "file_extension": ".py",
   "mimetype": "text/x-python",
   "name": "python",
   "nbconvert_exporter": "python",
   "pygments_lexer": "ipython3",
   "version": "3.10.12"
  }
 },
 "nbformat": 4,
 "nbformat_minor": 5
}
